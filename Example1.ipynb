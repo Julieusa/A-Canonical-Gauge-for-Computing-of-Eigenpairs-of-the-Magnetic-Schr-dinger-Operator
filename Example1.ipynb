{
 "cells": [
  {
   "cell_type": "markdown",
   "id": "efda1087-c20d-4ad3-b5a8-b94a009fe035",
   "metadata": {},
   "source": [
    "This code is for Example 1 when $A = -100(x^2+y^2, x^2-y^2)$"
   ]
  },
  {
   "cell_type": "markdown",
   "id": "a8de3d6b-9724-40b4-ac27-819134419732",
   "metadata": {},
   "source": [
    "# This section is to display the graph of A and F"
   ]
  },
  {
   "cell_type": "code",
   "execution_count": 1,
   "id": "f80d134a-53db-4857-96d8-e5d6e47afe52",
   "metadata": {},
   "outputs": [
    {
     "data": {
      "application/vnd.jupyter.widget-view+json": {
       "model_id": "892ff69bf0224dd2add874672a96eb51",
       "version_major": 2,
       "version_minor": 0
      },
      "text/plain": [
       "WebGuiWidget(layout=Layout(height='50vh', width='100%'), value={'gui_settings': {}, 'ngsolve_version': '6.2.23…"
      ]
     },
     "metadata": {},
     "output_type": "display_data"
    },
    {
     "data": {
      "application/vnd.jupyter.widget-view+json": {
       "model_id": "ff881a6d3664438884661fe7d1a8f9d9",
       "version_major": 2,
       "version_minor": 0
      },
      "text/plain": [
       "WebGuiWidget(layout=Layout(height='50vh', width='100%'), value={'gui_settings': {}, 'ngsolve_version': '6.2.23…"
      ]
     },
     "metadata": {},
     "output_type": "display_data"
    },
    {
     "data": {
      "text/plain": [
       "BaseWebGuiScene"
      ]
     },
     "execution_count": 1,
     "metadata": {},
     "output_type": "execute_result"
    }
   ],
   "source": [
    "from ngsolve import *\n",
    "from ngsolve.webgui import Draw\n",
    "from netgen.occ import *\n",
    "\n",
    "# Generate computation domain (-1,1) x (-1,1)\n",
    "domain = WorkPlane().MoveTo(-1,-1).Rectangle(2,2).Face()\n",
    "geo = OCCGeometry(domain, dim = 2)\n",
    "# Generate a triangular mesh of mesh-size 0.01, modify maxh value for resutls with h=0.03 and h=0.05\n",
    "mesh = Mesh(geo.GenerateMesh(maxh=0.05))\n",
    "\n",
    "# Define vector field A and FEM space for solving the Neumann problem, fix the local polynomial degree at p=3\n",
    "a =100\n",
    "A = CF((-a*(x**2 + y**2), -a*(x**2 - y**2)))\n",
    "X = H1(mesh, order=3)\n",
    "N = NumberSpace(mesh)\n",
    "fesm = X*N\n",
    "\n",
    "# Define trial-function, test-function, and the variation form \n",
    "u, lam = fesm.TrialFunction()\n",
    "v, c = fesm.TestFunction()\n",
    "gfm = GridFunction(fesm)\n",
    "gfu, gflam = gfm.components\n",
    "\n",
    "a = BilinearForm(fesm)\n",
    "a += lam*v*dx + grad(u)*grad(v)*dx + u*c*dx\n",
    "a.Assemble()\n",
    "f = LinearForm(A*grad(v)*dx).Assemble()\n",
    "\n",
    "# the solution field\n",
    "gfm.vec.data = a.mat.Inverse() * f.vec\n",
    "# Draw(gfu, mesh);\n",
    "\n",
    "F = A - grad(gfu)\n",
    "F0x, F1x = F.Diff(x)\n",
    "F0y, F1y = F.Diff(y)\n",
    "Draw(A, mesh,vector=True)\n",
    "Draw(F, mesh,vector=True)"
   ]
  },
  {
   "cell_type": "markdown",
   "id": "d652a9ad-e177-42c4-b394-2a0ba23ef9f5",
   "metadata": {},
   "source": [
    "Calculate the $L^2$ norm for A and F"
   ]
  },
  {
   "cell_type": "code",
   "execution_count": 34,
   "id": "d888c697-f629-49d2-9cd6-62248c1239f3",
   "metadata": {},
   "outputs": [
    {
     "data": {
      "text/plain": [
       "(178.88543819998287, 70.35843969247841)"
      ]
     },
     "execution_count": 34,
     "metadata": {},
     "output_type": "execute_result"
    }
   ],
   "source": [
    "sqrt(Integrate(A*A, mesh)), sqrt(Integrate(F*F, mesh))"
   ]
  },
  {
   "cell_type": "markdown",
   "id": "9979c57b-4806-45d2-80ba-55c7bcebac4f",
   "metadata": {},
   "source": [
    "# This section is to calculate the eigenpairs for H(A)"
   ]
  },
  {
   "cell_type": "code",
   "execution_count": 2,
   "id": "6d865a60-a252-474c-950a-a6a4396be16f",
   "metadata": {},
   "outputs": [
    {
     "name": "stdout",
     "output_type": "stream",
     "text": [
      "\n",
      "SpectralProj: Setting shifted trapezoidal rule quadrature on circular contour\n",
      "SpectralProj: Radius=25, Center=51+0j\n",
      "\n",
      "SpectralProjNG: Computing resolvents using umfpack\n",
      "SpectralProjNG:   Factorizing at z = +74.776 +7.725j\n",
      "SpectralProjNG:   Factorizing at z = +65.695+20.225j\n",
      "SpectralProjNG:   Factorizing at z = +51.000+25.000j\n",
      "SpectralProjNG:   Factorizing at z = +36.305+20.225j\n",
      "SpectralProjNG:   Factorizing at z = +27.224 +7.725j\n",
      "SpectralProjNG:   Factorizing at z = +27.224 -7.725j\n",
      "SpectralProjNG:   Factorizing at z = +36.305-20.225j\n",
      "SpectralProjNG:   Factorizing at z = +51.000-25.000j\n",
      "SpectralProjNG:   Factorizing at z = +65.695-20.225j\n",
      "SpectralProjNG:   Factorizing at z = +74.776 -7.725j\n",
      "\n",
      "=========== Starting FEAST iterations ===========\n",
      "Trying with 8 vectors:\n",
      "\n",
      " ITERATION 1 with 8 vectors\n",
      "   Real part of computed eigenvalues:\n",
      "   [27.06743726 34.34300975 45.77365098 60.06938623 73.08724287 75.24756574\n",
      " 78.32923333 86.25649047]\n",
      "   Relative Hausdorff distance from prior iterate: 1.961e+98\n",
      "\n",
      " ITERATION 2 with 8 vectors\n",
      "   Real part of computed eigenvalues:\n",
      "   [27.05022153 34.33342866 45.74997962 60.06414635 73.07506058 75.20479705\n",
      " 78.2502707  85.91412305]\n",
      "   Relative Hausdorff distance from prior iterate: 6.713e-03\n",
      "\n",
      " ITERATION 3 with 8 vectors\n",
      "   Real part of computed eigenvalues:\n",
      "   [27.05021067 34.33342634 45.74997455 60.06414535 73.07505601 75.20476628\n",
      " 78.25005893 85.90447382]\n",
      "   Relative Hausdorff distance from prior iterate: 1.892e-04\n",
      "\n",
      "   Removing ew#[6, 7] not enclosed by contour\n",
      " ITERATION 4 with 6 vectors\n",
      "   Real part of computed eigenvalues:\n",
      "   [27.05021067 34.33342634 45.74997455 60.06414535 73.07505601 75.20476626]\n",
      "   Relative Hausdorff distance from prior iterate: 4.321e-10\n",
      "\n",
      "\n",
      "***FEAST converged with:\n",
      "\tRelative Hausdorff distance = 4.321e-10\n",
      "\n",
      "============= FEAST iterations done =============\n",
      "Total Time 4.184248208999634 FEAST Time 3.380089282989502\n"
     ]
    },
    {
     "data": {
      "application/vnd.jupyter.widget-view+json": {
       "model_id": "0588e0dbba284f4780bcfb0ce73fadd9",
       "version_major": 2,
       "version_minor": 0
      },
      "text/plain": [
       "WebGuiWidget(layout=Layout(height='50vh', width='100%'), value={'gui_settings': {}, 'ngsolve_version': '6.2.23…"
      ]
     },
     "metadata": {},
     "output_type": "display_data"
    },
    {
     "data": {
      "text/plain": [
       "BaseWebGuiScene"
      ]
     },
     "execution_count": 2,
     "metadata": {},
     "output_type": "execute_result"
    }
   ],
   "source": [
    "import time\n",
    "from ngsolve import *\n",
    "from ngsolve.webgui import Draw\n",
    "from netgen.occ import *\n",
    "from pyeigfeast import NGvecs, SpectralProjNG\n",
    "\n",
    "start1 = time.time()\n",
    "a = 100\n",
    "A = CF((-a*(x**2 + y**2), -a*(x**2 - y**2)))\n",
    "domain = WorkPlane().MoveTo(-1,-1).Rectangle(2,2).Face()\n",
    "geo = OCCGeometry(domain, dim = 2)\n",
    "mesh = Mesh(geo.GenerateMesh(maxh=0.05))\n",
    "\n",
    "X = H1(mesh, order=3, complex=True, dirichlet = '.*')\n",
    "psi, phi = X.TnT()\n",
    "a3 = BilinearForm(X)\n",
    "a3 += grad(psi) * grad(phi) * dx +  1j * InnerProduct(A,grad(phi)) * psi * dx - 1j * InnerProduct(A , grad(psi)) * phi * dx \\\n",
    "       + InnerProduct(A,A)* psi * phi *dx\n",
    "b3 = BilinearForm(X)\n",
    "b3 += psi * phi * dx\n",
    "a3.Assemble()\n",
    "b3.Assemble()\n",
    "\n",
    "# Use FEAST algorithm for computing eigenvalues \n",
    "seed =1\n",
    "npts=10\n",
    "nspan=8\n",
    "within=None\n",
    "rhoinv=0.0\n",
    "quadrule='circ_trapez_shift'\n",
    "verbose=True\n",
    "# Make the spectral projector object, change radius and center values for the searching range of eigenvalues.\n",
    "# When h=0.01, radius = 21, center = 45; When h=0.03, radius = 24, center = 50; When h=0.05, radius = 25, center = 51\n",
    "P = SpectralProjNG(X,\n",
    "                   a3.mat,\n",
    "                   b3.mat,\n",
    "                   radius=25, \n",
    "                   center=51, \n",
    "                   npts=npts,\n",
    "                   within=within,\n",
    "                   rhoinv=rhoinv,\n",
    "                   quadrule=quadrule,\n",
    "                   inverse=None)\n",
    "Y = NGvecs(X, nspan, M=b3.mat)\n",
    "Y.setrandom(seed=seed)\n",
    "start2 = time.time()\n",
    "lam, Y, history, _ = P.feast(Y)\n",
    "end = time.time()\n",
    "print(\"Total Time\", end - start1, \"FEAST Time\", end - start2)\n",
    "# Plot eigenvectors\n",
    "y = Y.gridfun()\n",
    "Draw(y)"
   ]
  },
  {
   "cell_type": "markdown",
   "id": "0d67ee4c-f5a7-4849-8506-c4bc6dfbeae3",
   "metadata": {},
   "source": [
    "Calculate the degree of freedom "
   ]
  },
  {
   "cell_type": "code",
   "execution_count": 3,
   "id": "0b1811cd-3570-4952-97cb-f5d2d7e40488",
   "metadata": {},
   "outputs": [
    {
     "data": {
      "text/plain": [
       "17017"
      ]
     },
     "execution_count": 3,
     "metadata": {},
     "output_type": "execute_result"
    }
   ],
   "source": [
    "X.ndof "
   ]
  },
  {
   "cell_type": "markdown",
   "id": "d39f8ba2-e30b-468b-893b-4346f4b79cde",
   "metadata": {},
   "source": [
    "Calculate the $L^2$ norm of $\\nabla \\psi$ and $A\\psi$"
   ]
  },
  {
   "cell_type": "code",
   "execution_count": 4,
   "id": "5b574c28-32e8-4528-a03e-123152a8ed7c",
   "metadata": {},
   "outputs": [
    {
     "name": "stdout",
     "output_type": "stream",
     "text": [
      "(19.59921071993408+0j) (19.381796935332552+0j)\n",
      "(31.58120755194521+0j) (31.43313311010435+0j)\n",
      "(36.88016745237048+0j) (36.734618731143506+0j)\n",
      "(39.33458914171667+0j) (39.17315258152171+0j)\n",
      "(22.536560545487728+0j) (22.00173175245896+0j)\n",
      "(40.34135608483897+0j) (40.14788771744621+0j)\n"
     ]
    }
   ],
   "source": [
    "for i in range(0,6):\n",
    "    psi = GridFunction(X)\n",
    "    psi.Set(y.MDComponent(i))\n",
    "    print(sqrt(Integrate(grad(psi)*Conj(grad(psi)), mesh)), sqrt(Integrate(A*psi*Conj(A*psi), mesh)))"
   ]
  },
  {
   "cell_type": "markdown",
   "id": "4057941c-80cd-4ca3-b8fe-a9879d6b5a78",
   "metadata": {},
   "source": [
    "# This section is to calculate the eigenpairs for H(F)"
   ]
  },
  {
   "cell_type": "code",
   "execution_count": 6,
   "id": "ead4ed5c-1d0b-4e86-b31b-e4a4c1371600",
   "metadata": {},
   "outputs": [
    {
     "name": "stdout",
     "output_type": "stream",
     "text": [
      "\n",
      "SpectralProj: Setting shifted trapezoidal rule quadrature on circular contour\n",
      "SpectralProj: Radius=21, Center=45+0j\n",
      "\n",
      "SpectralProjNG: Computing resolvents using umfpack\n",
      "SpectralProjNG:   Factorizing at z = +64.972 +6.489j\n",
      "SpectralProjNG:   Factorizing at z = +57.343+16.989j\n",
      "SpectralProjNG:   Factorizing at z = +45.000+21.000j\n",
      "SpectralProjNG:   Factorizing at z = +32.657+16.989j\n",
      "SpectralProjNG:   Factorizing at z = +25.028 +6.489j\n",
      "SpectralProjNG:   Factorizing at z = +25.028 -6.489j\n",
      "SpectralProjNG:   Factorizing at z = +32.657-16.989j\n",
      "SpectralProjNG:   Factorizing at z = +45.000-21.000j\n",
      "SpectralProjNG:   Factorizing at z = +57.343-16.989j\n",
      "SpectralProjNG:   Factorizing at z = +64.972 -6.489j\n",
      "\n",
      "=========== Starting FEAST iterations ===========\n",
      "Trying with 6 vectors:\n",
      "\n",
      " ITERATION 1 with 6 vectors\n",
      "   Real part of computed eigenvalues:\n",
      "   [26.58957775 29.94979222 36.33495373 44.5301457  54.73092191 65.85031033]\n",
      "   Relative Hausdorff distance from prior iterate: 2.222e+98\n",
      "\n",
      " ITERATION 2 with 6 vectors\n",
      "   Real part of computed eigenvalues:\n",
      "   [26.07735539 29.74950943 36.13087902 44.51021501 54.7188932  65.8235749 ]\n",
      "   Relative Hausdorff distance from prior iterate: 1.138e-02\n",
      "\n",
      " ITERATION 3 with 6 vectors\n",
      "   Real part of computed eigenvalues:\n",
      "   [26.0736322  29.7486621  36.13004891 44.51015263 54.71886248 65.82324762]\n",
      "   Relative Hausdorff distance from prior iterate: 8.274e-05\n",
      "\n",
      " ITERATION 4 with 6 vectors\n",
      "   Real part of computed eigenvalues:\n",
      "   [26.07360268 29.74865803 36.13004521 44.51015236 54.71886235 65.82324249]\n",
      "   Relative Hausdorff distance from prior iterate: 6.560e-07\n",
      "\n",
      " ITERATION 5 with 6 vectors\n",
      "   Real part of computed eigenvalues:\n",
      "   [26.07360244 29.74865801 36.13004519 44.51015236 54.71886235 65.8232424 ]\n",
      "   Relative Hausdorff distance from prior iterate: 5.354e-09\n",
      "\n",
      " ITERATION 6 with 6 vectors\n",
      "   Real part of computed eigenvalues:\n",
      "   [26.07360244 29.74865801 36.13004519 44.51015236 54.71886235 65.8232424 ]\n",
      "   Relative Hausdorff distance from prior iterate: 4.391e-11\n",
      "\n",
      "\n",
      "***FEAST converged with:\n",
      "\tRelative Hausdorff distance = 4.391e-11\n",
      "\n",
      "============= FEAST iterations done =============\n",
      "Total Time 4.636651039123535 FEAST Time 3.7125449180603027\n"
     ]
    },
    {
     "data": {
      "application/vnd.jupyter.widget-view+json": {
       "model_id": "4228d7cb16864804bec2a1bc1fc95b2b",
       "version_major": 2,
       "version_minor": 0
      },
      "text/plain": [
       "WebGuiWidget(layout=Layout(height='50vh', width='100%'), value={'gui_settings': {}, 'ngsolve_version': '6.2.23…"
      ]
     },
     "metadata": {},
     "output_type": "display_data"
    },
    {
     "data": {
      "text/plain": [
       "BaseWebGuiScene"
      ]
     },
     "execution_count": 6,
     "metadata": {},
     "output_type": "execute_result"
    }
   ],
   "source": [
    "import time\n",
    "from ngsolve import *\n",
    "from ngsolve.webgui import Draw\n",
    "from netgen.occ import *\n",
    "from pyeigfeast import NGvecs, SpectralProjNG\n",
    "\n",
    "start1 = time.time()\n",
    "a = 100\n",
    "A = CF((-a*(x**2 + y**2), -a*(x**2 - y**2)))\n",
    "\n",
    "domain = WorkPlane().MoveTo(-1,-1).Rectangle(2,2).Face()\n",
    "geo = OCCGeometry(domain, dim = 2)\n",
    "mesh = Mesh(geo.GenerateMesh(maxh=0.05))\n",
    "X = H1(mesh, order=3)\n",
    "N = NumberSpace(mesh)\n",
    "fesm = X*N\n",
    "# fesm.ndof\n",
    "u, lam = fesm.TrialFunction()\n",
    "v, c = fesm.TestFunction()\n",
    "gfm = GridFunction(fesm)  \n",
    "gfu, gflam = gfm.components\n",
    "\n",
    "a = BilinearForm(fesm)\n",
    "a += lam*v*dx + grad(u)*grad(v)*dx + u*c*dx\n",
    "a.Assemble()\n",
    "f = LinearForm(A*grad(v)*dx).Assemble()\n",
    "\n",
    "gfm.vec.data = a.mat.Inverse() * f.vec\n",
    "F = A - grad(gfu)\n",
    "\n",
    "Xeig = H1(mesh, order=3, complex = True, dirichlet = '.*')\n",
    "psi, phi = Xeig.TnT()\n",
    "a2 = BilinearForm(Xeig)\n",
    "a2 += grad(psi) * grad(phi) * dx + 1j *  InnerProduct(F,grad(phi)) * psi * dx - 1j * InnerProduct(F , grad(psi)) * phi * dx\\\n",
    "    +  InnerProduct(F, F)* psi * phi *dx\n",
    "b2 = BilinearForm(Xeig)\n",
    "\n",
    "b2 += psi * phi * dx\n",
    "a2.Assemble()\n",
    "b2.Assemble()\n",
    "\n",
    "# Make the spectral projector object, radius = 21, center = 45 for all h\n",
    "seed =1\n",
    "npts=10\n",
    "nspan=6\n",
    "within=None\n",
    "rhoinv=0.0\n",
    "quadrule='circ_trapez_shift'\n",
    "verbose=True\n",
    "P = SpectralProjNG(Xeig,\n",
    "                a2.mat,\n",
    "                b2.mat,\n",
    "                radius=21,\n",
    "                center=45,\n",
    "                npts=npts,\n",
    "                within=within,\n",
    "                rhoinv=rhoinv,\n",
    "                quadrule=quadrule,\n",
    "                inverse=None)\n",
    "Y = NGvecs(Xeig, nspan, M=b2.mat)\n",
    "Y.setrandom(seed=seed)\n",
    "start2 = time.time()\n",
    "lam, Y, history, _ = P.feast(Y)\n",
    "end = time.time()\n",
    "print(\"Total Time\", end - start1, \"FEAST Time\", end - start2)\n",
    "# Plot eigenvectors\n",
    "y1 = Y.gridfun()\n",
    "Draw(y1)"
   ]
  },
  {
   "cell_type": "markdown",
   "id": "7955483f-80df-47de-922b-a6886dd1cc9a",
   "metadata": {},
   "source": [
    "Calculate the $L^2$ norm of $\\nabla \\phi$ and $F\\phi$"
   ]
  },
  {
   "cell_type": "code",
   "execution_count": 32,
   "id": "756b73a0-cf87-408a-85ea-088877e19eaa",
   "metadata": {},
   "outputs": [
    {
     "name": "stdout",
     "output_type": "stream",
     "text": [
      "(33.86279130204669+0j) (33.742883827513026+0j)\n",
      "(26.502209831240194+0j) (26.248030593668215+0j)\n",
      "(27.605106688924973+0j) (27.252828843856214+0j)\n",
      "(27.54320023650021+0j) (27.02106185272123+0j)\n",
      "(27.60503594993768+0j) (26.908753339204793+0j)\n",
      "(27.535473821535614+0j) (26.662445495388514+0j)\n"
     ]
    }
   ],
   "source": [
    "for i in range(0,6):\n",
    "    phi = GridFunction(Xeig)\n",
    "    phi.Set(y1.MDComponent(i))\n",
    "    print(sqrt(Integrate(grad(phi)*Conj(grad(phi)), mesh)), sqrt(Integrate(F*phi*Conj(F*phi), mesh)))"
   ]
  }
 ],
 "metadata": {
  "kernelspec": {
   "display_name": "Python 3 (ipykernel)",
   "language": "python",
   "name": "python3"
  },
  "language_info": {
   "codemirror_mode": {
    "name": "ipython",
    "version": 3
   },
   "file_extension": ".py",
   "mimetype": "text/x-python",
   "name": "python",
   "nbconvert_exporter": "python",
   "pygments_lexer": "ipython3",
   "version": "3.8.0"
  }
 },
 "nbformat": 4,
 "nbformat_minor": 5
}

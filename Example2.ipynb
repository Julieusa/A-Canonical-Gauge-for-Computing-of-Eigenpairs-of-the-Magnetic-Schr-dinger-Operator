{
 "cells": [
  {
   "cell_type": "markdown",
   "id": "2f158b5c-c288-4430-89db-7e1142345cf1",
   "metadata": {},
   "source": [
    "This code is for Example 2a when $A = -100(\\cos( f_1)\\sin(f_2), \\sin(f_1)\\cos(f_2)))$, where $f_1 = 5\\pi \\sin(x^2 + y^2), f_2 =5\\pi \\cos(x^2 + y^2)$"
   ]
  },
  {
   "cell_type": "markdown",
   "id": "b8146861-0b9b-4e2d-b2c9-4c2f74fff45a",
   "metadata": {},
   "source": [
    "# This section is to display the graph of A and F"
   ]
  },
  {
   "cell_type": "code",
   "execution_count": 1,
   "id": "a29ae2f6-a9f9-4302-a26d-f5a93441a301",
   "metadata": {},
   "outputs": [
    {
     "data": {
      "application/vnd.jupyter.widget-view+json": {
       "model_id": "10189b08db1c4c36bd686e7007c8b034",
       "version_major": 2,
       "version_minor": 0
      },
      "text/plain": [
       "WebGuiWidget(layout=Layout(height='50vh', width='100%'), value={'gui_settings': {}, 'ngsolve_version': '6.2.23…"
      ]
     },
     "metadata": {},
     "output_type": "display_data"
    },
    {
     "data": {
      "application/vnd.jupyter.widget-view+json": {
       "model_id": "b4cf2844944646228840bab1cbbcffe3",
       "version_major": 2,
       "version_minor": 0
      },
      "text/plain": [
       "WebGuiWidget(layout=Layout(height='50vh', width='100%'), value={'gui_settings': {}, 'ngsolve_version': '6.2.23…"
      ]
     },
     "metadata": {},
     "output_type": "display_data"
    },
    {
     "data": {
      "application/vnd.jupyter.widget-view+json": {
       "model_id": "273906fee95e4d2eb57cec515f8febe5",
       "version_major": 2,
       "version_minor": 0
      },
      "text/plain": [
       "WebGuiWidget(layout=Layout(height='50vh', width='100%'), value={'gui_settings': {}, 'ngsolve_version': '6.2.23…"
      ]
     },
     "metadata": {},
     "output_type": "display_data"
    },
    {
     "data": {
      "text/plain": [
       "BaseWebGuiScene"
      ]
     },
     "execution_count": 1,
     "metadata": {},
     "output_type": "execute_result"
    }
   ],
   "source": [
    "import time\n",
    "from ngsolve import *\n",
    "from ngsolve.webgui import Draw\n",
    "from netgen.occ import *\n",
    "\n",
    "# Generate computation domain (-1,1) x (-1,1)\n",
    "domain = WorkPlane().MoveTo(-1, -1).Rectangle(2,2).Face()\n",
    "geo = OCCGeometry(domain, dim = 2)\n",
    "# Generate a triangular mesh of mesh-size 0.01, modify maxh value for resutls with h=0.03 and h=0.05\n",
    "mesh = Mesh(geo.GenerateMesh(maxh=0.01))\n",
    "\n",
    "# Define vector field A and FEM space for solving the Neumann problem, fix the local polynomial degree at p=3\n",
    "a =100\n",
    "A = CF((-a*cos(5*pi*sin(x**2 + y**2))*sin(5*pi*cos(x**2 + y**2)), -a*sin(5*pi*sin(x**2 + y**2))*cos(5*pi*cos(x**2 + y**2))))\n",
    "X = H1(mesh, order=3)\n",
    "N = NumberSpace(mesh)\n",
    "fesm = X*N\n",
    "\n",
    "# Define trial-function, test-function, and the variation form \n",
    "u, lam = fesm.TrialFunction()\n",
    "v, c = fesm.TestFunction()\n",
    "gfm = GridFunction(fesm)  # solution\n",
    "gfu, gflam = gfm.components\n",
    "\n",
    "a = BilinearForm(fesm)\n",
    "a += lam*v*dx + grad(u)*grad(v)*dx + u*c*dx\n",
    "a.Assemble()\n",
    "f = LinearForm(A*grad(v)*dx).Assemble()\n",
    "\n",
    "# the solution field\n",
    "gfm.vec.data = a.mat.Inverse() * f.vec\n",
    "Draw(gfu, mesh); \n",
    "\n",
    "F = A - grad(gfu)\n",
    "F0x, F1x = F.Diff(x)\n",
    "F0y, F1y = F.Diff(y)\n",
    "Draw(A, mesh,vector=True)\n",
    "Draw(F, mesh,vector=True)"
   ]
  },
  {
   "cell_type": "markdown",
   "id": "eb2709ab-9a1b-405e-8886-5aa768182c3f",
   "metadata": {},
   "source": [
    "Calculate the $L^2$ norm for A and F"
   ]
  },
  {
   "cell_type": "code",
   "execution_count": 2,
   "id": "c798577d-61d9-4bce-ba25-fb01fe836b6d",
   "metadata": {},
   "outputs": [
    {
     "data": {
      "text/plain": [
       "(130.64359041675533, 89.86141987877336)"
      ]
     },
     "execution_count": 2,
     "metadata": {},
     "output_type": "execute_result"
    }
   ],
   "source": [
    "sqrt(Integrate(A*A, mesh)), sqrt(Integrate(F*F, mesh))"
   ]
  },
  {
   "cell_type": "markdown",
   "id": "af9aa5f4-9199-4e7c-bc6a-59a4ac875d75",
   "metadata": {},
   "source": [
    "# This section is to calculate the eigenpairs for H(A)"
   ]
  },
  {
   "cell_type": "code",
   "execution_count": 3,
   "id": "f80d134a-53db-4857-96d8-e5d6e47afe52",
   "metadata": {
    "scrolled": true
   },
   "outputs": [
    {
     "name": "stdout",
     "output_type": "stream",
     "text": [
      "\n",
      "SpectralProj: Setting shifted trapezoidal rule quadrature on circular contour\n",
      "SpectralProj: Radius=50, Center=150+0j\n",
      "\n",
      "SpectralProjNG: Computing resolvents using umfpack\n",
      "SpectralProjNG:   Factorizing at z = +197.553+15.451j\n",
      "SpectralProjNG:   Factorizing at z = +179.389+40.451j\n",
      "SpectralProjNG:   Factorizing at z = +150.000+50.000j\n",
      "SpectralProjNG:   Factorizing at z = +120.611+40.451j\n",
      "SpectralProjNG:   Factorizing at z = +102.447+15.451j\n",
      "SpectralProjNG:   Factorizing at z = +102.447-15.451j\n",
      "SpectralProjNG:   Factorizing at z = +120.611-40.451j\n",
      "SpectralProjNG:   Factorizing at z = +150.000-50.000j\n",
      "SpectralProjNG:   Factorizing at z = +179.389-40.451j\n",
      "SpectralProjNG:   Factorizing at z = +197.553-15.451j\n",
      "\n",
      "=========== Starting FEAST iterations ===========\n",
      "Trying with 8 vectors:\n",
      "\n",
      " ITERATION 1 with 8 vectors\n",
      "   Real part of computed eigenvalues:\n",
      "   [105.46974925 122.46392149 156.53657498 180.32015424 196.59275662\n",
      " 197.37313798 198.70568967 201.49648963]\n",
      "   Relative Hausdorff distance from prior iterate: 6.667e+97\n",
      "\n",
      " ITERATION 2 with 8 vectors\n",
      "   Real part of computed eigenvalues:\n",
      "   [105.31319289 115.19569864 155.06101679 178.15119901 196.58911984\n",
      " 197.00997178 198.33573617 201.49311785]\n",
      "   Relative Hausdorff distance from prior iterate: 4.845e-02\n",
      "\n",
      " ITERATION 3 with 8 vectors\n",
      "   Real part of computed eigenvalues:\n",
      "   [104.79562988 112.4471514  154.69905348 177.62781277 196.58911857\n",
      " 196.78597525 198.22457248 201.49311626]\n",
      "   Relative Hausdorff distance from prior iterate: 1.832e-02\n",
      "\n",
      "   Removing ew#[7] not enclosed by contour\n",
      " ITERATION 4 with 7 vectors\n",
      "   Real part of computed eigenvalues:\n",
      "   [104.38014176 111.80150701 154.62483267 177.5203024  196.58911838\n",
      " 196.67464674 198.1757933 ]\n",
      "   Relative Hausdorff distance from prior iterate: 4.304e-03\n",
      "\n",
      " ITERATION 5 with 7 vectors\n",
      "   Real part of computed eigenvalues:\n",
      "   [104.18976442 111.66609913 154.61066284 177.49957368 196.58911794\n",
      " 196.62500362 198.15229186]\n",
      "   Relative Hausdorff distance from prior iterate: 1.269e-03\n",
      "\n",
      " ITERATION 6 with 7 vectors\n",
      "   Real part of computed eigenvalues:\n",
      "   [104.11476885 111.63787648 154.60802768 177.49568715 196.58911685\n",
      " 196.60392254 198.14048672]\n",
      "   Relative Hausdorff distance from prior iterate: 5.000e-04\n",
      "\n",
      " ITERATION 7 with 7 vectors\n",
      "   Real part of computed eigenvalues:\n",
      "   [104.08637472 111.63197968 154.60754293 177.49496753 196.58911419\n",
      " 196.59517321 198.13445479]\n",
      "   Relative Hausdorff distance from prior iterate: 1.893e-04\n",
      "\n",
      " ITERATION 8 with 7 vectors\n",
      "   Real part of computed eigenvalues:\n",
      "   [104.07574938 111.63074642 154.60745419 177.49483503 196.58910766\n",
      " 196.59158529 198.13135216]\n",
      "   Relative Hausdorff distance from prior iterate: 7.084e-05\n",
      "\n",
      " ITERATION 9 with 7 vectors\n",
      "   Real part of computed eigenvalues:\n",
      "   [104.07178906 111.63048846 154.60743798 177.4948107  196.58909185\n",
      " 196.59013244 198.12975229]\n",
      "   Relative Hausdorff distance from prior iterate: 2.640e-05\n",
      "\n",
      " ITERATION 10 with 7 vectors\n",
      "   Real part of computed eigenvalues:\n",
      "   [104.07031521 111.63043452 154.60743502 177.49480624 196.58905808\n",
      " 196.58956761 198.12892659]\n",
      "   Relative Hausdorff distance from prior iterate: 9.826e-06\n",
      "\n",
      " ITERATION 11 with 7 vectors\n",
      "   Real part of computed eigenvalues:\n",
      "   [104.06976705 111.63042324 154.60743449 177.49480542 196.58901091\n",
      " 196.58937111 198.12850032]\n",
      "   Relative Hausdorff distance from prior iterate: 3.654e-06\n",
      "\n",
      " ITERATION 12 with 7 vectors\n",
      "   Real part of computed eigenvalues:\n",
      "   [104.06956324 111.63042088 154.60743439 177.49480527 196.58897494\n",
      " 196.58930794 198.12828024]\n",
      "   Relative Hausdorff distance from prior iterate: 1.467e-06\n",
      "\n",
      " ITERATION 13 with 7 vectors\n",
      "   Real part of computed eigenvalues:\n",
      "   [104.06948748 111.63042038 154.60743437 177.49480524 196.58895633\n",
      " 196.58928624 198.12816661]\n",
      "   Relative Hausdorff distance from prior iterate: 7.575e-07\n",
      "\n",
      " ITERATION 14 with 7 vectors\n",
      "   Real part of computed eigenvalues:\n",
      "   [104.06945931 111.63042028 154.60743437 177.49480524 196.58894806\n",
      " 196.58927811 198.12810795]\n",
      "   Relative Hausdorff distance from prior iterate: 3.911e-07\n",
      "\n",
      " ITERATION 15 with 7 vectors\n",
      "   Real part of computed eigenvalues:\n",
      "   [104.06944884 111.63042026 154.60743436 177.49480524 196.58894458\n",
      " 196.58927493 198.12807766]\n",
      "   Relative Hausdorff distance from prior iterate: 2.019e-07\n",
      "\n",
      " ITERATION 16 with 7 vectors\n",
      "   Real part of computed eigenvalues:\n",
      "   [104.06944495 111.63042025 154.60743436 177.49480524 196.58894314\n",
      " 196.58927365 198.12806202]\n",
      "   Relative Hausdorff distance from prior iterate: 1.043e-07\n",
      "\n",
      " ITERATION 17 with 7 vectors\n",
      "   Real part of computed eigenvalues:\n",
      "   [104.0694435  111.63042025 154.60743436 177.49480524 196.58894256\n",
      " 196.58927313 198.12805395]\n",
      "   Relative Hausdorff distance from prior iterate: 5.382e-08\n",
      "\n",
      " ITERATION 18 with 7 vectors\n",
      "   Real part of computed eigenvalues:\n",
      "   [104.06944296 111.63042025 154.60743436 177.49480524 196.58894232\n",
      " 196.58927292 198.12804978]\n",
      "   Relative Hausdorff distance from prior iterate: 2.779e-08\n",
      "\n",
      " ITERATION 19 with 7 vectors\n",
      "   Real part of computed eigenvalues:\n",
      "   [104.06944276 111.63042025 154.60743436 177.49480524 196.58894222\n",
      " 196.58927284 198.12804763]\n",
      "   Relative Hausdorff distance from prior iterate: 1.435e-08\n",
      "\n",
      " ITERATION 20 with 7 vectors\n",
      "   Real part of computed eigenvalues:\n",
      "   [104.06944269 111.63042025 154.60743436 177.49480524 196.58894218\n",
      " 196.58927281 198.12804651]\n",
      "   Relative Hausdorff distance from prior iterate: 7.407e-09\n",
      "\n",
      " ITERATION 21 with 7 vectors\n",
      "   Real part of computed eigenvalues:\n",
      "   [104.06944266 111.63042025 154.60743436 177.49480524 196.58894217\n",
      " 196.58927279 198.12804594]\n",
      "   Relative Hausdorff distance from prior iterate: 3.824e-09\n",
      "\n",
      " ITERATION 22 with 7 vectors\n",
      "   Real part of computed eigenvalues:\n",
      "   [104.06944265 111.63042025 154.60743436 177.49480524 196.58894216\n",
      " 196.58927279 198.12804565]\n",
      "   Relative Hausdorff distance from prior iterate: 1.974e-09\n",
      "\n",
      " ITERATION 23 with 7 vectors\n",
      "   Real part of computed eigenvalues:\n",
      "   [104.06944265 111.63042025 154.60743436 177.49480524 196.58894216\n",
      " 196.58927278 198.12804549]\n",
      "   Relative Hausdorff distance from prior iterate: 1.019e-09\n",
      "\n",
      " ITERATION 24 with 7 vectors\n",
      "   Real part of computed eigenvalues:\n",
      "   [104.06944265 111.63042025 154.60743436 177.49480524 196.58894216\n",
      " 196.58927278 198.12804541]\n",
      "   Relative Hausdorff distance from prior iterate: 5.263e-10\n",
      "\n",
      "\n",
      "***FEAST converged with:\n",
      "\tRelative Hausdorff distance = 5.263e-10\n",
      "\n",
      "============= FEAST iterations done =============\n",
      "Total Time 1509.0644581317902 FEAST Time 1429.480103969574\n"
     ]
    },
    {
     "data": {
      "application/vnd.jupyter.widget-view+json": {
       "model_id": "49c6ccf9c49642feb35a3fe447f055e4",
       "version_major": 2,
       "version_minor": 0
      },
      "text/plain": [
       "WebGuiWidget(layout=Layout(height='50vh', width='100%'), value={'gui_settings': {}, 'ngsolve_version': '6.2.23…"
      ]
     },
     "metadata": {},
     "output_type": "display_data"
    },
    {
     "data": {
      "text/plain": [
       "BaseWebGuiScene"
      ]
     },
     "execution_count": 3,
     "metadata": {},
     "output_type": "execute_result"
    }
   ],
   "source": [
    "import time\n",
    "from ngsolve import *\n",
    "from ngsolve.webgui import Draw\n",
    "from netgen.occ import *\n",
    "from pyeigfeast import NGvecs, SpectralProjNG\n",
    "\n",
    "start1 = time.time()\n",
    "a = 100\n",
    "A = CF((-a*cos(5*pi*sin(x**2 + y**2))*sin(5*pi*cos(x**2 + y**2)), -a*sin(5*pi*sin(x**2 + y**2))*cos(5*pi*cos(x**2 + y**2))))\n",
    "\n",
    "domain = WorkPlane().MoveTo(-1,-1).Rectangle(2,2).Face()\n",
    "geo = OCCGeometry(domain, dim = 2)\n",
    "mesh = Mesh(geo.GenerateMesh(maxh=0.01))\n",
    "\n",
    "X = H1(mesh, order=3, complex=True, dirichlet = '.*')\n",
    "# X.ndof\n",
    "psi, phi = X.TnT()\n",
    "a3 = BilinearForm(X)\n",
    "a3 += grad(psi) * grad(phi) * dx +  1j * InnerProduct(A,grad(phi)) * psi * dx - 1j * InnerProduct(A , grad(psi)) * phi * dx \\\n",
    "       + InnerProduct(A,A)* psi * phi *dx\n",
    "b3 = BilinearForm(X)\n",
    "b3 += psi * phi * dx\n",
    "a3.Assemble()\n",
    "b3.Assemble()\n",
    "\n",
    "# Use FEAST algorithm for computing eigenvalues\n",
    "seed =1\n",
    "npts=10\n",
    "nspan=8\n",
    "within=None\n",
    "rhoinv=0.0\n",
    "quadrule='circ_trapez_shift'\n",
    "verbose=True\n",
    "# Make the spectral projector object, change radius and center values for the searching range of eigenvalues.\n",
    "# When h=0.01, radius = 50, center = 153; When h=0.03, radius = 50, center = 153; When h=0.05, radius = 53, center = 186\n",
    "P = SpectralProjNG(X,\n",
    "                   a3.mat,\n",
    "                   b3.mat,\n",
    "                   radius=50,\n",
    "                   center=150,\n",
    "                   npts=npts,\n",
    "                   within=within,\n",
    "                   rhoinv=rhoinv,\n",
    "                   quadrule=quadrule,\n",
    "                   inverse=None)\n",
    "Y = NGvecs(X, nspan, M=b3.mat)\n",
    "Y.setrandom(seed=seed)\n",
    "start2 = time.time()\n",
    "# print('Prepare time', start2-start1)\n",
    "lam, Y, history, _ = P.feast(Y)\n",
    "end = time.time()\n",
    "print(\"Total Time\", end - start1, \"FEAST Time\", end - start2)\n",
    "y = Y.gridfun()\n",
    "Draw(y)"
   ]
  },
  {
   "cell_type": "code",
   "execution_count": null,
   "id": "129dd228-58ef-48c9-8381-98e54a5ff4a3",
   "metadata": {},
   "outputs": [],
   "source": [
    "# Calculate the degree of freedom \n",
    "X.ndof "
   ]
  },
  {
   "cell_type": "markdown",
   "id": "bc5cc23e-ef84-477b-972a-0f6f9593b1ff",
   "metadata": {},
   "source": [
    "Calculate the $L^2$ norm of $\\nabla \\psi$ and $A\\psi$"
   ]
  },
  {
   "cell_type": "code",
   "execution_count": null,
   "id": "4860caf9-88b1-427e-9870-9b2b8f4942c2",
   "metadata": {},
   "outputs": [],
   "source": [
    "for i in range(0,6):\n",
    "    psi = GridFunction(X)\n",
    "    psi.Set(y.MDComponent(i))\n",
    "    print(sqrt(Integrate(grad(psi)*Conj(grad(psi)), mesh)), sqrt(Integrate(A*psi*Conj(A*psi), mesh)))"
   ]
  },
  {
   "cell_type": "markdown",
   "id": "b65328e9-d996-49f1-87e6-e83bc75f7d1e",
   "metadata": {},
   "source": [
    "Calculate the phase of $\\psi_1$"
   ]
  },
  {
   "cell_type": "code",
   "execution_count": null,
   "id": "351d4cd3-047e-4953-93bb-7137641c8b82",
   "metadata": {},
   "outputs": [],
   "source": [
    "eigv = y.MDComponent(0)\n",
    "yl2 = GridFunction(H1(mesh,order=3))\n",
    "eigv_phase1 = asin(eigv.imag/eigv.Norm())\n",
    "Draw(eigv_phase1, mesh)"
   ]
  },
  {
   "cell_type": "markdown",
   "id": "3c08cd6d-ef92-4593-a36c-0e951397c405",
   "metadata": {},
   "source": [
    "# This section is to calculate the eigenpairs for H(F)"
   ]
  },
  {
   "cell_type": "code",
   "execution_count": 5,
   "id": "5786a7f7-b02c-46f0-b718-b7ed83d9a2f1",
   "metadata": {
    "scrolled": true
   },
   "outputs": [
    {
     "name": "stdout",
     "output_type": "stream",
     "text": [
      "\n",
      "SpectralProj: Setting shifted trapezoidal rule quadrature on circular contour\n",
      "SpectralProj: Radius=50, Center=150+0j\n",
      "\n",
      "SpectralProjNG: Computing resolvents using umfpack\n",
      "SpectralProjNG:   Factorizing at z = +197.553+15.451j\n",
      "SpectralProjNG:   Factorizing at z = +179.389+40.451j\n",
      "SpectralProjNG:   Factorizing at z = +150.000+50.000j\n",
      "SpectralProjNG:   Factorizing at z = +120.611+40.451j\n",
      "SpectralProjNG:   Factorizing at z = +102.447+15.451j\n",
      "SpectralProjNG:   Factorizing at z = +102.447-15.451j\n",
      "SpectralProjNG:   Factorizing at z = +120.611-40.451j\n",
      "SpectralProjNG:   Factorizing at z = +150.000-50.000j\n",
      "SpectralProjNG:   Factorizing at z = +179.389-40.451j\n",
      "SpectralProjNG:   Factorizing at z = +197.553-15.451j\n",
      "\n",
      "=========== Starting FEAST iterations ===========\n",
      "Trying with 8 vectors:\n",
      "\n",
      " ITERATION 1 with 8 vectors\n",
      "   Real part of computed eigenvalues:\n",
      "   [107.83820946 119.21035507 155.90681392 179.86964475 196.61003238\n",
      " 197.82131645 199.0913813  201.63329406]\n",
      "   Relative Hausdorff distance from prior iterate: 6.667e+97\n",
      "\n",
      " ITERATION 2 with 8 vectors\n",
      "   Real part of computed eigenvalues:\n",
      "   [107.57728596 114.13149655 154.95540879 178.1212576  196.58250315\n",
      " 197.39083405 198.46521396 201.47673601]\n",
      "   Relative Hausdorff distance from prior iterate: 3.386e-02\n",
      "\n",
      " ITERATION 3 with 8 vectors\n",
      "   Real part of computed eigenvalues:\n",
      "   [106.15001825 112.11138024 154.67595979 177.6228082  196.5824926\n",
      " 197.01407347 198.25036493 201.47661307]\n",
      "   Relative Hausdorff distance from prior iterate: 1.347e-02\n",
      "\n",
      "   Removing ew#[7] not enclosed by contour\n",
      " ITERATION 4 with 7 vectors\n",
      "   Real part of computed eigenvalues:\n",
      "   [104.9696357  111.70881321 154.61315246 177.50923022 196.5824926\n",
      " 196.78056259 198.17447267]\n",
      "   Relative Hausdorff distance from prior iterate: 7.869e-03\n",
      "\n",
      " ITERATION 5 with 7 vectors\n",
      "   Real part of computed eigenvalues:\n",
      "   [104.41661303 111.63274751 154.60062715 177.48616546 196.5824926\n",
      " 196.66768102 198.14190753]\n",
      "   Relative Hausdorff distance from prior iterate: 3.687e-03\n",
      "\n",
      " ITERATION 6 with 7 vectors\n",
      "   Real part of computed eigenvalues:\n",
      "   [104.19401406 111.61744413 154.59824863 177.4817306  196.5824926\n",
      " 196.61808996 198.12634111]\n",
      "   Relative Hausdorff distance from prior iterate: 1.484e-03\n",
      "\n",
      " ITERATION 7 with 7 vectors\n",
      "   Real part of computed eigenvalues:\n",
      "   [104.10849031 111.61427681 154.59780625 177.48089877 196.5824926\n",
      " 196.59717333 198.11854639]\n",
      "   Relative Hausdorff distance from prior iterate: 5.702e-04\n",
      "\n",
      " ITERATION 8 with 7 vectors\n",
      "   Real part of computed eigenvalues:\n",
      "   [104.07617351 111.61361473 154.59772472 177.48074445 196.5824926\n",
      " 196.58851032 198.11456855]\n",
      "   Relative Hausdorff distance from prior iterate: 2.154e-04\n",
      "\n",
      " ITERATION 9 with 7 vectors\n",
      "   Real part of computed eigenvalues:\n",
      "   [104.06404096 111.61347588 154.59770975 177.48071596 196.5824926\n",
      " 196.58495224 198.1125232 ]\n",
      "   Relative Hausdorff distance from prior iterate: 8.088e-05\n",
      "\n",
      " ITERATION 10 with 7 vectors\n",
      "   Real part of computed eigenvalues:\n",
      "   [104.05949824 111.61344674 154.59770701 177.48071071 196.5824926\n",
      " 196.58349657 198.11146843]\n",
      "   Relative Hausdorff distance from prior iterate: 3.028e-05\n",
      "\n",
      " ITERATION 11 with 7 vectors\n",
      "   Real part of computed eigenvalues:\n",
      "   [104.05779928 111.61344062 154.5977065  177.48070975 196.5824926\n",
      " 196.58290213 198.11092388]\n",
      "   Relative Hausdorff distance from prior iterate: 1.133e-05\n",
      "\n",
      " ITERATION 12 with 7 vectors\n",
      "   Real part of computed eigenvalues:\n",
      "   [104.05716419 111.61343934 154.59770641 177.48070957 196.5824926\n",
      " 196.5826596  198.11064264]\n",
      "   Relative Hausdorff distance from prior iterate: 4.234e-06\n",
      "\n",
      " ITERATION 13 with 7 vectors\n",
      "   Real part of computed eigenvalues:\n",
      "   [104.05692684 111.61343907 154.59770639 177.48070954 196.5824926\n",
      " 196.58256069 198.11049736]\n",
      "   Relative Hausdorff distance from prior iterate: 1.582e-06\n",
      "\n",
      " ITERATION 14 with 7 vectors\n",
      "   Real part of computed eigenvalues:\n",
      "   [104.05683814 111.61343901 154.59770639 177.48070953 196.58249259\n",
      " 196.58252037 198.11042232]\n",
      "   Relative Hausdorff distance from prior iterate: 5.913e-07\n",
      "\n",
      " ITERATION 15 with 7 vectors\n",
      "   Real part of computed eigenvalues:\n",
      "   [104.056805   111.613439   154.59770639 177.48070953 196.58249258\n",
      " 196.58250394 198.11038355]\n",
      "   Relative Hausdorff distance from prior iterate: 2.584e-07\n",
      "\n",
      " ITERATION 16 with 7 vectors\n",
      "   Real part of computed eigenvalues:\n",
      "   [104.05679261 111.613439   154.59770639 177.48070953 196.58249256\n",
      " 196.58249726 198.11036352]\n",
      "   Relative Hausdorff distance from prior iterate: 1.335e-07\n",
      "\n",
      " ITERATION 17 with 7 vectors\n",
      "   Real part of computed eigenvalues:\n",
      "   [104.05678799 111.61343899 154.59770639 177.48070953 196.5824925\n",
      " 196.58249458 198.11035318]\n",
      "   Relative Hausdorff distance from prior iterate: 6.897e-08\n",
      "\n",
      " ITERATION 18 with 7 vectors\n",
      "   Real part of computed eigenvalues:\n",
      "   [104.05678626 111.61343899 154.59770639 177.48070953 196.5824924\n",
      " 196.58249357 198.11034783]\n",
      "   Relative Hausdorff distance from prior iterate: 3.563e-08\n",
      "\n",
      " ITERATION 19 with 7 vectors\n",
      "   Real part of computed eigenvalues:\n",
      "   [104.05678561 111.61343899 154.59770639 177.48070953 196.58249229\n",
      " 196.58249322 198.11034507]\n",
      "   Relative Hausdorff distance from prior iterate: 1.840e-08\n",
      "\n",
      " ITERATION 20 with 7 vectors\n",
      "   Real part of computed eigenvalues:\n",
      "   [104.05678537 111.61343899 154.59770639 177.48070953 196.58249222\n",
      " 196.58249311 198.11034365]\n",
      "   Relative Hausdorff distance from prior iterate: 9.507e-09\n",
      "\n",
      " ITERATION 21 with 7 vectors\n",
      "   Real part of computed eigenvalues:\n",
      "   [104.05678528 111.61343899 154.59770639 177.48070953 196.58249219\n",
      " 196.58249307 198.11034291]\n",
      "   Relative Hausdorff distance from prior iterate: 4.911e-09\n",
      "\n",
      " ITERATION 22 with 7 vectors\n",
      "   Real part of computed eigenvalues:\n",
      "   [104.05678524 111.61343899 154.59770639 177.48070953 196.58249218\n",
      " 196.58249305 198.11034253]\n",
      "   Relative Hausdorff distance from prior iterate: 2.537e-09\n",
      "\n",
      " ITERATION 23 with 7 vectors\n",
      "   Real part of computed eigenvalues:\n",
      "   [104.05678523 111.61343899 154.59770639 177.48070953 196.58249217\n",
      " 196.58249304 198.11034233]\n",
      "   Relative Hausdorff distance from prior iterate: 1.311e-09\n",
      "\n",
      " ITERATION 24 with 7 vectors\n",
      "   Real part of computed eigenvalues:\n",
      "   [104.05678523 111.61343899 154.59770639 177.48070953 196.58249217\n",
      " 196.58249304 198.11034223]\n",
      "   Relative Hausdorff distance from prior iterate: 6.770e-10\n",
      "\n",
      "\n",
      "***FEAST converged with:\n",
      "\tRelative Hausdorff distance = 6.770e-10\n",
      "\n",
      "============= FEAST iterations done =============\n",
      "Total Time 1659.9408030509949 FEAST Time 1536.5129940509796\n"
     ]
    },
    {
     "data": {
      "application/vnd.jupyter.widget-view+json": {
       "model_id": "31b6295df08b4e6f998cbea7fe8c5a98",
       "version_major": 2,
       "version_minor": 0
      },
      "text/plain": [
       "WebGuiWidget(layout=Layout(height='50vh', width='100%'), value={'gui_settings': {}, 'ngsolve_version': '6.2.23…"
      ]
     },
     "metadata": {},
     "output_type": "display_data"
    },
    {
     "data": {
      "text/plain": [
       "BaseWebGuiScene"
      ]
     },
     "execution_count": 5,
     "metadata": {},
     "output_type": "execute_result"
    }
   ],
   "source": [
    "import time\n",
    "from ngsolve import *\n",
    "from ngsolve.webgui import Draw\n",
    "from netgen.occ import *\n",
    "from pyeigfeast import NGvecs, SpectralProjNG\n",
    "start1 = time.time()\n",
    "domain = WorkPlane().MoveTo(-1,-1).Rectangle(2,2).Face()\n",
    "geo = OCCGeometry(domain, dim = 2)\n",
    "mesh = Mesh(geo.GenerateMesh(maxh=0.01))\n",
    "a = 100\n",
    "A = CF((-a*cos(5*pi*sin(x**2 + y**2))*sin(5*pi*cos(x**2 + y**2)), -a*sin(5*pi*sin(x**2 + y**2))*cos(5*pi*cos(x**2 + y**2))))\n",
    "X = H1(mesh, order=3)\n",
    "N = NumberSpace(mesh)\n",
    "fesm = X*N\n",
    "\n",
    "u, lam = fesm.TrialFunction()\n",
    "v, c = fesm.TestFunction()\n",
    "gfm = GridFunction(fesm)  # solution\n",
    "gfu, gflam = gfm.components\n",
    "\n",
    "a = BilinearForm(fesm)\n",
    "a += lam*v*dx + grad(u)*grad(v)*dx + u*c*dx\n",
    "a.Assemble()\n",
    "f = LinearForm(A*grad(v)*dx).Assemble()\n",
    "\n",
    "gfm.vec.data = a.mat.Inverse() * f.vec\n",
    "F = A - grad(gfu)\n",
    "\n",
    "Xeig = H1(mesh, order=3, complex = True, dirichlet = '.*')\n",
    "psi, phi = Xeig.TnT()\n",
    "a2 = BilinearForm(Xeig)\n",
    "a2 += grad(psi) * grad(phi) * dx + 1j *  InnerProduct(F,grad(phi)) * psi * dx - 1j * InnerProduct(F , grad(psi)) * phi * dx\\\n",
    "    +  InnerProduct(F, F)* psi * phi *dx\n",
    "b2 = BilinearForm(Xeig)\n",
    "\n",
    "b2 += psi * phi * dx\n",
    "a2.Assemble()\n",
    "b2.Assemble()\n",
    "\n",
    "seed =1\n",
    "npts=10\n",
    "nspan=8\n",
    "within=None\n",
    "rhoinv=0.0\n",
    "quadrule='circ_trapez_shift'\n",
    "verbose=True\n",
    "# Make the spectral projector object,  radius = 50, center = 153\n",
    "P = SpectralProjNG(Xeig,\n",
    "                   a2.mat,\n",
    "                   b2.mat,\n",
    "                   radius=50,\n",
    "                   center=150,\n",
    "                   npts=npts,\n",
    "                   within=within,\n",
    "                   rhoinv=rhoinv,\n",
    "                   quadrule=quadrule,\n",
    "                   inverse=None)\n",
    "Y = NGvecs(Xeig, nspan, M=b2.mat)\n",
    "Y.setrandom(seed=seed)\n",
    "start2 = time.time()\n",
    "lam, Y, history, _ = P.feast(Y)\n",
    "end = time.time()\n",
    "print(\"Total Time\", end - start1, \"FEAST Time\", end - start2)\n",
    "y1 = Y.gridfun()\n",
    "Draw(y1)"
   ]
  },
  {
   "cell_type": "markdown",
   "id": "d3881da2-58dd-4371-8269-426255e2ae5e",
   "metadata": {},
   "source": [
    "Calculate the $L^2$ norm of $\\nabla \\phi$ and $F\\phi$"
   ]
  },
  {
   "cell_type": "code",
   "execution_count": null,
   "id": "efc73f6b-9ac1-42cc-a02a-ba067de7225f",
   "metadata": {},
   "outputs": [],
   "source": [
    "for i in range(0,6):\n",
    "    phi = GridFunction(Xeig)\n",
    "    phi.Set(y1.MDComponent(i))\n",
    "    print(sqrt(Integrate(grad(phi)*Conj(grad(phi)), mesh)), sqrt(Integrate(F*phi*Conj(F*phi), mesh)))"
   ]
  },
  {
   "cell_type": "markdown",
   "id": "6a6047b8-f5dc-4352-b636-b10047599fae",
   "metadata": {},
   "source": [
    "Calculate the phase of $\\phi_1$"
   ]
  },
  {
   "cell_type": "code",
   "execution_count": null,
   "id": "1bbd01bb-db18-40d7-94e7-40a3fe5afbe5",
   "metadata": {},
   "outputs": [],
   "source": [
    "eigv = y1.MDComponent(0)\n",
    "yl2 = GridFunction(H1(mesh,order=6))\n",
    "eigv_phase1 = asin(eigv.imag/eigv.Norm())\n",
    "Draw(eigv_phase1, mesh)"
   ]
  },
  {
   "cell_type": "code",
   "execution_count": 6,
   "id": "cb963905-1f6d-4fb1-9652-cbab991b1536",
   "metadata": {},
   "outputs": [
    {
     "data": {
      "application/vnd.jupyter.widget-view+json": {
       "model_id": "d1cc10f4067d4116b3491ef48ba65d1a",
       "version_major": 2,
       "version_minor": 0
      },
      "text/plain": [
       "WebGuiWidget(layout=Layout(height='50vh', width='100%'), value={'gui_settings': {}, 'ngsolve_version': '6.2.23…"
      ]
     },
     "metadata": {},
     "output_type": "display_data"
    },
    {
     "data": {
      "text/plain": [
       "BaseWebGuiScene"
      ]
     },
     "execution_count": 6,
     "metadata": {},
     "output_type": "execute_result"
    }
   ],
   "source": [
    "Draw(y1)"
   ]
  },
  {
   "cell_type": "code",
   "execution_count": null,
   "id": "49508b53-a721-4068-bda6-ae0b38c33ea5",
   "metadata": {},
   "outputs": [],
   "source": []
  }
 ],
 "metadata": {
  "kernelspec": {
   "display_name": "Python 3 (ipykernel)",
   "language": "python",
   "name": "python3"
  },
  "language_info": {
   "codemirror_mode": {
    "name": "ipython",
    "version": 3
   },
   "file_extension": ".py",
   "mimetype": "text/x-python",
   "name": "python",
   "nbconvert_exporter": "python",
   "pygments_lexer": "ipython3",
   "version": "3.8.0"
  }
 },
 "nbformat": 4,
 "nbformat_minor": 5
}

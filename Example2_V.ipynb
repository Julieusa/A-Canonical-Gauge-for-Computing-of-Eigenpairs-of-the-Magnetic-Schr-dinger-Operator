{
 "cells": [
  {
   "cell_type": "markdown",
   "id": "b5d52705-1242-4a82-8594-2f3fc83ace7d",
   "metadata": {},
   "source": [
    "This code is for Example 2b when $A = -100(\\cos( f_1)\\sin(f_2), \\sin(f_1)\\cos(f_2)))$, where $f_1 = 5\\pi \\sin(x^2 + y^2), f_2 =5\\pi \\cos(x^2 + y^2)$\n",
    "\n",
    "Add scalar field V"
   ]
  },
  {
   "cell_type": "markdown",
   "id": "5344a6e1-8ed8-449c-8e23-20bc5dff4ac1",
   "metadata": {},
   "source": [
    "# This section is to calculate the eigenpairs for H(A, V)"
   ]
  },
  {
   "cell_type": "code",
   "execution_count": 13,
   "id": "f80d134a-53db-4857-96d8-e5d6e47afe52",
   "metadata": {},
   "outputs": [
    {
     "name": "stdout",
     "output_type": "stream",
     "text": [
      "\n",
      "SpectralProj: Setting shifted trapezoidal rule quadrature on circular contour\n",
      "SpectralProj: Radius=56, Center=224+0j\n",
      "\n",
      "SpectralProjNG: Computing resolvents using umfpack\n",
      "SpectralProjNG:   Factorizing at z = +277.259+17.305j\n",
      "SpectralProjNG:   Factorizing at z = +256.916+45.305j\n",
      "SpectralProjNG:   Factorizing at z = +224.000+56.000j\n",
      "SpectralProjNG:   Factorizing at z = +191.084+45.305j\n",
      "SpectralProjNG:   Factorizing at z = +170.741+17.305j\n",
      "SpectralProjNG:   Factorizing at z = +170.741-17.305j\n",
      "SpectralProjNG:   Factorizing at z = +191.084-45.305j\n",
      "SpectralProjNG:   Factorizing at z = +224.000-56.000j\n",
      "SpectralProjNG:   Factorizing at z = +256.916-45.305j\n",
      "SpectralProjNG:   Factorizing at z = +277.259-17.305j\n",
      "\n",
      "=========== Starting FEAST iterations ===========\n",
      "Trying with 8 vectors:\n",
      "\n",
      " ITERATION 1 with 8 vectors\n",
      "   Real part of computed eigenvalues:\n",
      "   [168.80846389 198.29499759 241.37377335 265.96531587 272.17285864\n",
      " 278.1273345  295.93342473 320.0333116 ]\n",
      "   Relative Hausdorff distance from prior iterate: 4.464e+97\n",
      "\n",
      " ITERATION 2 with 8 vectors\n",
      "   Real part of computed eigenvalues:\n",
      "   [168.80332138 198.29442191 241.3732987  265.96230779 272.17164427\n",
      " 278.12470804 295.91115803 313.65078555]\n",
      "   Relative Hausdorff distance from prior iterate: 2.849e-02\n",
      "\n",
      " ITERATION 3 with 8 vectors\n",
      "   Real part of computed eigenvalues:\n",
      "   [168.80332099 198.29442189 241.37329869 265.96230769 272.17164421\n",
      " 278.12470779 295.9110862  313.00983836]\n",
      "   Relative Hausdorff distance from prior iterate: 2.861e-03\n",
      "\n",
      "   Removing ew#[6, 7] not enclosed by contour\n",
      " ITERATION 4 with 6 vectors\n",
      "   Real part of computed eigenvalues:\n",
      "   [168.80332099 198.29442189 241.37329869 265.96230769 272.17164421\n",
      " 278.12470779]\n",
      "   Relative Hausdorff distance from prior iterate: 2.009e-13\n",
      "\n",
      "\n",
      "***FEAST converged with:\n",
      "\tRelative Hausdorff distance = 2.009e-13\n",
      "\n",
      "============= FEAST iterations done =============\n",
      "Total Time 5.969133138656616 FEAST Time 4.6104912757873535\n"
     ]
    },
    {
     "data": {
      "application/vnd.jupyter.widget-view+json": {
       "model_id": "e2f9030020764f489b45d1dab6f0a572",
       "version_major": 2,
       "version_minor": 0
      },
      "text/plain": [
       "WebGuiWidget(layout=Layout(height='50vh', width='100%'), value={'gui_settings': {}, 'ngsolve_version': '6.2.23…"
      ]
     },
     "metadata": {},
     "output_type": "display_data"
    },
    {
     "data": {
      "text/plain": [
       "BaseWebGuiScene"
      ]
     },
     "execution_count": 13,
     "metadata": {},
     "output_type": "execute_result"
    }
   ],
   "source": [
    "import time\n",
    "from ngsolve import *\n",
    "from ngsolve.webgui import Draw\n",
    "from netgen.occ import *\n",
    "from pyeigfeast import NGvecs, SpectralProjNG\n",
    "import random\n",
    "\n",
    "start1 = time.time()\n",
    "# Generate 16x16 congruent squares\n",
    "n =16\n",
    "list_S = []\n",
    "for j in range(n):\n",
    "    for i in range(n):\n",
    "        S = MoveTo(-1+2*i/n, -1+2*j/n).Rectangle(2/n, 2/n).Face()\n",
    "        S.faces.name=\"S\"+ str(i+1+j*n)\n",
    "        S.edges.name=\"inner\"\n",
    "        if j==0: S.edges.Min(Y).name = \"bottom\"\n",
    "        if j==n-1: S.edges.Max(Y).name = \"top\"\n",
    "        if i==0: S.edges.Min(X).name = \"left\"\n",
    "        if i==n-1: S.edges.Max(X).name = \"right\"\n",
    "        list_S.append(S)\n",
    "geo = Glue(list_S)\n",
    "mesh = Mesh(OCCGeometry(geo,dim=2).GenerateMesh(maxh=0.05)) \n",
    "# Assign random numbers in [0, V_max] to each square \n",
    "tk_coef = {}\n",
    "random.seed(1)\n",
    "# Fix scale to 100, 500, and 1000 for V_max\n",
    "scale =100 \n",
    "for i in range(n*n):\n",
    "    tkC = random.uniform(0, 1)*scale\n",
    "    tk_coef['S'+str(i+1)] = tkC\n",
    "tk =mesh.MaterialCF(tk_coef)\n",
    "V = tk\n",
    "# Draw(V, mesh)\n",
    "\n",
    "a = 100\n",
    "A = CF((-a*cos(5*pi*sin(x**2 + y**2))*sin(5*pi*cos(x**2 + y**2)), -a*sin(5*pi*sin(x**2 + y**2))*cos(5*pi*cos(x**2 + y**2))))\n",
    "X = H1(mesh, order=3, complex=True, dirichlet = 'bottom|top|left|right')\n",
    "# X.ndof\n",
    "psi, phi = X.TnT()\n",
    "a3 = BilinearForm(X)\n",
    "a3 += grad(psi) * grad(phi) * dx +  1j * InnerProduct(A,grad(phi)) * psi * dx - 1j * InnerProduct(A , grad(psi)) * phi * dx \\\n",
    "       + InnerProduct(A,A)* psi * phi *dx + V* psi * phi *dx\n",
    "b3 = BilinearForm(X)\n",
    "b3 += psi * phi * dx\n",
    "a3.Assemble()\n",
    "b3.Assemble()\n",
    "\n",
    "# Use FEAST algorithm for computing eigenvalues\n",
    "seed =1\n",
    "npts=10\n",
    "nspan=8\n",
    "within=None\n",
    "rhoinv=0.0\n",
    "quadrule='circ_trapez_shift'\n",
    "verbose=True\n",
    "# Make the spectral projector object, change radius and center values for the searching range of eigenvalues.\n",
    "# scale=100: When h=0.01, radius = 55, center = 192; When h=0.03, radius = 52, center = 207; When h=0.05, radius = 56, center = 224\n",
    "# scale=500: When h=0.01, radius = 82, center = 306; When h=0.03, radius = 80, center = 322; When h=0.05, radius = 87, center = 347\n",
    "# scale=1000: When h=0.01, radius = 97, center = 393; When h=0.03, radius = 99, center = 411; When h=0.05, radius = 103, center = 432\n",
    "P = SpectralProjNG(X,\n",
    "                   a3.mat,\n",
    "                   b3.mat,\n",
    "                   radius=56,\n",
    "                   center= 224,\n",
    "                   npts=npts,\n",
    "                   within=within,\n",
    "                   rhoinv=rhoinv,\n",
    "                   quadrule=quadrule,\n",
    "                   inverse=None)\n",
    "Y = NGvecs(X, nspan, M=b3.mat)\n",
    "Y.setrandom(seed=seed)\n",
    "start2 = time.time()\n",
    "lam, Y, history, _ = P.feast(Y)\n",
    "end = time.time()\n",
    "print(\"Total Time\", end - start1, \"FEAST Time\", end - start2)\n",
    "y = Y.gridfun()\n",
    "Draw(y)"
   ]
  },
  {
   "cell_type": "markdown",
   "id": "1bc483c9-ec1c-4eba-80e5-390eae275be4",
   "metadata": {},
   "source": [
    "Calculate the degree of freedom "
   ]
  },
  {
   "cell_type": "code",
   "execution_count": 14,
   "id": "5612ec5a-7d90-4eb7-a8f1-cf701c5476db",
   "metadata": {},
   "outputs": [
    {
     "data": {
      "text/plain": [
       "21025"
      ]
     },
     "execution_count": 14,
     "metadata": {},
     "output_type": "execute_result"
    }
   ],
   "source": [
    "X.ndof "
   ]
  },
  {
   "cell_type": "markdown",
   "id": "411cd6b1-cbe6-4fdc-9cee-7fc1dc2708e6",
   "metadata": {},
   "source": [
    "Calculate the $L^2$ norm of $\\nabla \\psi$ and $A\\psi$"
   ]
  },
  {
   "cell_type": "code",
   "execution_count": 15,
   "id": "4d86165d",
   "metadata": {},
   "outputs": [
    {
     "name": "stdout",
     "output_type": "stream",
     "text": [
      "(49.00261421993348+0j) (49.381868703015364+0j)\n",
      "(65.03109216532069+0j) (65.96733509913886+0j)\n",
      "(64.61763868102179+0j) (65.62655923563356+0j)\n",
      "(67.31566831284351+0j) (68.20337704564683+0j)\n",
      "(50.45945322554646+0j) (50.899105380947525+0j)\n",
      "(50.44743508365226+0j) (50.87793601057124+0j)\n"
     ]
    }
   ],
   "source": [
    "for i in range(0,6):\n",
    "    psi = GridFunction(X)\n",
    "    psi.Set(y.MDComponent(i))\n",
    "    print(sqrt(Integrate(grad(psi)*Conj(grad(psi)), mesh)), sqrt(Integrate(A*psi*Conj(A*psi), mesh)))"
   ]
  },
  {
   "cell_type": "markdown",
   "id": "373a5337-eadc-442e-8700-2414ebcca495",
   "metadata": {},
   "source": [
    "# This section is to calculate the eigenpairs for H(F, V)"
   ]
  },
  {
   "cell_type": "code",
   "execution_count": 18,
   "id": "5786a7f7-b02c-46f0-b718-b7ed83d9a2f1",
   "metadata": {
    "scrolled": true
   },
   "outputs": [
    {
     "name": "stdout",
     "output_type": "stream",
     "text": [
      "\n",
      "SpectralProj: Setting shifted trapezoidal rule quadrature on circular contour\n",
      "SpectralProj: Radius=55, Center=192+0j\n",
      "\n",
      "SpectralProjNG: Computing resolvents using umfpack\n",
      "SpectralProjNG:   Factorizing at z = +244.308+16.996j\n",
      "SpectralProjNG:   Factorizing at z = +224.328+44.496j\n",
      "SpectralProjNG:   Factorizing at z = +192.000+55.000j\n",
      "SpectralProjNG:   Factorizing at z = +159.672+44.496j\n",
      "SpectralProjNG:   Factorizing at z = +139.692+16.996j\n",
      "SpectralProjNG:   Factorizing at z = +139.692-16.996j\n",
      "SpectralProjNG:   Factorizing at z = +159.672-44.496j\n",
      "SpectralProjNG:   Factorizing at z = +192.000-55.000j\n",
      "SpectralProjNG:   Factorizing at z = +224.328-44.496j\n",
      "SpectralProjNG:   Factorizing at z = +244.308-16.996j\n",
      "\n",
      "=========== Starting FEAST iterations ===========\n",
      "Trying with 8 vectors:\n",
      "\n",
      " ITERATION 1 with 8 vectors\n",
      "   Real part of computed eigenvalues:\n",
      "   [137.76134285 148.05250037 198.79385037 216.58879705 241.75692953\n",
      " 246.02447235 250.74498632 251.34361992]\n",
      "   Relative Hausdorff distance from prior iterate: 5.208e+97\n",
      "\n",
      " ITERATION 2 with 8 vectors\n",
      "   Real part of computed eigenvalues:\n",
      "   [137.5056676  148.00833694 198.68269706 216.52869502 241.70035712\n",
      " 246.0127302  250.69078748 251.26848692]\n",
      "   Relative Hausdorff distance from prior iterate: 1.332e-03\n",
      "\n",
      " ITERATION 3 with 8 vectors\n",
      "   Real part of computed eigenvalues:\n",
      "   [137.5022803  148.00813669 198.68225733 216.52848491 241.69993642\n",
      " 246.01267372 250.68935321 251.26723551]\n",
      "   Relative Hausdorff distance from prior iterate: 1.764e-05\n",
      "\n",
      "   Removing ew#[6, 7] not enclosed by contour\n",
      " ITERATION 4 with 6 vectors\n",
      "   Real part of computed eigenvalues:\n",
      "   [137.50223065 148.0081357  198.68225557 216.52848407 241.69993328\n",
      " 246.01267298]\n",
      "   Relative Hausdorff distance from prior iterate: 2.586e-07\n",
      "\n",
      " ITERATION 5 with 6 vectors\n",
      "   Real part of computed eigenvalues:\n",
      "   [137.50222992 148.0081357  198.68225556 216.52848407 241.69993326\n",
      " 246.01267297]\n",
      "   Relative Hausdorff distance from prior iterate: 3.799e-09\n",
      "\n",
      " ITERATION 6 with 6 vectors\n",
      "   Real part of computed eigenvalues:\n",
      "   [137.50222991 148.0081357  198.68225556 216.52848407 241.69993326\n",
      " 246.01267297]\n",
      "   Relative Hausdorff distance from prior iterate: 5.601e-11\n",
      "\n",
      "\n",
      "***FEAST converged with:\n",
      "\tRelative Hausdorff distance = 5.601e-11\n",
      "\n",
      "============= FEAST iterations done =============\n",
      "Total Time 7.575796842575073 FEAST Time 6.128063917160034\n"
     ]
    },
    {
     "data": {
      "application/vnd.jupyter.widget-view+json": {
       "model_id": "8a290a1d707049968e32c2dfec44cecd",
       "version_major": 2,
       "version_minor": 0
      },
      "text/plain": [
       "WebGuiWidget(layout=Layout(height='50vh', width='100%'), value={'gui_settings': {}, 'ngsolve_version': '6.2.23…"
      ]
     },
     "metadata": {},
     "output_type": "display_data"
    },
    {
     "data": {
      "text/plain": [
       "BaseWebGuiScene"
      ]
     },
     "execution_count": 18,
     "metadata": {},
     "output_type": "execute_result"
    }
   ],
   "source": [
    "import time\n",
    "from ngsolve import *\n",
    "from ngsolve.webgui import Draw\n",
    "from netgen.occ import *\n",
    "from pyeigfeast import NGvecs, SpectralProjNG\n",
    "import random\n",
    "start1 = time.time()\n",
    "n =16\n",
    "list_S = []\n",
    "for j in range(n):\n",
    "    for i in range(n):\n",
    "        S = MoveTo(-1+2*i/n, -1+2*j/n).Rectangle(2/n, 2/n).Face()\n",
    "        S.faces.name=\"S\"+ str(i+1+j*n)\n",
    "        S.edges.name=\"inner\"\n",
    "        if j==0: S.edges.Min(Y).name = \"bottom\"\n",
    "        if j==n-1: S.edges.Max(Y).name = \"top\"\n",
    "        if i==0: S.edges.Min(X).name = \"left\"\n",
    "        if i==n-1: S.edges.Max(X).name = \"right\"\n",
    "        list_S.append(S)\n",
    "\n",
    "geo = Glue(list_S)\n",
    "mesh = Mesh(OCCGeometry(geo,dim=2).GenerateMesh(maxh=0.05)) \n",
    "# Draw(mesh)\n",
    "tk_coef = {}\n",
    "random.seed(1)\n",
    "scale = 100\n",
    "for i in range(n*n):\n",
    "    tkC = random.uniform(0, 1)*scale\n",
    "    tk_coef['S'+str(i+1)] = tkC\n",
    "tk =mesh.MaterialCF(tk_coef)\n",
    "V = tk\n",
    "# Draw(V, mesh)\n",
    "\n",
    "a = 100\n",
    "A = CF((-a*cos(5*pi*sin(x**2 + y**2))*sin(5*pi*cos(x**2 + y**2)), -a*sin(5*pi*sin(x**2 + y**2))*cos(5*pi*cos(x**2 + y**2))))\n",
    "X = H1(mesh, order=3)\n",
    "N = NumberSpace(mesh)\n",
    "fesm = X*N\n",
    "# fesm.ndof\n",
    "u, lam = fesm.TrialFunction()\n",
    "v, c = fesm.TestFunction()\n",
    "gfm = GridFunction(fesm)  # solution\n",
    "gfu, gflam = gfm.components\n",
    "\n",
    "a = BilinearForm(fesm)\n",
    "a += lam*v*dx + grad(u)*grad(v)*dx + u*c*dx\n",
    "a.Assemble()\n",
    "f = LinearForm(A*grad(v)*dx).Assemble()\n",
    "\n",
    "gfm.vec.data = a.mat.Inverse() * f.vec\n",
    "F = A - grad(gfu)\n",
    "Xeig =  H1(mesh, order=3, complex=True, dirichlet = 'bottom|top|left|right')\n",
    "psi, phi = Xeig.TnT()\n",
    "a2 = BilinearForm(Xeig)\n",
    "a2 += grad(psi) * grad(phi) * dx + 1j *  InnerProduct(F,grad(phi)) * psi * dx - 1j * InnerProduct(F , grad(psi)) * phi * dx\\\n",
    "    +  InnerProduct(F, F)* psi * phi *dx + V* psi * phi *dx\n",
    "b2 = BilinearForm(Xeig)\n",
    "\n",
    "b2 += psi * phi * dx\n",
    "a2.Assemble()\n",
    "b2.Assemble()\n",
    "\n",
    "seed =1\n",
    "npts=10\n",
    "nspan=8\n",
    "within=None\n",
    "rhoinv=0.0\n",
    "quadrule='circ_trapez_shift'\n",
    "verbose=True\n",
    "# Make the spectral projector object, change radius and center values for the searching range of eigenvalues.\n",
    "# Scale=100:  radius = 55, center = 192\n",
    "# Scale=500: radius = 82, center = 306\n",
    "# Scale=1000: radius = 98, center = 393\n",
    "P = SpectralProjNG(Xeig,\n",
    "                   a2.mat,\n",
    "                   b2.mat,\n",
    "                   radius=55,\n",
    "                   center=192,\n",
    "                   npts=npts,\n",
    "                   within=within,\n",
    "                   rhoinv=rhoinv,\n",
    "                   quadrule=quadrule,\n",
    "                   inverse=None)\n",
    "Y = NGvecs(Xeig, nspan, M=b2.mat)\n",
    "Y.setrandom(seed=seed)\n",
    "start2 = time.time()\n",
    "# print('Prepare time', start2-start1)\n",
    "lam, Y, history, _ = P.feast(Y)\n",
    "end = time.time()\n",
    "print(\"Total Time\", end - start1, \"FEAST Time\", end - start2)\n",
    "y1 = Y.gridfun()\n",
    "Draw(y1)"
   ]
  },
  {
   "cell_type": "markdown",
   "id": "282ca770-9678-4e19-b456-208a7830bbef",
   "metadata": {},
   "source": [
    "Calculate the $L^2$ norm of $\\nabla \\phi$ and $F\\phi$"
   ]
  },
  {
   "cell_type": "code",
   "execution_count": 19,
   "id": "728325ca",
   "metadata": {},
   "outputs": [
    {
     "name": "stdout",
     "output_type": "stream",
     "text": [
      "(30.693800405811395+0j) (30.05190806573415+0j)\n",
      "(34.64377396957469+0j) (34.00796654101724+0j)\n",
      "(34.66106802493703+0j) (33.560605065684136+0j)\n",
      "(41.26443027562706+0j) (40.15850593874018+0j)\n",
      "(38.21077391992729+0j) (36.701191492640575+0j)\n",
      "(21.483177704267224+0j) (20.331025929539162+0j)\n"
     ]
    }
   ],
   "source": [
    "for i in range(0,6):\n",
    "    phi = GridFunction(Xeig)\n",
    "    phi.Set(y1.MDComponent(i))\n",
    "    print(sqrt(Integrate(grad(phi)*Conj(grad(phi)), mesh)), sqrt(Integrate(F*phi*Conj(F*phi), mesh)))"
   ]
  }
 ],
 "metadata": {
  "kernelspec": {
   "display_name": "Python 3 (ipykernel)",
   "language": "python",
   "name": "python3"
  },
  "language_info": {
   "codemirror_mode": {
    "name": "ipython",
    "version": 3
   },
   "file_extension": ".py",
   "mimetype": "text/x-python",
   "name": "python",
   "nbconvert_exporter": "python",
   "pygments_lexer": "ipython3",
   "version": "3.8.0"
  }
 },
 "nbformat": 4,
 "nbformat_minor": 5
}

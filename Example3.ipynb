{
 "cells": [
  {
   "cell_type": "markdown",
   "id": "bdaff251-8d71-420f-a14e-dcf9f40f05f1",
   "metadata": {},
   "source": [
    "This code is for Example 3 on domain $(-1,1) \\times (-1,1)$ when $A = -100(cos(f), sin(f)))$, where $f = \\pi *\\sin(\\pi*x)*\\cos(\\pi*y)$"
   ]
  },
  {
   "cell_type": "markdown",
   "id": "492220e2-e4c3-487e-ac81-c58f731739f0",
   "metadata": {
    "tags": []
   },
   "source": [
    "# This section is to display the graph of A and F"
   ]
  },
  {
   "cell_type": "code",
   "execution_count": null,
   "id": "a29ae2f6-a9f9-4302-a26d-f5a93441a301",
   "metadata": {},
   "outputs": [],
   "source": [
    "from ngsolve import *\n",
    "from ngsolve.webgui import Draw\n",
    "from netgen.occ import *\n",
    "# Generate computation domain (-1,1) x (-1,1)\n",
    "domain = WorkPlane().MoveTo(-1,-1).Rectangle(2,2).Face()\n",
    "geo = OCCGeometry(domain, dim = 2)\n",
    "# Generate a triangular mesh of mesh-size 0.01, modify maxh value for resutls with h=0.03 and h=0.05\n",
    "mesh = Mesh(geo.GenerateMesh(maxh=0.01))\n",
    "# Define vector field A and FEM space for solving the Neumann problem, fix the local polynomial degree at p=3\n",
    "a =100\n",
    "A = CF((-a*cos(pi*sin(pi*x)*cos(pi*y)), -a*sin(pi*sin(pi*x)*cos(pi*y))))\n",
    "X = H1(mesh, order=3)\n",
    "N = NumberSpace(mesh)\n",
    "fesm = X*N\n",
    "\n",
    "# Define trial-function, test-function, and the variation form \n",
    "u, lam = fesm.TrialFunction()\n",
    "v, c = fesm.TestFunction()\n",
    "gfm = GridFunction(fesm)  # solution\n",
    "gfu, gflam = gfm.components\n",
    "\n",
    "a = BilinearForm(fesm)\n",
    "a += lam*v*dx + grad(u)*grad(v)*dx + u*c*dx\n",
    "a.Assemble()\n",
    "f = LinearForm(A*grad(v)*dx).Assemble()\n",
    "\n",
    "# the solution field\n",
    "gfm.vec.data = a.mat.Inverse() * f.vec\n",
    "\n",
    "F = A - grad(gfu)\n",
    "F0x, F1x = F.Diff(x)\n",
    "F0y, F1y = F.Diff(y)\n",
    "Draw(A, mesh,vector=True)\n",
    "Draw(F, mesh,vector=True)"
   ]
  },
  {
   "cell_type": "markdown",
   "id": "7eb1c416-90bb-4b56-afea-ed400278806f",
   "metadata": {},
   "source": [
    "Calculate the $L^2$ norm for A and F"
   ]
  },
  {
   "cell_type": "code",
   "execution_count": 20,
   "id": "48b88206-1efc-47af-9bbb-775f6c88c1cc",
   "metadata": {},
   "outputs": [
    {
     "data": {
      "text/plain": [
       "(199.99999999999977, 118.96129807129384)"
      ]
     },
     "execution_count": 20,
     "metadata": {},
     "output_type": "execute_result"
    }
   ],
   "source": [
    "sqrt(Integrate(A*A, mesh)), sqrt(Integrate(F*F, mesh))"
   ]
  },
  {
   "cell_type": "markdown",
   "id": "097285a0-fe8b-4acb-98fd-7adb9759ab67",
   "metadata": {},
   "source": [
    "# This section is to calculate the eigenpairs for H(A)"
   ]
  },
  {
   "cell_type": "code",
   "execution_count": 21,
   "id": "09f9254e-fc0d-4b17-b42a-8e5b4fbc31b5",
   "metadata": {
    "scrolled": true
   },
   "outputs": [
    {
     "name": "stdout",
     "output_type": "stream",
     "text": [
      "\n",
      "SpectralProj: Setting shifted trapezoidal rule quadrature on circular contour\n",
      "SpectralProj: Radius=26, Center=332+0j\n",
      "\n",
      "SpectralProjNG: Computing resolvents using umfpack\n",
      "SpectralProjNG:   Factorizing at z = +356.727 +8.034j\n",
      "SpectralProjNG:   Factorizing at z = +347.282+21.034j\n",
      "SpectralProjNG:   Factorizing at z = +332.000+26.000j\n",
      "SpectralProjNG:   Factorizing at z = +316.718+21.034j\n",
      "SpectralProjNG:   Factorizing at z = +307.273 +8.034j\n",
      "SpectralProjNG:   Factorizing at z = +307.273 -8.034j\n",
      "SpectralProjNG:   Factorizing at z = +316.718-21.034j\n",
      "SpectralProjNG:   Factorizing at z = +332.000-26.000j\n",
      "SpectralProjNG:   Factorizing at z = +347.282-21.034j\n",
      "SpectralProjNG:   Factorizing at z = +356.727 -8.034j\n",
      "Prepare time 0.8570871353149414\n",
      "\n",
      "=========== Starting FEAST iterations ===========\n",
      "Trying with 6 vectors:\n",
      "\n",
      " ITERATION 1 with 6 vectors\n",
      "   Real part of computed eigenvalues:\n",
      "   [313.80226668 324.03033835 327.02977534 344.77687537 352.16142512\n",
      " 358.83439886]\n",
      "   Relative Hausdorff distance from prior iterate: 3.012e+97\n",
      "\n",
      " ITERATION 2 with 6 vectors\n",
      "   Real part of computed eigenvalues:\n",
      "   [307.24133887 322.58732475 326.09949966 344.10892392 352.11617023\n",
      " 357.72723108]\n",
      "   Relative Hausdorff distance from prior iterate: 1.976e-02\n",
      "\n",
      " ITERATION 3 with 6 vectors\n",
      "   Real part of computed eigenvalues:\n",
      "   [306.63193639 322.56135263 326.09060039 344.0965499  352.11511242\n",
      " 357.65731058]\n",
      "   Relative Hausdorff distance from prior iterate: 1.836e-03\n",
      "\n",
      " ITERATION 4 with 6 vectors\n",
      "   Real part of computed eigenvalues:\n",
      "   [306.60137661 322.56096255 326.09046706 344.09635987 352.11509343\n",
      " 357.6535452 ]\n",
      "   Relative Hausdorff distance from prior iterate: 9.205e-05\n",
      "\n",
      " ITERATION 5 with 6 vectors\n",
      "   Real part of computed eigenvalues:\n",
      "   [306.59988633 322.56095663 326.09046504 344.09635699 352.11509309\n",
      " 357.65334442]\n",
      "   Relative Hausdorff distance from prior iterate: 4.489e-06\n",
      "\n",
      " ITERATION 6 with 6 vectors\n",
      "   Real part of computed eigenvalues:\n",
      "   [306.59981374 322.56095654 326.09046501 344.09635694 352.11509309\n",
      " 357.65333372]\n",
      "   Relative Hausdorff distance from prior iterate: 2.186e-07\n",
      "\n",
      " ITERATION 7 with 6 vectors\n",
      "   Real part of computed eigenvalues:\n",
      "   [306.59981021 322.56095654 326.09046501 344.09635694 352.11509309\n",
      " 357.65333315]\n",
      "   Relative Hausdorff distance from prior iterate: 1.065e-08\n",
      "\n",
      " ITERATION 8 with 6 vectors\n",
      "   Real part of computed eigenvalues:\n",
      "   [306.59981004 322.56095654 326.09046501 344.09635694 352.11509309\n",
      " 357.65333312]\n",
      "   Relative Hausdorff distance from prior iterate: 5.185e-10\n",
      "\n",
      "\n",
      "***FEAST converged with:\n",
      "\tRelative Hausdorff distance = 5.185e-10\n",
      "\n",
      "============= FEAST iterations done =============\n",
      "Total Time 6.885144948959351 FEAST Time 6.028057813644409\n"
     ]
    },
    {
     "data": {
      "application/vnd.jupyter.widget-view+json": {
       "model_id": "9eb4d71b3c8e4a59980f97b33f2f8f06",
       "version_major": 2,
       "version_minor": 0
      },
      "text/plain": [
       "WebGuiWidget(layout=Layout(height='50vh', width='100%'), value={'gui_settings': {}, 'ngsolve_version': '6.2.23…"
      ]
     },
     "metadata": {},
     "output_type": "display_data"
    },
    {
     "data": {
      "text/plain": [
       "BaseWebGuiScene"
      ]
     },
     "execution_count": 21,
     "metadata": {},
     "output_type": "execute_result"
    }
   ],
   "source": [
    "import time\n",
    "from ngsolve import *\n",
    "from ngsolve.webgui import Draw\n",
    "from netgen.occ import *\n",
    "from pyeigfeast import NGvecs, SpectralProjNG\n",
    "start1 = time.time()\n",
    "a = 100\n",
    "A = CF((-a*cos(pi*sin(pi*x)*cos(pi*y)), -a*sin(pi*sin(pi*x)*cos(pi*y))))\n",
    "\n",
    "domain = WorkPlane().MoveTo(-1,-1).Rectangle(2,2).Face()\n",
    "geo = OCCGeometry(domain, dim = 2)\n",
    "mesh = Mesh(geo.GenerateMesh(maxh=0.05))\n",
    "\n",
    "X = H1(mesh, order=3, complex=True, dirichlet = '.*')\n",
    "# X.ndof\n",
    "psi, phi = X.TnT()\n",
    "a3 = BilinearForm(X)\n",
    "a3 += grad(psi) * grad(phi) * dx +  1j * InnerProduct(A,grad(phi)) * psi * dx - 1j * InnerProduct(A , grad(psi)) * phi * dx \\\n",
    "       + InnerProduct(A,A)* psi * phi *dx\n",
    "b3 = BilinearForm(X)\n",
    "b3 += psi * phi * dx\n",
    "a3.Assemble()\n",
    "b3.Assemble()\n",
    "\n",
    "# Use FEAST algorithm for computing eigenvalues\n",
    "seed =1\n",
    "npts=10\n",
    "nspan=6\n",
    "within=None\n",
    "rhoinv=0.0\n",
    "quadrule='circ_trapez_shift'\n",
    "verbose=True\n",
    "# Make the spectral projector object, change radius and center values for the searching range of eigenvalues.\n",
    "# When h=0.01, radius = 21, center = 115; When h=0.03, radius = 22, center = 136; When h=0.05, radius = 26, center = 332\n",
    "P = SpectralProjNG(X,\n",
    "                   a3.mat,\n",
    "                   b3.mat,\n",
    "                   radius=26,\n",
    "                   center=332,\n",
    "                   npts=npts,\n",
    "                   within=within,\n",
    "                   rhoinv=rhoinv,\n",
    "                   quadrule=quadrule,\n",
    "                   inverse=None)\n",
    "Y = NGvecs(X, nspan, M=b3.mat)\n",
    "Y.setrandom(seed=seed)\n",
    "start2 = time.time()\n",
    "print('Prepare time', start2-start1)\n",
    "lam, Y, history, _ = P.feast(Y)\n",
    "end = time.time()\n",
    "print(\"Total Time\", end - start1, \"FEAST Time\", end - start2)\n",
    "y = Y.gridfun()\n",
    "Draw(y)"
   ]
  },
  {
   "cell_type": "markdown",
   "id": "0909a109-a7ba-431e-a0b9-924e4b9e85e9",
   "metadata": {},
   "source": [
    "Calculate the degree of freedom "
   ]
  },
  {
   "cell_type": "code",
   "execution_count": 23,
   "id": "6427e9fb-ba0d-416f-9493-2de648a18588",
   "metadata": {},
   "outputs": [
    {
     "data": {
      "text/plain": [
       "17017"
      ]
     },
     "execution_count": 23,
     "metadata": {},
     "output_type": "execute_result"
    }
   ],
   "source": [
    "X.ndof "
   ]
  },
  {
   "cell_type": "markdown",
   "id": "8212ea85-9bda-4a83-82b1-17e91c055cee",
   "metadata": {},
   "source": [
    "Calculate the $L^2$ norm of $\\nabla \\psi$ and $A\\psi$"
   ]
  },
  {
   "cell_type": "code",
   "execution_count": 24,
   "id": "95a92355",
   "metadata": {},
   "outputs": [
    {
     "name": "stdout",
     "output_type": "stream",
     "text": [
      "(95.01347227647042+0j) (99.99999999999999+0j)\n",
      "(95.5517671150651+0j) (99.99999999999973+0j)\n",
      "(95.43300286819841+0j) (99.99999999999969+0j)\n",
      "(94.93397414867844+0j) (99.99999999999991+0j)\n",
      "(95.46892009419035+0j) (99.99999999999983+0j)\n",
      "(94.91370830404492+0j) (99.99999999999996+0j)\n"
     ]
    }
   ],
   "source": [
    "for i in range(0,6):\n",
    "    psi = GridFunction(X)\n",
    "    psi.Set(y.MDComponent(i))\n",
    "    print(sqrt(Integrate(grad(psi)*Conj(grad(psi)), mesh)), sqrt(Integrate(A*psi*Conj(A*psi), mesh)))"
   ]
  },
  {
   "cell_type": "markdown",
   "id": "028eb43d-1c30-4a00-a7ca-2594ab5dc90d",
   "metadata": {},
   "source": [
    "# This section is to calculate the eigenpairs for H(F)"
   ]
  },
  {
   "cell_type": "code",
   "execution_count": 1,
   "id": "19861a9f-44e7-43a3-b90b-dda27d969f11",
   "metadata": {},
   "outputs": [
    {
     "name": "stdout",
     "output_type": "stream",
     "text": [
      "\n",
      "SpectralProj: Setting shifted trapezoidal rule quadrature on circular contour\n",
      "SpectralProj: Radius=25, Center=121+0j\n",
      "\n",
      "SpectralProjNG: Computing resolvents using umfpack\n",
      "SpectralProjNG:   Factorizing at z = +144.776 +7.725j\n",
      "SpectralProjNG:   Factorizing at z = +135.695+20.225j\n",
      "SpectralProjNG:   Factorizing at z = +121.000+25.000j\n",
      "SpectralProjNG:   Factorizing at z = +106.305+20.225j\n",
      "SpectralProjNG:   Factorizing at z = +97.224 +7.725j\n",
      "SpectralProjNG:   Factorizing at z = +97.224 -7.725j\n",
      "SpectralProjNG:   Factorizing at z = +106.305-20.225j\n",
      "SpectralProjNG:   Factorizing at z = +121.000-25.000j\n",
      "SpectralProjNG:   Factorizing at z = +135.695-20.225j\n",
      "SpectralProjNG:   Factorizing at z = +144.776 -7.725j\n",
      "\n",
      "=========== Starting FEAST iterations ===========\n",
      "Trying with 6 vectors:\n",
      "\n",
      " ITERATION 1 with 6 vectors\n",
      "   Real part of computed eigenvalues:\n",
      "   [ 96.68848472 122.13203821 129.16838555 129.21427298 144.56684602\n",
      " 144.72439579]\n",
      "   Relative Hausdorff distance from prior iterate: 8.264e+97\n",
      "\n",
      " ITERATION 2 with 6 vectors\n",
      "   Real part of computed eigenvalues:\n",
      "   [ 96.68847222 122.13203643 129.16838477 129.21427171 144.56684287\n",
      " 144.72439495]\n",
      "   Relative Hausdorff distance from prior iterate: 1.033e-07\n",
      "\n",
      " ITERATION 3 with 6 vectors\n",
      "   Real part of computed eigenvalues:\n",
      "   [ 96.68847222 122.13203643 129.16838477 129.21427171 144.56684287\n",
      " 144.72439495]\n",
      "   Relative Hausdorff distance from prior iterate: 3.288e-15\n",
      "\n",
      "\n",
      "***FEAST converged with:\n",
      "\tRelative Hausdorff distance = 3.288e-15\n",
      "\n",
      "============= FEAST iterations done =============\n",
      "Time 1.9741039276123047\n"
     ]
    },
    {
     "data": {
      "application/vnd.jupyter.widget-view+json": {
       "model_id": "c66d28abaf154423859d0cb41e440958",
       "version_major": 2,
       "version_minor": 0
      },
      "text/plain": [
       "WebGuiWidget(layout=Layout(height='50vh', width='100%'), value={'gui_settings': {}, 'ngsolve_version': '6.2.23…"
      ]
     },
     "metadata": {},
     "output_type": "display_data"
    },
    {
     "data": {
      "text/plain": [
       "BaseWebGuiScene"
      ]
     },
     "execution_count": 1,
     "metadata": {},
     "output_type": "execute_result"
    }
   ],
   "source": [
    "import time\n",
    "from ngsolve import *\n",
    "from ngsolve.webgui import Draw\n",
    "from netgen.occ import *\n",
    "from pyeigfeast import NGvecs, SpectralProjNG\n",
    "start1 = time.time()\n",
    "domain = WorkPlane().MoveTo(-1,-1).Rectangle(2,2).Face()\n",
    "geo = OCCGeometry(domain, dim = 2)\n",
    "mesh = Mesh(geo.GenerateMesh(maxh=0.05))\n",
    "a = 100\n",
    "A = CF((-a*cos(pi*sin(pi*x)*cos(pi*y)), -a*sin(pi*sin(pi*x)*cos(pi*y))))\n",
    "X = H1(mesh, order=3)\n",
    "N = NumberSpace(mesh)\n",
    "fesm = X*N\n",
    "\n",
    "u, lam = fesm.TrialFunction()\n",
    "v, c = fesm.TestFunction()\n",
    "gfm = GridFunction(fesm)  # solution\n",
    "gfu, gflam = gfm.components\n",
    "\n",
    "a = BilinearForm(fesm)\n",
    "a += lam*v*dx + grad(u)*grad(v)*dx + u*c*dx\n",
    "a.Assemble()\n",
    "f = LinearForm(A*grad(v)*dx).Assemble()\n",
    "\n",
    "gfm.vec.data = a.mat.Inverse() * f.vec\n",
    "F = A - grad(gfu)\n",
    "\n",
    "Xeig = H1(mesh, order=3, complex = True, dirichlet = '.*')\n",
    "psi, phi = Xeig.TnT()\n",
    "a2 = BilinearForm(Xeig)\n",
    "a2 += grad(psi) * grad(phi) * dx + 1j *  InnerProduct(F,grad(phi)) * psi * dx - 1j * InnerProduct(F , grad(psi)) * phi * dx\\\n",
    "    +  InnerProduct(F, F)* psi * phi *dx\n",
    "b2 = BilinearForm(Xeig)\n",
    "\n",
    "b2 += psi * phi * dx\n",
    "a2.Assemble()\n",
    "b2.Assemble()\n",
    "\n",
    "seed =1\n",
    "npts=10\n",
    "nspan=6\n",
    "within=None\n",
    "rhoinv=0.0\n",
    "quadrule='circ_trapez_shift'\n",
    "verbose=True\n",
    "# Make the spectral projector object,  change radius and center values for the searching range of eigenvalues.\n",
    "# When h=0.01, radius = 21, center = 115; When h=0.03, radius = 21, center = 115; When h=0.05, radius = 25, center = 121\n",
    "P = SpectralProjNG(Xeig,\n",
    "                   a2.mat,\n",
    "                   b2.mat,\n",
    "                   radius=25,\n",
    "                   center=121,\n",
    "                   npts=npts,\n",
    "                   within=within,\n",
    "                   rhoinv=rhoinv,\n",
    "                   quadrule=quadrule,\n",
    "                   inverse=None)\n",
    "Y = NGvecs(Xeig, nspan, M=b2.mat)\n",
    "Y.setrandom(seed=seed)\n",
    "start2 = time.time()\n",
    "lam, Y, history, _ = P.feast(Y)\n",
    "end = time.time()\n",
    "print(\"Time\", end - start2)\n",
    "\n",
    "y1 = Y.gridfun()\n",
    "Draw(y1)"
   ]
  },
  {
   "cell_type": "markdown",
   "id": "022342b8-7793-4e71-a435-c78b0f313e42",
   "metadata": {},
   "source": [
    "Calculate the $L^2$ norm of $\\nabla \\phi$ and $F\\phi$"
   ]
  },
  {
   "cell_type": "code",
   "execution_count": 2,
   "id": "a886483c-688d-494a-b597-5c5755edaf77",
   "metadata": {},
   "outputs": [
    {
     "name": "stdout",
     "output_type": "stream",
     "text": [
      "(36.863380802123984+0j) (36.47789605721692+0j)\n",
      "(39.624381308055135+0j) (39.00525974634234+0j)\n",
      "(45.50453894340125+0j) (45.045556701595785+0j)\n",
      "(45.53365395459239+0j) (45.096345000885336+0j)\n",
      "(58.70288781061806+0j) (58.74262334778236+0j)\n",
      "(58.67904772989794+0j) (58.72178757609474+0j)\n"
     ]
    }
   ],
   "source": [
    "for i in range(0,6):\n",
    "    phi = GridFunction(Xeig)\n",
    "    phi.Set(y1.MDComponent(i))\n",
    "    print(sqrt(Integrate(grad(phi)*Conj(grad(phi)), mesh)), sqrt(Integrate(F*phi*Conj(F*phi), mesh)))"
   ]
  }
 ],
 "metadata": {
  "kernelspec": {
   "display_name": "Python 3 (ipykernel)",
   "language": "python",
   "name": "python3"
  },
  "language_info": {
   "codemirror_mode": {
    "name": "ipython",
    "version": 3
   },
   "file_extension": ".py",
   "mimetype": "text/x-python",
   "name": "python",
   "nbconvert_exporter": "python",
   "pygments_lexer": "ipython3",
   "version": "3.8.0"
  }
 },
 "nbformat": 4,
 "nbformat_minor": 5
}

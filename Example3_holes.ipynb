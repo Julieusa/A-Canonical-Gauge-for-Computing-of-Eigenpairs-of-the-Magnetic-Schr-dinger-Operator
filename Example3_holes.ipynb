{
 "cells": [
  {
   "cell_type": "markdown",
   "id": "c180f01b-17f8-47e5-8ab2-783431d9a8ae",
   "metadata": {},
   "source": [
    "Based on Example3.ipynb, we allow holes in the domain "
   ]
  },
  {
   "cell_type": "markdown",
   "id": "c62c48b6-4d04-4cfc-bbfe-e81f657f61ef",
   "metadata": {},
   "source": [
    "# One hole"
   ]
  },
  {
   "cell_type": "code",
   "execution_count": 17,
   "id": "a29ae2f6-a9f9-4302-a26d-f5a93441a301",
   "metadata": {},
   "outputs": [
    {
     "data": {
      "application/vnd.jupyter.widget-view+json": {
       "model_id": "c42ae4e9eced4508bd2ec53f1e22c202",
       "version_major": 2,
       "version_minor": 0
      },
      "text/plain": [
       "WebGuiWidget(layout=Layout(height='50vh', width='100%'), value={'gui_settings': {}, 'ngsolve_version': '6.2.23…"
      ]
     },
     "metadata": {},
     "output_type": "display_data"
    },
    {
     "data": {
      "application/vnd.jupyter.widget-view+json": {
       "model_id": "0d44413c21194957991b88a5dcccf8a2",
       "version_major": 2,
       "version_minor": 0
      },
      "text/plain": [
       "WebGuiWidget(layout=Layout(height='50vh', width='100%'), value={'gui_settings': {}, 'ngsolve_version': '6.2.23…"
      ]
     },
     "metadata": {},
     "output_type": "display_data"
    },
    {
     "data": {
      "text/plain": [
       "BaseWebGuiScene"
      ]
     },
     "execution_count": 17,
     "metadata": {},
     "output_type": "execute_result"
    }
   ],
   "source": [
    "import time\n",
    "from ngsolve import *\n",
    "from ngsolve.webgui import Draw\n",
    "from netgen.occ import *\n",
    "\n",
    "# Generate computation domain \\Omega_1\n",
    "domain = WorkPlane().MoveTo(-1,-1).Rectangle(2,2).Circle(0.0,0.5,0.1).Reverse().Face() # with a hole with r=0.1 in the center \n",
    "geo = OCCGeometry(domain, dim = 2)\n",
    "# Generate a triangular mesh of mesh-size 0.01, modify maxh value for resutls with h=0.03 and h=0.05\n",
    "mesh = Mesh(geo.GenerateMesh(maxh=0.05))\n",
    "# Define vector field A and FEM space for solving the Neumann problem, fix the local polynomial degree at p=3\n",
    "a =100\n",
    "A = CF((-a*cos(pi*sin(pi*x)*cos(pi*y)), -a*sin(pi*sin(pi*x)*cos(pi*y))))\n",
    "X = H1(mesh, order=3)\n",
    "N = NumberSpace(mesh)\n",
    "fesm = X*N\n",
    "\n",
    "# Define trial-function, test-function, and the variation form \n",
    "u, lam = fesm.TrialFunction()\n",
    "v, c = fesm.TestFunction()\n",
    "gfm = GridFunction(fesm)  # solution\n",
    "gfu, gflam = gfm.components\n",
    "\n",
    "a = BilinearForm(fesm)\n",
    "a += lam*v*dx + grad(u)*grad(v)*dx + u*c*dx\n",
    "a.Assemble()\n",
    "f = LinearForm(A*grad(v)*dx).Assemble()\n",
    "\n",
    "# the solution field\n",
    "gfm.vec.data = a.mat.Inverse() * f.vec\n",
    "\n",
    "F = A - grad(gfu)\n",
    "F0x, F1x = F.Diff(x)\n",
    "F0y, F1y = F.Diff(y)\n",
    "Draw(A, mesh,vector=True)\n",
    "Draw(F, mesh,vector=True)"
   ]
  },
  {
   "cell_type": "code",
   "execution_count": 18,
   "id": "ebb3aa01",
   "metadata": {},
   "outputs": [
    {
     "data": {
      "text/plain": [
       "(199.2433937127805, 118.62320366222475)"
      ]
     },
     "execution_count": 18,
     "metadata": {},
     "output_type": "execute_result"
    }
   ],
   "source": [
    "# Calculate the L^2 norm for A and F\n",
    "sqrt(Integrate(A*A, mesh)), sqrt(Integrate(F*F, mesh))"
   ]
  },
  {
   "cell_type": "markdown",
   "id": "48032b84-3cc5-41be-8b63-9f2d2f2e4e9b",
   "metadata": {},
   "source": [
    "## Use dirichlet BC"
   ]
  },
  {
   "cell_type": "markdown",
   "id": "1d86917a-fe67-4b7f-b5a8-7dc66c757e8a",
   "metadata": {},
   "source": [
    "### This section is to calculate the eigenpairs for H(A)"
   ]
  },
  {
   "cell_type": "code",
   "execution_count": 19,
   "id": "29698356",
   "metadata": {},
   "outputs": [
    {
     "name": "stdout",
     "output_type": "stream",
     "text": [
      "\n",
      "SpectralProj: Setting shifted trapezoidal rule quadrature on circular contour\n",
      "SpectralProj: Radius=41, Center=371+0j\n",
      "\n",
      "SpectralProjNG: Computing resolvents using umfpack\n",
      "SpectralProjNG:   Factorizing at z = +409.993+12.670j\n",
      "SpectralProjNG:   Factorizing at z = +395.099+33.170j\n",
      "SpectralProjNG:   Factorizing at z = +371.000+41.000j\n",
      "SpectralProjNG:   Factorizing at z = +346.901+33.170j\n",
      "SpectralProjNG:   Factorizing at z = +332.007+12.670j\n",
      "SpectralProjNG:   Factorizing at z = +332.007-12.670j\n",
      "SpectralProjNG:   Factorizing at z = +346.901-33.170j\n",
      "SpectralProjNG:   Factorizing at z = +371.000-41.000j\n",
      "SpectralProjNG:   Factorizing at z = +395.099-33.170j\n",
      "SpectralProjNG:   Factorizing at z = +409.993-12.670j\n",
      "\n",
      "=========== Starting FEAST iterations ===========\n",
      "Trying with 8 vectors:\n",
      "\n",
      " ITERATION 1 with 8 vectors\n",
      "   Real part of computed eigenvalues:\n",
      "   [331.93131947 342.80330615 382.23236453 389.52110326 399.28512429\n",
      " 410.57622274 411.95089915 420.32897117]\n",
      "   Relative Hausdorff distance from prior iterate: 2.695e+97\n",
      "\n",
      " ITERATION 2 with 8 vectors\n",
      "   Real part of computed eigenvalues:\n",
      "   [330.69174498 342.1342325  381.45775224 388.99866613 399.02399563\n",
      " 410.4329475  410.58186569 416.38926185]\n",
      "   Relative Hausdorff distance from prior iterate: 1.062e-02\n",
      "\n",
      " ITERATION 3 with 8 vectors\n",
      "   Real part of computed eigenvalues:\n",
      "   [330.64947498 342.12684151 381.44661891 388.99244887 399.02115067\n",
      " 410.41517964 410.54046681 416.07182119]\n",
      "   Relative Hausdorff distance from prior iterate: 8.556e-04\n",
      "\n",
      "   Removing ew#[7] not enclosed by contour\n",
      " ITERATION 4 with 7 vectors\n",
      "   Real part of computed eigenvalues:\n",
      "   [330.64814638 342.12677522 381.4464884  388.99239617 399.02113462\n",
      " 410.41448262 410.53976561]\n",
      "   Relative Hausdorff distance from prior iterate: 3.581e-06\n",
      "\n",
      " ITERATION 5 with 7 vectors\n",
      "   Real part of computed eigenvalues:\n",
      "   [330.64809207 342.12677441 381.44648665 388.99239557 399.02113449\n",
      " 410.4144568  410.53974722]\n",
      "   Relative Hausdorff distance from prior iterate: 1.464e-07\n",
      "\n",
      " ITERATION 6 with 7 vectors\n",
      "   Real part of computed eigenvalues:\n",
      "   [330.64808954 342.1267744  381.44648662 388.99239557 399.02113449\n",
      " 410.41445576 410.5397465 ]\n",
      "   Relative Hausdorff distance from prior iterate: 6.822e-09\n",
      "\n",
      " ITERATION 7 with 7 vectors\n",
      "   Real part of computed eigenvalues:\n",
      "   [330.64808941 342.1267744  381.44648662 388.99239557 399.02113449\n",
      " 410.41445571 410.53974645]\n",
      "   Relative Hausdorff distance from prior iterate: 3.417e-10\n",
      "\n",
      "\n",
      "***FEAST converged with:\n",
      "\tRelative Hausdorff distance = 3.417e-10\n",
      "\n",
      "============= FEAST iterations done =============\n",
      "Total Time 6.936892032623291 FEAST Time 6.074096918106079\n"
     ]
    },
    {
     "data": {
      "application/vnd.jupyter.widget-view+json": {
       "model_id": "1fedcac66d694ca99b85839279d7ed41",
       "version_major": 2,
       "version_minor": 0
      },
      "text/plain": [
       "WebGuiWidget(layout=Layout(height='50vh', width='100%'), value={'gui_settings': {}, 'ngsolve_version': '6.2.23…"
      ]
     },
     "metadata": {},
     "output_type": "display_data"
    },
    {
     "data": {
      "text/plain": [
       "BaseWebGuiScene"
      ]
     },
     "execution_count": 19,
     "metadata": {},
     "output_type": "execute_result"
    }
   ],
   "source": [
    "import time\n",
    "from ngsolve import *\n",
    "from ngsolve.webgui import Draw\n",
    "from netgen.occ import *\n",
    "from pyeigfeast import NGvecs, SpectralProjNG\n",
    "\n",
    "start1 = time.time()\n",
    "a = 100\n",
    "A = CF((-a*cos(pi*sin(pi*x)*cos(pi*y)), -a*sin(pi*sin(pi*x)*cos(pi*y))))\n",
    "\n",
    "domain = WorkPlane().MoveTo(-1,-1).Rectangle(2,2).Circle(0.0,0.5,0.1).Reverse().Face()\n",
    "geo = OCCGeometry(domain, dim = 2)\n",
    "mesh = Mesh(geo.GenerateMesh(maxh=0.05))\n",
    "\n",
    "X = H1(mesh, order=3, complex=True, dirichlet = '.*')\n",
    "# X.ndof\n",
    "psi, phi = X.TnT()\n",
    "a3 = BilinearForm(X)\n",
    "a3 += grad(psi) * grad(phi) * dx +  1j * InnerProduct(A,grad(phi)) * psi * dx - 1j * InnerProduct(A , grad(psi)) * phi * dx \\\n",
    "       + InnerProduct(A,A)* psi * phi *dx\n",
    "b3 = BilinearForm(X)\n",
    "b3 += psi * phi * dx\n",
    "a3.Assemble()\n",
    "b3.Assemble()\n",
    "\n",
    "# Use FEAST algorithm for computing eigenvalues\n",
    "seed =1\n",
    "npts=10\n",
    "nspan=8\n",
    "within=None\n",
    "rhoinv=0.0\n",
    "quadrule='circ_trapez_shift'\n",
    "verbose=True\n",
    "# Make the spectral projector object, change radius and center values for the searching range of eigenvalues.\n",
    "# When h=0.01, radius = 19, center = 139; When h=0.03, radius = 29, center = 171; When h=0.05, radius = 41, center = 371\n",
    "P = SpectralProjNG(X,\n",
    "                   a3.mat,\n",
    "                   b3.mat,\n",
    "                   radius=41,\n",
    "                   center=371,\n",
    "                   npts=npts,\n",
    "                   within=within,\n",
    "                   rhoinv=rhoinv,\n",
    "                   quadrule=quadrule,\n",
    "                   inverse=None)\n",
    "Y = NGvecs(X, nspan, M=b3.mat)\n",
    "Y.setrandom(seed=seed)\n",
    "start2 = time.time()\n",
    "lam, Y, history, _ = P.feast(Y)\n",
    "end = time.time()\n",
    "print(\"Total Time\", end - start1, \"FEAST Time\", end - start2)\n",
    "y = Y.gridfun()\n",
    "Draw(y)"
   ]
  },
  {
   "cell_type": "markdown",
   "id": "016ada47-4a85-4ed7-8982-f8695e3d8347",
   "metadata": {},
   "source": [
    "Calculate the degree of freedom "
   ]
  },
  {
   "cell_type": "code",
   "execution_count": 20,
   "id": "6f653848-7415-4a85-85f8-90979b0a628b",
   "metadata": {},
   "outputs": [
    {
     "data": {
      "text/plain": [
       "16221"
      ]
     },
     "execution_count": 20,
     "metadata": {},
     "output_type": "execute_result"
    }
   ],
   "source": [
    "X.ndof "
   ]
  },
  {
   "cell_type": "markdown",
   "id": "aef134b8-9cb2-4d95-a950-f1bb23b357fa",
   "metadata": {},
   "source": [
    "Calculate the $L^2$ norm of $\\nabla \\psi$ and $A\\psi$"
   ]
  },
  {
   "cell_type": "code",
   "execution_count": 21,
   "id": "91c49967",
   "metadata": {},
   "outputs": [
    {
     "name": "stdout",
     "output_type": "stream",
     "text": [
      "(95.35112830459103+0j) (99.99999999999983+0j)\n",
      "(95.14093592373668+0j) (99.99999999999993+0j)\n",
      "(94.86156035482742+0j) (99.9999999999999+0j)\n",
      "(94.5433912759974+0j) (100.00000000000009+0j)\n",
      "(94.62615026412533+0j) (99.99999999999989+0j)\n",
      "(95.13367889565964+0j) (99.9999999999993+0j)\n"
     ]
    }
   ],
   "source": [
    "for i in range(0,6):\n",
    "    psi = GridFunction(X)\n",
    "    psi.Set(y.MDComponent(i))\n",
    "    print(sqrt(Integrate(grad(psi)*Conj(grad(psi)), mesh)), sqrt(Integrate(A*psi*Conj(A*psi), mesh)))"
   ]
  },
  {
   "cell_type": "markdown",
   "id": "ef402a73-9d22-42bc-87e5-0cacd0f1ce62",
   "metadata": {},
   "source": [
    "### This section is to calculate the eigenpairs for H(F)"
   ]
  },
  {
   "cell_type": "code",
   "execution_count": 46,
   "id": "046ce386-42ab-4dcd-a878-cab0c7c5259a",
   "metadata": {
    "scrolled": true
   },
   "outputs": [
    {
     "name": "stdout",
     "output_type": "stream",
     "text": [
      "\n",
      "SpectralProj: Setting shifted trapezoidal rule quadrature on circular contour\n",
      "SpectralProj: Radius=29, Center=139+0j\n",
      "\n",
      "SpectralProjNG: Computing resolvents using umfpack\n",
      "SpectralProjNG:   Factorizing at z = +166.581 +8.961j\n",
      "SpectralProjNG:   Factorizing at z = +156.046+23.461j\n",
      "SpectralProjNG:   Factorizing at z = +139.000+29.000j\n",
      "SpectralProjNG:   Factorizing at z = +121.954+23.461j\n",
      "SpectralProjNG:   Factorizing at z = +111.419 +8.961j\n",
      "SpectralProjNG:   Factorizing at z = +111.419 -8.961j\n",
      "SpectralProjNG:   Factorizing at z = +121.954-23.461j\n",
      "SpectralProjNG:   Factorizing at z = +139.000-29.000j\n",
      "SpectralProjNG:   Factorizing at z = +156.046-23.461j\n",
      "SpectralProjNG:   Factorizing at z = +166.581 -8.961j\n",
      "\n",
      "=========== Starting FEAST iterations ===========\n",
      "Trying with 8 vectors:\n",
      "\n",
      " ITERATION 1 with 8 vectors\n",
      "   Real part of computed eigenvalues:\n",
      "   [129.36940422 130.46294511 147.52173317 149.39898875 166.67453736\n",
      " 166.93588372 186.55053967 186.9545824 ]\n",
      "   Relative Hausdorff distance from prior iterate: 7.194e+97\n",
      "\n",
      " ITERATION 2 with 8 vectors\n",
      "   Real part of computed eigenvalues:\n",
      "   [129.36826523 130.46055667 147.51971954 149.39646644 166.67221915\n",
      " 166.93098932 186.09517032 186.59749515]\n",
      "   Relative Hausdorff distance from prior iterate: 3.276e-03\n",
      "\n",
      " ITERATION 3 with 8 vectors\n",
      "   Real part of computed eigenvalues:\n",
      "   [129.36826517 130.46055657 147.51971945 149.39646634 166.67221876\n",
      " 166.9309887  185.84714279 186.52819825]\n",
      "   Relative Hausdorff distance from prior iterate: 1.784e-03\n",
      "\n",
      "   Removing ew#[6, 7] not enclosed by contour\n",
      " ITERATION 4 with 6 vectors\n",
      "   Real part of computed eigenvalues:\n",
      "   [129.36826517 130.46055657 147.51971945 149.39646634 166.67221876\n",
      " 166.9309887 ]\n",
      "   Relative Hausdorff distance from prior iterate: 6.680e-13\n",
      "\n",
      "\n",
      "***FEAST converged with:\n",
      "\tRelative Hausdorff distance = 6.680e-13\n",
      "\n",
      "============= FEAST iterations done =============\n",
      "Total Time 4.141565799713135 FEAST Time 3.2236549854278564\n"
     ]
    },
    {
     "data": {
      "application/vnd.jupyter.widget-view+json": {
       "model_id": "eec19df373cf4392a1c56b3f1d1d59eb",
       "version_major": 2,
       "version_minor": 0
      },
      "text/plain": [
       "WebGuiWidget(layout=Layout(height='50vh', width='100%'), value={'gui_settings': {}, 'ngsolve_version': '6.2.23…"
      ]
     },
     "metadata": {},
     "output_type": "display_data"
    },
    {
     "data": {
      "text/plain": [
       "BaseWebGuiScene"
      ]
     },
     "execution_count": 46,
     "metadata": {},
     "output_type": "execute_result"
    }
   ],
   "source": [
    "import time\n",
    "from ngsolve import *\n",
    "from ngsolve.webgui import Draw\n",
    "from netgen.occ import *\n",
    "from pyeigfeast import NGvecs, SpectralProjNG\n",
    "start1 = time.time()\n",
    "domain = WorkPlane().MoveTo(-1,-1).Rectangle(2,2).Circle(0.0,0.5,0.1).Reverse().Face()\n",
    "geo = OCCGeometry(domain, dim = 2)\n",
    "mesh = Mesh(geo.GenerateMesh(maxh=0.05))\n",
    "a = 100\n",
    "A = CF((-a*cos(pi*sin(pi*x)*cos(pi*y)), -a*sin(pi*sin(pi*x)*cos(pi*y))))\n",
    "X = H1(mesh, order=3)\n",
    "N = NumberSpace(mesh)\n",
    "fesm = X*N\n",
    "# fesm.ndof\n",
    "u, lam = fesm.TrialFunction()\n",
    "v, c = fesm.TestFunction()\n",
    "gfm = GridFunction(fesm)  # solution\n",
    "gfu, gflam = gfm.components\n",
    "\n",
    "a = BilinearForm(fesm)\n",
    "a += lam*v*dx + grad(u)*grad(v)*dx + u*c*dx\n",
    "a.Assemble()\n",
    "f = LinearForm(A*grad(v)*dx).Assemble()\n",
    "\n",
    "gfm.vec.data = a.mat.Inverse() * f.vec\n",
    "F = A - grad(gfu)\n",
    "\n",
    "Xeig = H1(mesh, order=3, complex = True, dirichlet = '.*')\n",
    "psi, phi = Xeig.TnT()\n",
    "a2 = BilinearForm(Xeig)\n",
    "a2 += grad(psi) * grad(phi) * dx + 1j *  InnerProduct(F,grad(phi)) * psi * dx - 1j * InnerProduct(F , grad(psi)) * phi * dx\\\n",
    "    +  InnerProduct(F, F)* psi * phi *dx\n",
    "b2 = BilinearForm(Xeig)\n",
    "\n",
    "b2 += psi * phi * dx\n",
    "a2.Assemble()\n",
    "b2.Assemble()\n",
    "\n",
    "seed =1\n",
    "npts=10\n",
    "nspan=8\n",
    "within=None\n",
    "rhoinv=0.0\n",
    "quadrule='circ_trapez_shift'\n",
    "verbose=True\n",
    "# Make the spectral projector object, change radius and center values for the searching range of eigenvalues.\n",
    "# When h=0.01, radius = 19, center = 139; When h=0.03, radius = 20, center = 140; When h=0.05, radius = 41, center = 371\n",
    "P = SpectralProjNG(Xeig,\n",
    "                   a2.mat,\n",
    "                   b2.mat,\n",
    "                   radius=29,\n",
    "                   center=139,\n",
    "                   npts=npts,\n",
    "                   within=within,\n",
    "                   rhoinv=rhoinv,\n",
    "                   quadrule=quadrule,\n",
    "                   inverse=None)\n",
    "Y = NGvecs(Xeig, nspan, M=b2.mat)\n",
    "Y.setrandom(seed=seed)\n",
    "start2 = time.time()\n",
    "lam, Y, history, _ = P.feast(Y)\n",
    "end = time.time()\n",
    "print(\"Total Time\", end - start1, \"FEAST Time\", end - start2)\n",
    "y1 = Y.gridfun()\n",
    "Draw(y1)"
   ]
  },
  {
   "cell_type": "markdown",
   "id": "bb714653-896b-4dec-bd99-38d636d9b5a0",
   "metadata": {},
   "source": [
    "Calculate the $L^2$ norm of $\\nabla \\phi$ and $F\\phi$"
   ]
  },
  {
   "cell_type": "code",
   "execution_count": 47,
   "id": "82018384",
   "metadata": {},
   "outputs": [
    {
     "name": "stdout",
     "output_type": "stream",
     "text": [
      "(45.31530237341835+0j) (44.87906119627637+0j)\n",
      "(44.78267957536476+0j) (44.33841352137012+0j)\n",
      "(58.66912042746918+0j) (58.82806258962528+0j)\n",
      "(58.659635399371254+0j) (58.887624793401024+0j)\n",
      "(43.58605126463939+0j) (43.04829021184063+0j)\n",
      "(43.50340051815427+0j) (42.940370626623164+0j)\n"
     ]
    }
   ],
   "source": [
    "for i in range(0,6):\n",
    "    phi = GridFunction(Xeig)\n",
    "    phi.Set(y1.MDComponent(i))\n",
    "    print(sqrt(Integrate(grad(phi)*Conj(grad(phi)), mesh)), sqrt(Integrate(F*phi*Conj(F*phi), mesh)))"
   ]
  },
  {
   "cell_type": "markdown",
   "id": "64483d8d-ff33-47b4-a2cf-afde88fd671e",
   "metadata": {},
   "source": [
    "## Use Neumann BC"
   ]
  },
  {
   "cell_type": "markdown",
   "id": "2e336042-192f-473f-a27a-537848647813",
   "metadata": {},
   "source": [
    "### This section is to calculate the eigenpairs for H(A)"
   ]
  },
  {
   "cell_type": "code",
   "execution_count": 26,
   "id": "5a99ad24-45c4-46d5-b54f-1a755d63a3a5",
   "metadata": {
    "scrolled": true
   },
   "outputs": [
    {
     "name": "stdout",
     "output_type": "stream",
     "text": [
      "\n",
      "SpectralProj: Setting shifted trapezoidal rule quadrature on circular contour\n",
      "SpectralProj: Radius=41, Center=371+0j\n",
      "\n",
      "SpectralProjNG: Computing resolvents using umfpack\n",
      "SpectralProjNG:   Factorizing at z = +409.993+12.670j\n",
      "SpectralProjNG:   Factorizing at z = +395.099+33.170j\n",
      "SpectralProjNG:   Factorizing at z = +371.000+41.000j\n",
      "SpectralProjNG:   Factorizing at z = +346.901+33.170j\n",
      "SpectralProjNG:   Factorizing at z = +332.007+12.670j\n",
      "SpectralProjNG:   Factorizing at z = +332.007-12.670j\n",
      "SpectralProjNG:   Factorizing at z = +346.901-33.170j\n",
      "SpectralProjNG:   Factorizing at z = +371.000-41.000j\n",
      "SpectralProjNG:   Factorizing at z = +395.099-33.170j\n",
      "SpectralProjNG:   Factorizing at z = +409.993-12.670j\n",
      "\n",
      "=========== Starting FEAST iterations ===========\n",
      "Trying with 10 vectors:\n",
      "\n",
      " ITERATION 1 with 10 vectors\n",
      "   Real part of computed eigenvalues:\n",
      "   [333.01378747 342.80674577 381.61140352 389.02444029 399.6380856\n",
      " 410.47139619 410.67453124 410.97626801 416.79481197 421.88019474]\n",
      "   Relative Hausdorff distance from prior iterate: 2.695e+97\n",
      "\n",
      " ITERATION 2 with 10 vectors\n",
      "   Real part of computed eigenvalues:\n",
      "   [330.67621534 342.12793107 381.44697243 388.99247252 399.02344272\n",
      " 410.41554623 410.54037415 410.80138134 416.08611168 421.11412379]\n",
      "   Relative Hausdorff distance from prior iterate: 6.301e-03\n",
      "\n",
      " ITERATION 3 with 10 vectors\n",
      "   Real part of computed eigenvalues:\n",
      "   [330.64843688 342.12677729 381.4464884  388.99234895 399.02109629\n",
      " 410.41446356 410.53975045 410.79986201 416.05479747 421.06335612]\n",
      "   Relative Hausdorff distance from prior iterate: 1.368e-04\n",
      "\n",
      "   Removing ew#[8, 9] not enclosed by contour\n",
      " ITERATION 4 with 8 vectors\n",
      "   Real part of computed eigenvalues:\n",
      "   [330.64809416 342.12677441 381.44648663 388.99234845 399.0210866\n",
      " 410.41445288 410.53974648 410.79984371]\n",
      "   Relative Hausdorff distance from prior iterate: 9.238e-07\n",
      "\n",
      " ITERATION 5 with 8 vectors\n",
      "   Real part of computed eigenvalues:\n",
      "   [330.64808948 342.1267744  381.44648662 388.99234845 399.02108655\n",
      " 410.41445277 410.53974644 410.79984348]\n",
      "   Relative Hausdorff distance from prior iterate: 1.261e-08\n",
      "\n",
      " ITERATION 6 with 8 vectors\n",
      "   Real part of computed eigenvalues:\n",
      "   [330.64808941 342.1267744  381.44648662 388.99234845 399.02108655\n",
      " 410.41445276 410.53974644 410.79984347]\n",
      "   Relative Hausdorff distance from prior iterate: 1.907e-10\n",
      "\n",
      "\n",
      "***FEAST converged with:\n",
      "\tRelative Hausdorff distance = 1.907e-10\n",
      "\n",
      "============= FEAST iterations done =============\n",
      "Total Time 7.175853729248047 FEAST Time 6.3247129917144775\n"
     ]
    },
    {
     "data": {
      "application/vnd.jupyter.widget-view+json": {
       "model_id": "ab074c6e81864448a1002097072503e7",
       "version_major": 2,
       "version_minor": 0
      },
      "text/plain": [
       "WebGuiWidget(layout=Layout(height='50vh', width='100%'), value={'gui_settings': {}, 'ngsolve_version': '6.2.23…"
      ]
     },
     "metadata": {},
     "output_type": "display_data"
    },
    {
     "data": {
      "text/plain": [
       "BaseWebGuiScene"
      ]
     },
     "execution_count": 26,
     "metadata": {},
     "output_type": "execute_result"
    }
   ],
   "source": [
    "import time\n",
    "from ngsolve import *\n",
    "from ngsolve.webgui import Draw\n",
    "from netgen.occ import *\n",
    "from pyeigfeast import NGvecs, SpectralProjNG\n",
    "start1 = time.time()\n",
    "a = 100\n",
    "A = CF((-a*cos(pi*sin(pi*x)*cos(pi*y)), -a*sin(pi*sin(pi*x)*cos(pi*y))))\n",
    "\n",
    "domain = WorkPlane().MoveTo(-1,-1).Rectangle(2,2).Circle(0.0,0.5,0.1).Reverse().Face()\n",
    "domain.edges.Max(Y).name = 'T'\n",
    "domain.edges.Max(X).name = 'R'\n",
    "domain.edges.Min(Y).name = 'B'\n",
    "domain.edges.Min(X).name = 'L'\n",
    "\n",
    "geo = OCCGeometry(domain, dim = 2)\n",
    "mesh = Mesh(geo.GenerateMesh(maxh=0.05))\n",
    "\n",
    "X = H1(mesh, order=3, complex=True, dirichlet = 'T|R|B|L')\n",
    "psi, phi = X.TnT()\n",
    "a3 = BilinearForm(X)\n",
    "a3 += grad(psi) * grad(phi) * dx +  1j * InnerProduct(A,grad(phi)) * psi * dx - 1j * InnerProduct(A , grad(psi)) * phi * dx \\\n",
    "       + InnerProduct(A,A)* psi * phi *dx\n",
    "b3 = BilinearForm(X)\n",
    "b3 += psi * phi * dx\n",
    "a3.Assemble()\n",
    "b3.Assemble()\n",
    "\n",
    "seed =1\n",
    "npts=10\n",
    "nspan=10\n",
    "within=None\n",
    "rhoinv=0.0\n",
    "quadrule='circ_trapez_shift'\n",
    "verbose=True\n",
    "# Make the spectral projector object, change radius and center values for the searching range of eigenvalues.\n",
    "# When h=0.01, radius = 21, center = 115; When h=0.03, radius = 11, center = 153; When h=0.05, radius = 41, center = 371\n",
    "P = SpectralProjNG(X,\n",
    "                   a3.mat,\n",
    "                   b3.mat,\n",
    "                   radius=41,\n",
    "                   center=371,\n",
    "                   npts=npts,\n",
    "                   within=within,\n",
    "                   rhoinv=rhoinv,\n",
    "                   quadrule=quadrule,\n",
    "                   inverse=None)\n",
    "Y = NGvecs(X, nspan, M=b3.mat)\n",
    "Y.setrandom(seed=seed)\n",
    "start2 = time.time()\n",
    "lam, Y, history, _ = P.feast(Y)\n",
    "end = time.time()\n",
    "print(\"Total Time\", end - start1, \"FEAST Time\", end - start2)\n",
    "y = Y.gridfun()\n",
    "Draw(y)"
   ]
  },
  {
   "cell_type": "markdown",
   "id": "3bb9ec2a-a7ae-49c1-a422-29b1b26ab0b8",
   "metadata": {},
   "source": [
    "Calculate the $L^2$ norm of $\\nabla \\psi$ and $A\\psi$"
   ]
  },
  {
   "cell_type": "code",
   "execution_count": 27,
   "id": "15d36ea1",
   "metadata": {},
   "outputs": [
    {
     "name": "stdout",
     "output_type": "stream",
     "text": [
      "(95.35112826709292+0j) (99.99999999999973+0j)\n",
      "(95.14093588460719+0j) (99.99999999999969+0j)\n",
      "(94.86156031907188+0j) (100.00000000000004+0j)\n",
      "(94.54338723256288+0j) (99.99999999999986+0j)\n",
      "(94.62614015012522+0j) (99.99999999999984+0j)\n",
      "(95.13366547099783+0j) (99.99999999999976+0j)\n"
     ]
    }
   ],
   "source": [
    "for i in range(0,6):\n",
    "    psi = GridFunction(X)\n",
    "    psi.Set(y.MDComponent(i))\n",
    "    print(sqrt(Integrate(grad(psi)*Conj(grad(psi)), mesh)), sqrt(Integrate(A*psi*Conj(A*psi), mesh)))"
   ]
  },
  {
   "cell_type": "markdown",
   "id": "32dd011b-3138-40d7-a7d5-23e1d7d417d7",
   "metadata": {},
   "source": [
    "### This section is to calculate the eigenpairs for H(F)"
   ]
  },
  {
   "cell_type": "code",
   "execution_count": 53,
   "id": "bdf0f1ef-af9c-459e-9557-48ddb7358051",
   "metadata": {
    "scrolled": true
   },
   "outputs": [
    {
     "name": "stdout",
     "output_type": "stream",
     "text": [
      "\n",
      "SpectralProj: Setting shifted trapezoidal rule quadrature on circular contour\n",
      "SpectralProj: Radius=25, Center=125+0j\n",
      "\n",
      "SpectralProjNG: Computing resolvents using umfpack\n",
      "SpectralProjNG:   Factorizing at z = +148.776 +7.725j\n",
      "SpectralProjNG:   Factorizing at z = +139.695+20.225j\n",
      "SpectralProjNG:   Factorizing at z = +125.000+25.000j\n",
      "SpectralProjNG:   Factorizing at z = +110.305+20.225j\n",
      "SpectralProjNG:   Factorizing at z = +101.224 +7.725j\n",
      "SpectralProjNG:   Factorizing at z = +101.224 -7.725j\n",
      "SpectralProjNG:   Factorizing at z = +110.305-20.225j\n",
      "SpectralProjNG:   Factorizing at z = +125.000-25.000j\n",
      "SpectralProjNG:   Factorizing at z = +139.695-20.225j\n",
      "SpectralProjNG:   Factorizing at z = +148.776 -7.725j\n",
      "\n",
      "=========== Starting FEAST iterations ===========\n",
      "Trying with 10 vectors:\n",
      "\n",
      " ITERATION 1 with 10 vectors\n",
      "   Real part of computed eigenvalues:\n",
      "   [100.83618805 105.87205692 129.36826522 130.46055677 147.51972655\n",
      " 149.39647442 185.70960942 186.63599071 187.33353361 189.98158651]\n",
      "   Relative Hausdorff distance from prior iterate: 8.000e+97\n",
      "\n",
      " ITERATION 2 with 10 vectors\n",
      "   Real part of computed eigenvalues:\n",
      "   [100.83618789 105.87205685 129.36826517 130.46055657 147.51972531\n",
      " 149.39647315 185.48781418 186.42287136 186.72620631 187.71503701]\n",
      "   Relative Hausdorff distance from prior iterate: 1.813e-02\n",
      "\n",
      " ITERATION 3 with 10 vectors\n",
      "   Real part of computed eigenvalues:\n",
      "   [100.83618789 105.87205685 129.36826517 130.46055657 147.51972531\n",
      " 149.39647315 185.42477473 186.176953   186.68018497 186.92149436]\n",
      "   Relative Hausdorff distance from prior iterate: 6.348e-03\n",
      "\n",
      "   Removing ew#[6, 7, 8, 9] not enclosed by contour\n",
      " ITERATION 4 with 6 vectors\n",
      "   Real part of computed eigenvalues:\n",
      "   [100.83618789 105.87205685 129.36826517 130.46055657 147.51972531\n",
      " 149.39647315]\n",
      "   Relative Hausdorff distance from prior iterate: 1.137e-15\n",
      "\n",
      "\n",
      "***FEAST converged with:\n",
      "\tRelative Hausdorff distance = 1.137e-15\n",
      "\n",
      "============= FEAST iterations done =============\n",
      "Total Time 4.743919849395752 FEAST Time 3.8207948207855225\n"
     ]
    },
    {
     "data": {
      "application/vnd.jupyter.widget-view+json": {
       "model_id": "b1b873de42dc4d45bda0b254e94a84f3",
       "version_major": 2,
       "version_minor": 0
      },
      "text/plain": [
       "WebGuiWidget(layout=Layout(height='50vh', width='100%'), value={'gui_settings': {}, 'ngsolve_version': '6.2.23…"
      ]
     },
     "metadata": {},
     "output_type": "display_data"
    },
    {
     "data": {
      "text/plain": [
       "BaseWebGuiScene"
      ]
     },
     "execution_count": 53,
     "metadata": {},
     "output_type": "execute_result"
    }
   ],
   "source": [
    "import time\n",
    "from ngsolve import *\n",
    "from ngsolve.webgui import Draw\n",
    "from netgen.occ import *\n",
    "from pyeigfeast import NGvecs, SpectralProjNG\n",
    "start1 = time.time()\n",
    "domain = WorkPlane().MoveTo(-1,-1).Rectangle(2,2).Circle(0.0,0.5,0.1).Reverse().Face()\n",
    "domain.edges.Max(Y).name = 'T'\n",
    "domain.edges.Max(X).name = 'R'\n",
    "domain.edges.Min(Y).name = 'B'\n",
    "domain.edges.Min(X).name = 'L'\n",
    "\n",
    "geo = OCCGeometry(domain, dim = 2)\n",
    "mesh = Mesh(geo.GenerateMesh(maxh=0.05))\n",
    "a = 100\n",
    "A = CF((-a*cos(pi*sin(pi*x)*cos(pi*y)), -a*sin(pi*sin(pi*x)*cos(pi*y))))\n",
    "X = H1(mesh, order=3)\n",
    "N = NumberSpace(mesh)\n",
    "fesm = X*N\n",
    "\n",
    "u, lam = fesm.TrialFunction()\n",
    "v, c = fesm.TestFunction()\n",
    "gfm = GridFunction(fesm)  # solution\n",
    "gfu, gflam = gfm.components\n",
    "\n",
    "a = BilinearForm(fesm)\n",
    "a += lam*v*dx + grad(u)*grad(v)*dx + u*c*dx\n",
    "a.Assemble()\n",
    "f = LinearForm(A*grad(v)*dx).Assemble()\n",
    "\n",
    "gfm.vec.data = a.mat.Inverse() * f.vec\n",
    "F = A - grad(gfu)\n",
    "\n",
    "Xeig = H1(mesh, order=3, complex = True, dirichlet = 'T|R|B|L')\n",
    "psi, phi = Xeig.TnT()\n",
    "a2 = BilinearForm(Xeig)\n",
    "a2 += grad(psi) * grad(phi) * dx + 1j *  InnerProduct(F,grad(phi)) * psi * dx - 1j * InnerProduct(F , grad(psi)) * phi * dx\\\n",
    "    +  InnerProduct(F, F)* psi * phi *dx\n",
    "b2 = BilinearForm(Xeig)\n",
    "\n",
    "b2 += psi * phi * dx\n",
    "a2.Assemble()\n",
    "b2.Assemble()\n",
    "\n",
    "seed =1\n",
    "npts=10\n",
    "nspan=10\n",
    "within=None\n",
    "rhoinv=0.0\n",
    "quadrule='circ_trapez_shift'\n",
    "verbose=True\n",
    "# Make the spectral projector object, change radius and center values for the searching range of eigenvalues.\n",
    "# When h=0.01, radius = 21, center = 115; When h=0.03, radius = 22, center = 115; When h=0.05, radius = 25, center = 125\n",
    "P = SpectralProjNG(Xeig,\n",
    "                   a2.mat,\n",
    "                   b2.mat,\n",
    "                   radius=25,\n",
    "                   center=125,\n",
    "                   npts=npts,\n",
    "                   within=within,\n",
    "                   rhoinv=rhoinv,\n",
    "                   quadrule=quadrule,\n",
    "                   inverse=None)\n",
    "Y = NGvecs(Xeig, nspan, M=b2.mat)\n",
    "Y.setrandom(seed=seed)\n",
    "start2 = time.time()\n",
    "lam, Y, history, _ = P.feast(Y)\n",
    "end = time.time()\n",
    "print(\"Total Time\", end - start1, \"FEAST Time\", end - start2)\n",
    "y = Y.gridfun()\n",
    "Draw(y)"
   ]
  },
  {
   "cell_type": "markdown",
   "id": "8cdd7ae3-7e22-4cf0-867e-845ff2f82390",
   "metadata": {},
   "source": [
    "Calculate the $L^2$ norm of $\\nabla \\phi$ and $F\\phi$"
   ]
  },
  {
   "cell_type": "code",
   "execution_count": 54,
   "id": "52494c51",
   "metadata": {},
   "outputs": [
    {
     "name": "stdout",
     "output_type": "stream",
     "text": [
      "(45.31530237341835+0j) (44.879061196276375+0j)\n",
      "(44.782679575364774+0j) (44.33841352137014+0j)\n",
      "(58.66912042746917+0j) (58.828062589625276+0j)\n",
      "(58.65963539937127+0j) (58.88762479340102+0j)\n",
      "(43.58605126463937+0j) (43.04829021184063+0j)\n",
      "(43.503400518154265+0j) (42.94037062662317+0j)\n"
     ]
    }
   ],
   "source": [
    "for i in range(0,6):\n",
    "    phi = GridFunction(Xeig)\n",
    "    phi.Set(y1.MDComponent(i))\n",
    "    print(sqrt(Integrate(grad(phi)*Conj(grad(phi)), mesh)), sqrt(Integrate(F*phi*Conj(F*phi), mesh)))"
   ]
  },
  {
   "cell_type": "markdown",
   "id": "78a03109",
   "metadata": {},
   "source": [
    "# Two holes"
   ]
  },
  {
   "cell_type": "markdown",
   "id": "82051aaa-99fa-4284-b2c9-c1d222d68d8b",
   "metadata": {},
   "source": [
    "### This section is to calculate the eigenpairs for H(A)"
   ]
  },
  {
   "cell_type": "code",
   "execution_count": 30,
   "id": "f80d134a-53db-4857-96d8-e5d6e47afe52",
   "metadata": {},
   "outputs": [
    {
     "name": "stdout",
     "output_type": "stream",
     "text": [
      "\n",
      "SpectralProj: Setting shifted trapezoidal rule quadrature on circular contour\n",
      "SpectralProj: Radius=57, Center=362+0j\n",
      "\n",
      "SpectralProjNG: Computing resolvents using umfpack\n",
      "SpectralProjNG:   Factorizing at z = +416.210+17.614j\n",
      "SpectralProjNG:   Factorizing at z = +395.504+46.114j\n",
      "SpectralProjNG:   Factorizing at z = +362.000+57.000j\n",
      "SpectralProjNG:   Factorizing at z = +328.496+46.114j\n",
      "SpectralProjNG:   Factorizing at z = +307.790+17.614j\n",
      "SpectralProjNG:   Factorizing at z = +307.790-17.614j\n",
      "SpectralProjNG:   Factorizing at z = +328.496-46.114j\n",
      "SpectralProjNG:   Factorizing at z = +362.000-57.000j\n",
      "SpectralProjNG:   Factorizing at z = +395.504-46.114j\n",
      "SpectralProjNG:   Factorizing at z = +416.210-17.614j\n",
      "\n",
      "=========== Starting FEAST iterations ===========\n",
      "Trying with 8 vectors:\n",
      "\n",
      " ITERATION 1 with 8 vectors\n",
      "   Real part of computed eigenvalues:\n",
      "   [308.98438228 340.32615207 357.24870426 397.94663252 401.72682474\n",
      " 418.67712069 424.06813466 431.86476922]\n",
      "   Relative Hausdorff distance from prior iterate: 2.762e+97\n",
      "\n",
      " ITERATION 2 with 8 vectors\n",
      "   Real part of computed eigenvalues:\n",
      "   [305.80031271 339.05648152 356.59436168 397.56475928 401.28250655\n",
      " 417.63463156 423.58663061 429.6803138 ]\n",
      "   Relative Hausdorff distance from prior iterate: 8.796e-03\n",
      "\n",
      " ITERATION 3 with 8 vectors\n",
      "   Real part of computed eigenvalues:\n",
      "   [305.71457849 339.04561356 356.58999476 397.56121512 401.27975914\n",
      " 417.61714957 423.55729205 428.96700773]\n",
      "   Relative Hausdorff distance from prior iterate: 1.970e-03\n",
      "\n",
      "   Removing ew#[6, 7] not enclosed by contour\n",
      " ITERATION 4 with 6 vectors\n",
      "   Real part of computed eigenvalues:\n",
      "   [305.71201738 339.04553679 356.58996045 397.5611879  401.2797428\n",
      " 417.61683009]\n",
      "   Relative Hausdorff distance from prior iterate: 7.075e-06\n",
      "\n",
      " ITERATION 5 with 6 vectors\n",
      "   Real part of computed eigenvalues:\n",
      "   [305.71193663 339.04553622 356.58996016 397.56118767 401.27974268\n",
      " 417.61682301]\n",
      "   Relative Hausdorff distance from prior iterate: 2.231e-07\n",
      "\n",
      " ITERATION 6 with 6 vectors\n",
      "   Real part of computed eigenvalues:\n",
      "   [305.71193358 339.04553621 356.58996016 397.56118767 401.27974268\n",
      " 417.6168228 ]\n",
      "   Relative Hausdorff distance from prior iterate: 8.444e-09\n",
      "\n",
      " ITERATION 7 with 6 vectors\n",
      "   Real part of computed eigenvalues:\n",
      "   [305.71193341 339.04553621 356.58996016 397.56118767 401.27974268\n",
      " 417.61682279]\n",
      "   Relative Hausdorff distance from prior iterate: 4.512e-10\n",
      "\n",
      "\n",
      "***FEAST converged with:\n",
      "\tRelative Hausdorff distance = 4.512e-10\n",
      "\n",
      "============= FEAST iterations done =============\n",
      "Total Time 6.139647006988525 FEAST Time 5.378856897354126\n"
     ]
    },
    {
     "data": {
      "application/vnd.jupyter.widget-view+json": {
       "model_id": "dc3764ebc75b4a09bf3f159ee7e4fe42",
       "version_major": 2,
       "version_minor": 0
      },
      "text/plain": [
       "WebGuiWidget(layout=Layout(height='50vh', width='100%'), value={'gui_settings': {}, 'ngsolve_version': '6.2.23…"
      ]
     },
     "metadata": {},
     "output_type": "display_data"
    },
    {
     "data": {
      "text/plain": [
       "BaseWebGuiScene"
      ]
     },
     "execution_count": 30,
     "metadata": {},
     "output_type": "execute_result"
    }
   ],
   "source": [
    "import time\n",
    "from ngsolve import *\n",
    "from ngsolve.webgui import Draw\n",
    "from netgen.occ import *\n",
    "from pyeigfeast import NGvecs, SpectralProjNG\n",
    "start1 = time.time()\n",
    "a = 100\n",
    "A = CF((-a*cos(pi*sin(pi*x)*cos(pi*y)), -a*sin(pi*sin(pi*x)*cos(pi*y))))\n",
    "\n",
    "domain = WorkPlane().MoveTo(-1,-1).Rectangle(2,2).Circle(-0.8,-0.5,0.1).Reverse().Circle(0.8,-0.5,0.1).Reverse().Face()\n",
    "geo = OCCGeometry(domain, dim = 2)\n",
    "mesh = Mesh(geo.GenerateMesh(maxh=0.05))\n",
    "\n",
    "X = H1(mesh, order=3, complex=True, dirichlet = '.*')\n",
    "# X.ndof\n",
    "psi, phi = X.TnT()\n",
    "a3 = BilinearForm(X)\n",
    "a3 += grad(psi) * grad(phi) * dx +  1j * InnerProduct(A,grad(phi)) * psi * dx - 1j * InnerProduct(A , grad(psi)) * phi * dx \\\n",
    "       + InnerProduct(A,A)* psi * phi *dx\n",
    "b3 = BilinearForm(X)\n",
    "b3 += psi * phi * dx\n",
    "a3.Assemble()\n",
    "b3.Assemble()\n",
    "\n",
    "seed =1\n",
    "npts=10\n",
    "nspan=8\n",
    "within=None\n",
    "rhoinv=0.0\n",
    "quadrule='circ_trapez_shift'\n",
    "verbose=True\n",
    "# Make the spectral projector object, change radius and center values for the searching range of eigenvalues.\n",
    "# When h=0.01, radius = 39, center = 133; When h=0.03, radius = 47, center = 161; When h=0.05, radius = 57, center = 362\n",
    "P = SpectralProjNG(X,\n",
    "                   a3.mat,\n",
    "                   b3.mat,\n",
    "                   radius=57,\n",
    "                   center=362,\n",
    "                   npts=npts,\n",
    "                   within=within,\n",
    "                   rhoinv=rhoinv,\n",
    "                   quadrule=quadrule,\n",
    "                   inverse=None)\n",
    "Y = NGvecs(X, nspan, M=b3.mat)\n",
    "Y.setrandom(seed=seed)\n",
    "start2 = time.time()\n",
    "lam, Y, history, _ = P.feast(Y)\n",
    "end = time.time()\n",
    "print(\"Total Time\", end - start1, \"FEAST Time\", end - start2)\n",
    "y = Y.gridfun()\n",
    "Draw(y)"
   ]
  },
  {
   "cell_type": "markdown",
   "id": "9484436f-fe93-4a11-ae29-350d03d9f036",
   "metadata": {},
   "source": [
    "Calculate the $L^2$ norm of $\\nabla \\psi$ and $A\\psi$"
   ]
  },
  {
   "cell_type": "code",
   "execution_count": 32,
   "id": "95123150",
   "metadata": {},
   "outputs": [
    {
     "name": "stdout",
     "output_type": "stream",
     "text": [
      "(95.02743736603253+0j) (99.99999999999986+0j)\n",
      "(95.01912021218173+0j) (100.00000000000001+0j)\n",
      "(95.65430191956288+0j) (99.99999999999986+0j)\n",
      "(94.59085049783046+0j) (99.99999999999999+0j)\n",
      "(94.45056530185012+0j) (100+0j)\n",
      "(95.6718049625599+0j) (100.00000000000001+0j)\n"
     ]
    }
   ],
   "source": [
    "for i in range(0,6):\n",
    "    psi = GridFunction(X)\n",
    "    psi.Set(y.MDComponent(i))\n",
    "    print(sqrt(Integrate(grad(psi)*Conj(grad(psi)), mesh)), sqrt(Integrate(A*psi*Conj(A*psi), mesh)))"
   ]
  },
  {
   "cell_type": "markdown",
   "id": "d9a73011-27d0-4334-a743-c7690319c58a",
   "metadata": {},
   "source": [
    "### This section is to calculate the eigenpairs for H(F)"
   ]
  },
  {
   "cell_type": "code",
   "execution_count": 58,
   "id": "5786a7f7-b02c-46f0-b718-b7ed83d9a2f1",
   "metadata": {
    "scrolled": true
   },
   "outputs": [
    {
     "name": "stdout",
     "output_type": "stream",
     "text": [
      "\n",
      "SpectralProj: Setting shifted trapezoidal rule quadrature on circular contour\n",
      "SpectralProj: Radius=40, Center=134+0j\n",
      "\n",
      "SpectralProjNG: Computing resolvents using umfpack\n",
      "SpectralProjNG:   Factorizing at z = +172.042+12.361j\n",
      "SpectralProjNG:   Factorizing at z = +157.511+32.361j\n",
      "SpectralProjNG:   Factorizing at z = +134.000+40.000j\n",
      "SpectralProjNG:   Factorizing at z = +110.489+32.361j\n",
      "SpectralProjNG:   Factorizing at z = +95.958+12.361j\n",
      "SpectralProjNG:   Factorizing at z = +95.958-12.361j\n",
      "SpectralProjNG:   Factorizing at z = +110.489-32.361j\n",
      "SpectralProjNG:   Factorizing at z = +134.000-40.000j\n",
      "SpectralProjNG:   Factorizing at z = +157.511-32.361j\n",
      "SpectralProjNG:   Factorizing at z = +172.042-12.361j\n",
      "\n",
      "=========== Starting FEAST iterations ===========\n",
      "Trying with 10 vectors:\n",
      "\n",
      " ITERATION 1 with 10 vectors\n",
      "   Real part of computed eigenvalues:\n",
      "   [ 96.5608312  121.8920654  146.71003267 148.11523251 185.01917194\n",
      " 186.55507783 186.65457379 186.84681231 189.5911337  190.78343923]\n",
      "   Relative Hausdorff distance from prior iterate: 7.463e+97\n",
      "\n",
      " ITERATION 2 with 10 vectors\n",
      "   Real part of computed eigenvalues:\n",
      "   [ 96.56075855 121.89190227 146.70980764 148.11499278 184.99001436\n",
      " 186.54884541 186.59413754 186.82596576 189.52662279 190.72800346]\n",
      "   Relative Hausdorff distance from prior iterate: 4.814e-04\n",
      "\n",
      " ITERATION 3 with 10 vectors\n",
      "   Real part of computed eigenvalues:\n",
      "   [ 96.56075855 121.89190227 146.70980764 148.11499278 184.99001058\n",
      " 186.54884322 186.59411947 186.82596169 189.52657047 190.72796192]\n",
      "   Relative Hausdorff distance from prior iterate: 3.905e-07\n",
      "\n",
      "   Removing ew#[4, 5, 6, 7, 8, 9] not enclosed by contour\n",
      " ITERATION 4 with 4 vectors\n",
      "   Real part of computed eigenvalues:\n",
      "   [ 96.56075855 121.89190227 146.70980764 148.11499278]\n",
      "   Relative Hausdorff distance from prior iterate: 1.273e-15\n",
      "\n",
      "\n",
      "***FEAST converged with:\n",
      "\tRelative Hausdorff distance = 1.273e-15\n",
      "\n",
      "============= FEAST iterations done =============\n",
      "Total Time 4.346771955490112 FEAST Time 3.4646100997924805\n"
     ]
    },
    {
     "data": {
      "application/vnd.jupyter.widget-view+json": {
       "model_id": "ed783a887a6144ccb4099b8eb3514092",
       "version_major": 2,
       "version_minor": 0
      },
      "text/plain": [
       "WebGuiWidget(layout=Layout(height='50vh', width='100%'), value={'gui_settings': {}, 'ngsolve_version': '6.2.23…"
      ]
     },
     "metadata": {},
     "output_type": "display_data"
    },
    {
     "data": {
      "text/plain": [
       "BaseWebGuiScene"
      ]
     },
     "execution_count": 58,
     "metadata": {},
     "output_type": "execute_result"
    }
   ],
   "source": [
    "import time\n",
    "from ngsolve import *\n",
    "from ngsolve.webgui import Draw\n",
    "from netgen.occ import *\n",
    "from pyeigfeast import NGvecs, SpectralProjNG\n",
    "start1 = time.time()\n",
    "domain = WorkPlane().MoveTo(-1,-1).Rectangle(2,2).Circle(-0.8,-0.5,0.1).Reverse().Circle(0.8,-0.5,0.1).Reverse().Face()\n",
    "geo = OCCGeometry(domain, dim = 2)\n",
    "mesh = Mesh(geo.GenerateMesh(maxh=0.05))\n",
    "a = 100\n",
    "A = CF((-a*cos(pi*sin(pi*x)*cos(pi*y)), -a*sin(pi*sin(pi*x)*cos(pi*y))))\n",
    "X = H1(mesh, order=3)\n",
    "N = NumberSpace(mesh)\n",
    "fesm = X*N\n",
    "\n",
    "u, lam = fesm.TrialFunction()\n",
    "v, c = fesm.TestFunction()\n",
    "gfm = GridFunction(fesm)  # solution\n",
    "gfu, gflam = gfm.components\n",
    "\n",
    "a = BilinearForm(fesm)\n",
    "a += lam*v*dx + grad(u)*grad(v)*dx + u*c*dx\n",
    "a.Assemble()\n",
    "f = LinearForm(A*grad(v)*dx).Assemble()\n",
    "\n",
    "gfm.vec.data = a.mat.Inverse() * f.vec\n",
    "F = A - grad(gfu)\n",
    "\n",
    "Xeig = H1(mesh, order=3, complex = True, dirichlet = '.*')\n",
    "psi, phi = Xeig.TnT()\n",
    "a2 = BilinearForm(Xeig)\n",
    "a2 += grad(psi) * grad(phi) * dx + 1j *  InnerProduct(F,grad(phi)) * psi * dx - 1j * InnerProduct(F , grad(psi)) * phi * dx\\\n",
    "    +  InnerProduct(F, F)* psi * phi *dx\n",
    "b2 = BilinearForm(Xeig)\n",
    "\n",
    "b2 += psi * phi * dx\n",
    "a2.Assemble()\n",
    "b2.Assemble()\n",
    "\n",
    "seed =1\n",
    "npts=10\n",
    "nspan=10\n",
    "within=None\n",
    "rhoinv=0.0\n",
    "quadrule='circ_trapez_shift'\n",
    "verbose=True\n",
    "# Make the spectral projector object, change radius and center values for the searching range of eigenvalues.\n",
    "# When h=0.01, radius = 39, center = 133; When h=0.03, radius = 40, center = 134; When h=0.05, radius = 47, center = 140\n",
    "P = SpectralProjNG(Xeig,\n",
    "                   a2.mat,\n",
    "                   b2.mat,\n",
    "                   radius=40,\n",
    "                   center=134,\n",
    "                   npts=npts,\n",
    "                   within=within,\n",
    "                   rhoinv=rhoinv,\n",
    "                   quadrule=quadrule,\n",
    "                   inverse=None)\n",
    "Y = NGvecs(Xeig, nspan, M=b2.mat)\n",
    "Y.setrandom(seed=seed)\n",
    "start2 = time.time()\n",
    "lam, Y, history, _ = P.feast(Y)\n",
    "end = time.time()\n",
    "print(\"Total Time\", end - start1, \"FEAST Time\", end - start2)\n",
    "y = Y.gridfun()\n",
    "Draw(y)"
   ]
  },
  {
   "cell_type": "markdown",
   "id": "20172ec4-77fa-4b4f-916a-99b1875753ec",
   "metadata": {},
   "source": [
    "Calculate the $L^2$ norm of $\\nabla \\psi$ and $F\\psi$"
   ]
  },
  {
   "cell_type": "code",
   "execution_count": 59,
   "id": "5bb489e3-f3c5-4d5b-9b87-37bbfb72a70f",
   "metadata": {},
   "outputs": [
    {
     "name": "stdout",
     "output_type": "stream",
     "text": [
      "(36.07422132031206+0j) (37.65015728567568+0j)\n",
      "(35.78544560297917+0j) (37.57410080350771+0j)\n",
      "(60.68319999617978+0j) (59.07318306588767+0j)\n",
      "(60.44246613014333+0j) (58.97381783956065+0j)\n",
      "(44.61567861845536+0j) (44.85939918497072+0j)\n",
      "(44.447473035275834+0j) (44.71292886968594+0j)\n"
     ]
    }
   ],
   "source": [
    "for i in range(0,6):\n",
    "    phi = GridFunction(Xeig)\n",
    "    phi.Set(y1.MDComponent(i))\n",
    "    print(sqrt(Integrate(grad(phi)*Conj(grad(phi)), mesh)), sqrt(Integrate(F*phi*Conj(F*phi), mesh)))"
   ]
  },
  {
   "cell_type": "markdown",
   "id": "9ab6a131",
   "metadata": {},
   "source": [
    "# Three holes"
   ]
  },
  {
   "cell_type": "markdown",
   "id": "a528defc-af88-472b-9fff-15596a14ac4e",
   "metadata": {},
   "source": [
    "### This section is to calculate the eigenpairs for H(A)"
   ]
  },
  {
   "cell_type": "code",
   "execution_count": 36,
   "id": "ace614c6-f9b5-4cfe-bd8b-36fb3297adb9",
   "metadata": {
    "scrolled": true
   },
   "outputs": [
    {
     "name": "stdout",
     "output_type": "stream",
     "text": [
      "\n",
      "SpectralProj: Setting shifted trapezoidal rule quadrature on circular contour\n",
      "SpectralProj: Radius=34, Center=384+0j\n",
      "\n",
      "SpectralProjNG: Computing resolvents using umfpack\n",
      "SpectralProjNG:   Factorizing at z = +416.336+10.507j\n",
      "SpectralProjNG:   Factorizing at z = +403.985+27.507j\n",
      "SpectralProjNG:   Factorizing at z = +384.000+34.000j\n",
      "SpectralProjNG:   Factorizing at z = +364.015+27.507j\n",
      "SpectralProjNG:   Factorizing at z = +351.664+10.507j\n",
      "SpectralProjNG:   Factorizing at z = +351.664-10.507j\n",
      "SpectralProjNG:   Factorizing at z = +364.015-27.507j\n",
      "SpectralProjNG:   Factorizing at z = +384.000-34.000j\n",
      "SpectralProjNG:   Factorizing at z = +403.985-27.507j\n",
      "SpectralProjNG:   Factorizing at z = +416.336-10.507j\n",
      "Prepare time 0.7842659950256348\n",
      "\n",
      "=========== Starting FEAST iterations ===========\n",
      "Trying with 8 vectors:\n",
      "\n",
      " ITERATION 1 with 8 vectors\n",
      "   Real part of computed eigenvalues:\n",
      "   [350.35658342 395.79086196 407.27997488 415.606755   415.79076025\n",
      " 416.28259498 437.26674508 438.2631018 ]\n",
      "   Relative Hausdorff distance from prior iterate: 2.604e+97\n",
      "\n",
      " ITERATION 2 with 8 vectors\n",
      "   Real part of computed eigenvalues:\n",
      "   [350.34362943 395.78786395 407.27848965 415.60608869 415.78845491\n",
      " 416.27843297 436.90415387 438.11051526]\n",
      "   Relative Hausdorff distance from prior iterate: 9.442e-04\n",
      "\n",
      " ITERATION 3 with 8 vectors\n",
      "   Real part of computed eigenvalues:\n",
      "   [350.34362778 395.78786385 407.2784896  415.60608864 415.78845473\n",
      " 416.2784326  436.82951219 438.08935376]\n",
      "   Relative Hausdorff distance from prior iterate: 1.944e-04\n",
      "\n",
      "   Removing ew#[6, 7] not enclosed by contour\n",
      " ITERATION 4 with 6 vectors\n",
      "   Real part of computed eigenvalues:\n",
      "   [350.34362778 395.78786385 407.2784896  415.60608864 415.78845473\n",
      " 416.2784326 ]\n",
      "   Relative Hausdorff distance from prior iterate: 5.165e-13\n",
      "\n",
      "\n",
      "***FEAST converged with:\n",
      "\tRelative Hausdorff distance = 5.165e-13\n",
      "\n",
      "============= FEAST iterations done =============\n",
      "Total Time 3.968008041381836 FEAST Time 3.183742046356201\n"
     ]
    },
    {
     "data": {
      "application/vnd.jupyter.widget-view+json": {
       "model_id": "c27445815fed4d6bb7b8300bb0bea013",
       "version_major": 2,
       "version_minor": 0
      },
      "text/plain": [
       "WebGuiWidget(layout=Layout(height='50vh', width='100%'), value={'gui_settings': {}, 'ngsolve_version': '6.2.23…"
      ]
     },
     "metadata": {},
     "output_type": "display_data"
    },
    {
     "data": {
      "text/plain": [
       "BaseWebGuiScene"
      ]
     },
     "execution_count": 36,
     "metadata": {},
     "output_type": "execute_result"
    }
   ],
   "source": [
    "import time\n",
    "from ngsolve import *\n",
    "from ngsolve.webgui import Draw\n",
    "from netgen.occ import *\n",
    "from pyeigfeast import NGvecs, SpectralProjNG\n",
    "start1 = time.time()\n",
    "a = 100\n",
    "A = CF((-a*cos(pi*sin(pi*x)*cos(pi*y)), -a*sin(pi*sin(pi*x)*cos(pi*y))))\n",
    "domain = WorkPlane().MoveTo(-1,-1).Rectangle(2,2).MoveTo(-0.05,0.40).Rectangle(0.2,0.2).Reverse().Circle(-0.8,-0.5,0.1).Reverse().Circle(0.8,-0.5,0.1).Reverse().Face()\n",
    "geo = OCCGeometry(domain, dim = 2)\n",
    "mesh = Mesh(geo.GenerateMesh(maxh=0.05))\n",
    "\n",
    "X = H1(mesh, order=3, complex=True, dirichlet = '.*')\n",
    "psi, phi = X.TnT()\n",
    "a3 = BilinearForm(X)\n",
    "a3 += grad(psi) * grad(phi) * dx +  1j * InnerProduct(A,grad(phi)) * psi * dx - 1j * InnerProduct(A , grad(psi)) * phi * dx \\\n",
    "       + InnerProduct(A,A)* psi * phi *dx\n",
    "b3 = BilinearForm(X)\n",
    "b3 += psi * phi * dx\n",
    "a3.Assemble()\n",
    "b3.Assemble()\n",
    "\n",
    "seed =1\n",
    "npts=10\n",
    "nspan=8\n",
    "within=None\n",
    "rhoinv=0.0\n",
    "quadrule='circ_trapez_shift'\n",
    "verbose=True\n",
    "# Make the spectral projector object, change radius and center values for the searching range of eigenvalues.\n",
    "# When h=0.01, radius = 18, center = 153; When h=0.03, radius = 20, center = 186; When h=0.05, radius = 34, center = 384\n",
    "P = SpectralProjNG(X,\n",
    "                   a3.mat,\n",
    "                   b3.mat,\n",
    "                   radius= 34,\n",
    "                   center= 384,\n",
    "                   npts=npts,\n",
    "                   within=within,\n",
    "                   rhoinv=rhoinv,\n",
    "                   quadrule=quadrule,\n",
    "                   inverse=None)\n",
    "Y = NGvecs(X, nspan, M=b3.mat)\n",
    "Y.setrandom(seed=seed)\n",
    "start2 = time.time()\n",
    "lam, Y, history, _ = P.feast(Y)\n",
    "end = time.time()\n",
    "print(\"Total Time\", end - start1, \"FEAST Time\", end - start2)\n",
    "y = Y.gridfun()\n",
    "Draw(y)"
   ]
  },
  {
   "cell_type": "markdown",
   "id": "3cc3dab5-8ac0-4d54-ac5d-bcea3a21bfa9",
   "metadata": {},
   "source": [
    "Calculate the degree of freedom "
   ]
  },
  {
   "cell_type": "code",
   "execution_count": 37,
   "id": "1675cf11-961c-4893-90a3-786144df23af",
   "metadata": {},
   "outputs": [
    {
     "data": {
      "text/plain": [
       "15268"
      ]
     },
     "execution_count": 37,
     "metadata": {},
     "output_type": "execute_result"
    }
   ],
   "source": [
    "X.ndof "
   ]
  },
  {
   "cell_type": "markdown",
   "id": "a82d3ce1-f2c7-4a51-968f-48dad97e856c",
   "metadata": {},
   "source": [
    "Calculate the $L^2$ norm of $\\nabla \\psi$ and $A\\psi$"
   ]
  },
  {
   "cell_type": "code",
   "execution_count": 38,
   "id": "3e88e960",
   "metadata": {},
   "outputs": [
    {
     "name": "stdout",
     "output_type": "stream",
     "text": [
      "(95.89010220862546+0j) (100.00000000000001+0j)\n",
      "(94.98985175362371+0j) (99.99999999999996+0j)\n",
      "(94.8669900122932+0j) (100.00000000000001+0j)\n",
      "(95.04526131237928+0j) (100.00000000000006+0j)\n",
      "(95.03582042884022+0j) (99.99999999999994+0j)\n",
      "(95.01225432271629+0j) (99.99999999999989+0j)\n"
     ]
    }
   ],
   "source": [
    "for i in range(0,6):\n",
    "    psi = GridFunction(X)\n",
    "    psi.Set(y.MDComponent(i))\n",
    "    print(sqrt(Integrate(grad(psi)*Conj(grad(psi)), mesh)), sqrt(Integrate(A*psi*Conj(A*psi), mesh)))"
   ]
  },
  {
   "cell_type": "markdown",
   "id": "9f6d81dd-ef64-4659-9627-430147cfb176",
   "metadata": {},
   "source": [
    "### This section is to calculate the eigenpairs for H(F)"
   ]
  },
  {
   "cell_type": "code",
   "execution_count": 60,
   "id": "b6e24444-3c23-49d3-b457-bd06cfad2223",
   "metadata": {},
   "outputs": [
    {
     "name": "stdout",
     "output_type": "stream",
     "text": [
      "\n",
      "SpectralProj: Setting shifted trapezoidal rule quadrature on circular contour\n",
      "SpectralProj: Radius=22, Center=168+0j\n",
      "\n",
      "SpectralProjNG: Computing resolvents using umfpack\n",
      "SpectralProjNG:   Factorizing at z = +188.923 +6.798j\n",
      "SpectralProjNG:   Factorizing at z = +180.931+17.798j\n",
      "SpectralProjNG:   Factorizing at z = +168.000+22.000j\n",
      "SpectralProjNG:   Factorizing at z = +155.069+17.798j\n",
      "SpectralProjNG:   Factorizing at z = +147.077 +6.798j\n",
      "SpectralProjNG:   Factorizing at z = +147.077 -6.798j\n",
      "SpectralProjNG:   Factorizing at z = +155.069-17.798j\n",
      "SpectralProjNG:   Factorizing at z = +168.000-22.000j\n",
      "SpectralProjNG:   Factorizing at z = +180.931-17.798j\n",
      "SpectralProjNG:   Factorizing at z = +188.923 -6.798j\n",
      "Prepare time 0.7764322757720947\n",
      "\n",
      "=========== Starting FEAST iterations ===========\n",
      "Trying with 8 vectors:\n",
      "\n",
      " ITERATION 1 with 8 vectors\n",
      "   Real part of computed eigenvalues:\n",
      "   [146.43597234 152.03486195 158.89432527 186.60427105 186.96962661\n",
      " 189.84210053 190.88587537 191.59308441]\n",
      "   Relative Hausdorff distance from prior iterate: 5.952e+97\n",
      "\n",
      " ITERATION 2 with 8 vectors\n",
      "   Real part of computed eigenvalues:\n",
      "   [146.43796347 152.03403252 153.22446502 186.59997377 186.7159071\n",
      " 189.81519196 190.79367208 191.59190491]\n",
      "   Relative Hausdorff distance from prior iterate: 3.375e-02\n",
      "\n",
      " ITERATION 3 with 8 vectors\n",
      "   Real part of computed eigenvalues:\n",
      "   [146.38548018 152.02694006 152.19058749 186.59550728 186.66913909\n",
      " 189.80136434 190.73004752 191.59085823]\n",
      "   Relative Hausdorff distance from prior iterate: 6.154e-03\n",
      "\n",
      "   Removing ew#[6, 7] not enclosed by contour\n",
      " ITERATION 4 with 6 vectors\n",
      "   Real part of computed eigenvalues:\n",
      "   [146.35348779 152.00144748 152.07305644 186.59406812 186.66143644\n",
      " 189.79484432]\n",
      "   Relative Hausdorff distance from prior iterate: 6.996e-04\n",
      "\n",
      " ITERATION 5 with 6 vectors\n",
      "   Real part of computed eigenvalues:\n",
      "   [146.33972756 151.99138146 152.06436888 186.59378628 186.66012761\n",
      " 189.79193099]\n",
      "   Relative Hausdorff distance from prior iterate: 8.191e-05\n",
      "\n",
      " ITERATION 6 with 6 vectors\n",
      "   Real part of computed eigenvalues:\n",
      "   [146.33391861 151.98983129 152.06337681 186.59373469 186.65989201\n",
      " 189.79057317]\n",
      "   Relative Hausdorff distance from prior iterate: 3.458e-05\n",
      "\n",
      " ITERATION 7 with 6 vectors\n",
      "   Real part of computed eigenvalues:\n",
      "   [146.3313863  151.98960671 152.06323917 186.59372493 186.65984715\n",
      " 189.78990514]\n",
      "   Relative Hausdorff distance from prior iterate: 1.507e-05\n",
      "\n",
      " ITERATION 8 with 6 vectors\n",
      "   Real part of computed eigenvalues:\n",
      "   [146.3302257  151.98957262 152.06321846 186.59372298 186.65983806\n",
      " 189.78955539]\n",
      "   Relative Hausdorff distance from prior iterate: 6.908e-06\n",
      "\n",
      " ITERATION 9 with 6 vectors\n",
      "   Real part of computed eigenvalues:\n",
      "   [146.32966063 151.98956711 152.06321513 186.59372256 186.6598361\n",
      " 189.78936038]\n",
      "   Relative Hausdorff distance from prior iterate: 3.363e-06\n",
      "\n",
      " ITERATION 10 with 6 vectors\n",
      "   Real part of computed eigenvalues:\n",
      "   [146.32936741 151.98956616 152.06321456 186.59372247 186.65983565\n",
      " 189.78924537]\n",
      "   Relative Hausdorff distance from prior iterate: 1.745e-06\n",
      "\n",
      " ITERATION 11 with 6 vectors\n",
      "   Real part of computed eigenvalues:\n",
      "   [146.32920596 151.98956599 152.06321445 186.59372244 186.65983555\n",
      " 189.78917443]\n",
      "   Relative Hausdorff distance from prior iterate: 9.610e-07\n",
      "\n",
      " ITERATION 12 with 6 vectors\n",
      "   Real part of computed eigenvalues:\n",
      "   [146.32911261 151.98956596 152.06321443 186.59372244 186.65983552\n",
      " 189.7891292 ]\n",
      "   Relative Hausdorff distance from prior iterate: 5.557e-07\n",
      "\n",
      " ITERATION 13 with 6 vectors\n",
      "   Real part of computed eigenvalues:\n",
      "   [146.32905661 151.98956595 152.06321443 186.59372244 186.65983551\n",
      " 189.78909971]\n",
      "   Relative Hausdorff distance from prior iterate: 3.334e-07\n",
      "\n",
      " ITERATION 14 with 6 vectors\n",
      "   Real part of computed eigenvalues:\n",
      "   [146.32902214 151.98956595 152.06321443 186.59372244 186.65983551\n",
      " 189.7890802 ]\n",
      "   Relative Hausdorff distance from prior iterate: 2.052e-07\n",
      "\n",
      " ITERATION 15 with 6 vectors\n",
      "   Real part of computed eigenvalues:\n",
      "   [146.32900056 151.98956595 152.06321443 186.59372244 186.65983551\n",
      " 189.78906717]\n",
      "   Relative Hausdorff distance from prior iterate: 1.285e-07\n",
      "\n",
      " ITERATION 16 with 6 vectors\n",
      "   Real part of computed eigenvalues:\n",
      "   [146.3289869  151.98956595 152.06321443 186.59372244 186.65983551\n",
      " 189.78905842]\n",
      "   Relative Hausdorff distance from prior iterate: 8.131e-08\n",
      "\n",
      " ITERATION 17 with 6 vectors\n",
      "   Real part of computed eigenvalues:\n",
      "   [146.32897819 151.98956595 152.06321443 186.59372244 186.65983551\n",
      " 189.78905252]\n",
      "   Relative Hausdorff distance from prior iterate: 5.182e-08\n",
      "\n",
      " ITERATION 18 with 6 vectors\n",
      "   Real part of computed eigenvalues:\n",
      "   [146.32897262 151.98956595 152.06321443 186.59372244 186.65983551\n",
      " 189.78904853]\n",
      "   Relative Hausdorff distance from prior iterate: 3.316e-08\n",
      "\n",
      " ITERATION 19 with 6 vectors\n",
      "   Real part of computed eigenvalues:\n",
      "   [146.32896904 151.98956595 152.06321443 186.59372244 186.65983551\n",
      " 189.78904584]\n",
      "   Relative Hausdorff distance from prior iterate: 2.128e-08\n",
      "\n",
      " ITERATION 20 with 6 vectors\n",
      "   Real part of computed eigenvalues:\n",
      "   [146.32896675 151.98956595 152.06321443 186.59372244 186.65983551\n",
      " 189.78904401]\n",
      "   Relative Hausdorff distance from prior iterate: 1.367e-08\n",
      "\n",
      " ITERATION 21 with 6 vectors\n",
      "   Real part of computed eigenvalues:\n",
      "   [146.32896527 151.98956595 152.06321443 186.59372244 186.65983551\n",
      " 189.78904277]\n",
      "   Relative Hausdorff distance from prior iterate: 8.794e-09\n",
      "\n",
      " ITERATION 22 with 6 vectors\n",
      "   Real part of computed eigenvalues:\n",
      "   [146.32896432 151.98956595 152.06321443 186.59372244 186.65983551\n",
      " 189.78904194]\n",
      "   Relative Hausdorff distance from prior iterate: 5.659e-09\n",
      "\n",
      " ITERATION 23 with 6 vectors\n",
      "   Real part of computed eigenvalues:\n",
      "   [146.32896371 151.98956595 152.06321443 186.59372244 186.65983551\n",
      " 189.78904137]\n",
      "   Relative Hausdorff distance from prior iterate: 3.643e-09\n",
      "\n",
      " ITERATION 24 with 6 vectors\n",
      "   Real part of computed eigenvalues:\n",
      "   [146.32896331 151.98956595 152.06321443 186.59372244 186.65983551\n",
      " 189.78904098]\n",
      "   Relative Hausdorff distance from prior iterate: 2.346e-09\n",
      "\n",
      " ITERATION 25 with 6 vectors\n",
      "   Real part of computed eigenvalues:\n",
      "   [146.32896306 151.98956595 152.06321443 186.59372244 186.65983551\n",
      " 189.78904072]\n",
      "   Relative Hausdorff distance from prior iterate: 1.552e-09\n",
      "\n",
      " ITERATION 26 with 6 vectors\n",
      "   Real part of computed eigenvalues:\n",
      "   [146.3289629  151.98956595 152.06321443 186.59372244 186.65983551\n",
      " 189.78904055]\n",
      "   Relative Hausdorff distance from prior iterate: 1.052e-09\n",
      "\n",
      " ITERATION 27 with 6 vectors\n",
      "   Real part of computed eigenvalues:\n",
      "   [146.32896279 151.98956595 152.06321443 186.59372244 186.65983551\n",
      " 189.78904043]\n",
      "   Relative Hausdorff distance from prior iterate: 7.128e-10\n",
      "\n",
      "\n",
      "***FEAST converged with:\n",
      "\tRelative Hausdorff distance = 7.128e-10\n",
      "\n",
      "============= FEAST iterations done =============\n",
      "Total Time 17.750858068466187 FEAST Time 16.974425792694092\n"
     ]
    },
    {
     "data": {
      "application/vnd.jupyter.widget-view+json": {
       "model_id": "d9e212e47b7c4f2e8e332bc755b99255",
       "version_major": 2,
       "version_minor": 0
      },
      "text/plain": [
       "WebGuiWidget(layout=Layout(height='50vh', width='100%'), value={'gui_settings': {}, 'ngsolve_version': '6.2.23…"
      ]
     },
     "metadata": {},
     "output_type": "display_data"
    },
    {
     "data": {
      "text/plain": [
       "BaseWebGuiScene"
      ]
     },
     "execution_count": 60,
     "metadata": {},
     "output_type": "execute_result"
    }
   ],
   "source": [
    "from ngsolve import *\n",
    "from ngsolve.webgui import Draw\n",
    "from netgen.occ import *\n",
    "from pyeigfeast import NGvecs, SpectralProjNG\n",
    "start1 = time.time()\n",
    "domain = WorkPlane().MoveTo(-1,-1).Rectangle(2,2).MoveTo(-0.05,0.40).Rectangle(0.2,0.2).Reverse().Circle(-0.8,-0.5,0.1).Reverse().Circle(0.8,-0.5,0.1).Reverse().Face()\n",
    "geo = OCCGeometry(domain, dim = 2)\n",
    "mesh = Mesh(geo.GenerateMesh(maxh=0.05))\n",
    "a = 100\n",
    "A = CF((-a*cos(pi*sin(pi*x)*cos(pi*y)), -a*sin(pi*sin(pi*x)*cos(pi*y))))\n",
    "X = H1(mesh, order=3)\n",
    "N = NumberSpace(mesh)\n",
    "fesm = X*N\n",
    "\n",
    "u, lam = fesm.TrialFunction()\n",
    "v, c = fesm.TestFunction()\n",
    "gfm = GridFunction(fesm) \n",
    "gfu, gflam = gfm.components\n",
    "\n",
    "a = BilinearForm(fesm)\n",
    "a += lam*v*dx + grad(u)*grad(v)*dx + u*c*dx\n",
    "a.Assemble()\n",
    "f = LinearForm(A*grad(v)*dx).Assemble()\n",
    "\n",
    "gfm.vec.data = a.mat.Inverse() * f.vec\n",
    "F = A - grad(gfu)\n",
    "\n",
    "Xeig = H1(mesh, order=3, complex = True, dirichlet = '.*')\n",
    "psi, phi = Xeig.TnT()\n",
    "a2 = BilinearForm(Xeig)\n",
    "a2 += grad(psi) * grad(phi) * dx + 1j *  InnerProduct(F,grad(phi)) * psi * dx - 1j * InnerProduct(F , grad(psi)) * phi * dx\\\n",
    "    +  InnerProduct(F, F)* psi * phi *dx\n",
    "b2 = BilinearForm(Xeig)\n",
    "\n",
    "b2 += psi * phi * dx\n",
    "a2.Assemble()\n",
    "b2.Assemble()\n",
    "\n",
    "seed =1\n",
    "npts=10\n",
    "nspan=8\n",
    "within=None\n",
    "rhoinv=0.0\n",
    "quadrule='circ_trapez_shift'\n",
    "verbose=True\n",
    "# Make the spectral projector object, change radius and center values for the searching range of eigenvalues.\n",
    "# When h=0.01, radius = 18, center = 153; When h=0.03, radius = 25, center = 159; When h=0.05, radius = 22, center = 168\n",
    "P = SpectralProjNG(Xeig,\n",
    "                   a2.mat,\n",
    "                   b2.mat,\n",
    "                   radius=22,\n",
    "                   center=168,\n",
    "                   npts=npts,\n",
    "                   within=within,\n",
    "                   rhoinv=rhoinv,\n",
    "                   quadrule=quadrule,\n",
    "                   inverse=None)\n",
    "Y = NGvecs(Xeig, nspan, M=b2.mat)\n",
    "Y.setrandom(seed=seed)\n",
    "start2 = time.time()\n",
    "print('Prepare time', start2-start1)\n",
    "lam, Y, history, _ = P.feast(Y)\n",
    "end = time.time()\n",
    "print(\"Total Time\", end - start1, \"FEAST Time\", end - start2)\n",
    "y = Y.gridfun()\n",
    "Draw(y)"
   ]
  },
  {
   "cell_type": "markdown",
   "id": "91191d91-4afd-4de0-9800-fc6814157501",
   "metadata": {},
   "source": [
    "Calculate the $L^2$ norm of $\\nabla \\psi$ and $F\\psi$"
   ]
  },
  {
   "cell_type": "code",
   "execution_count": 42,
   "id": "353fceec-d3d4-4b16-a6ee-74a96d0b8625",
   "metadata": {},
   "outputs": [
    {
     "name": "stdout",
     "output_type": "stream",
     "text": [
      "(35.98403991292611+0j) (37.32754837443976+0j)\n",
      "(35.6726826954233+0j) (37.35999191831952+0j)\n",
      "(61.326397584076695+0j) (59.79301122080416+0j)\n",
      "(61.32113730497403+0j) (59.939231077381315+0j)\n",
      "(44.57092037714351+0j) (44.24635661332306+0j)\n",
      "(44.93809799854244+0j) (44.30944181002821+0j)\n"
     ]
    }
   ],
   "source": [
    "for i in range(0,6):\n",
    "    phi = GridFunction(Xeig)\n",
    "    phi.Set(y1.MDComponent(i))\n",
    "    print(sqrt(Integrate(grad(phi)*Conj(grad(phi)), mesh)), sqrt(Integrate(F*phi*Conj(F*phi), mesh)))"
   ]
  }
 ],
 "metadata": {
  "kernelspec": {
   "display_name": "Python 3 (ipykernel)",
   "language": "python",
   "name": "python3"
  },
  "language_info": {
   "codemirror_mode": {
    "name": "ipython",
    "version": 3
   },
   "file_extension": ".py",
   "mimetype": "text/x-python",
   "name": "python",
   "nbconvert_exporter": "python",
   "pygments_lexer": "ipython3",
   "version": "3.8.0"
  }
 },
 "nbformat": 4,
 "nbformat_minor": 5
}

{
 "cells": [
  {
   "cell_type": "markdown",
   "id": "749b493f-df7c-432d-aaeb-78957cd7e9d3",
   "metadata": {},
   "source": [
    "This code is for Example 4 on the L shaper domain $(0,3) \\times (0,3)$ \\ $[2,3) \\times [2,3)$ when $A = 25(-y, x)$"
   ]
  },
  {
   "cell_type": "markdown",
   "id": "6e056f0c-b923-4062-8e5a-273395d6d0b3",
   "metadata": {},
   "source": [
    "# This section is to calculate the eigenpairs for H(A)"
   ]
  },
  {
   "cell_type": "code",
   "execution_count": 2,
   "id": "3dab5b09-d6fc-46d7-9746-3bb89d6a692c",
   "metadata": {},
   "outputs": [
    {
     "name": "stdout",
     "output_type": "stream",
     "text": [
      "\n",
      "SpectralProj: Setting shifted trapezoidal rule quadrature on circular contour\n",
      "SpectralProj: Radius=5, Center=30+0j\n",
      "\n",
      "SpectralProjNG: Computing resolvents using umfpack\n",
      "SpectralProjNG:   Factorizing at z = +34.755 +1.545j\n",
      "SpectralProjNG:   Factorizing at z = +32.939 +4.045j\n",
      "SpectralProjNG:   Factorizing at z = +30.000 +5.000j\n",
      "SpectralProjNG:   Factorizing at z = +27.061 +4.045j\n",
      "SpectralProjNG:   Factorizing at z = +25.245 +1.545j\n",
      "SpectralProjNG:   Factorizing at z = +25.245 -1.545j\n",
      "SpectralProjNG:   Factorizing at z = +27.061 -4.045j\n",
      "SpectralProjNG:   Factorizing at z = +30.000 -5.000j\n",
      "SpectralProjNG:   Factorizing at z = +32.939 -4.045j\n",
      "SpectralProjNG:   Factorizing at z = +34.755 -1.545j\n",
      "\n",
      "=========== Starting FEAST iterations ===========\n",
      "Trying with 8 vectors:\n",
      "\n",
      " ITERATION 1 with 8 vectors\n",
      "   Real part of computed eigenvalues:\n",
      "   [25.49674462 30.7528443  31.23993477 32.12242908 33.42708917 33.84964156\n",
      " 34.9566825  37.72860372]\n",
      "   Relative Hausdorff distance from prior iterate: 3.333e+98\n",
      "\n",
      " ITERATION 2 with 8 vectors\n",
      "   Real part of computed eigenvalues:\n",
      "   [25.49627733 30.75172962 31.23961497 32.12234132 33.42576088 33.84942232\n",
      " 34.95646963 37.67789788]\n",
      "   Relative Hausdorff distance from prior iterate: 1.690e-03\n",
      "\n",
      " ITERATION 3 with 8 vectors\n",
      "   Real part of computed eigenvalues:\n",
      "   [25.49627722 30.75172948 31.23961493 32.12234131 33.42576071 33.84942229\n",
      " 34.95646954 37.65213642]\n",
      "   Relative Hausdorff distance from prior iterate: 8.587e-04\n",
      "\n",
      "   Removing ew#[7] not enclosed by contour\n",
      " ITERATION 4 with 7 vectors\n",
      "   Real part of computed eigenvalues:\n",
      "   [25.49627722 30.75172948 31.23961493 32.12234131 33.42576071 33.84942229\n",
      " 34.95646954]\n",
      "   Relative Hausdorff distance from prior iterate: 1.338e-12\n",
      "\n",
      "\n",
      "***FEAST converged with:\n",
      "\tRelative Hausdorff distance = 1.338e-12\n",
      "\n",
      "============= FEAST iterations done =============\n",
      "Total Time 4.815393924713135 FEAST Time 3.866011142730713\n"
     ]
    },
    {
     "data": {
      "application/vnd.jupyter.widget-view+json": {
       "model_id": "59c9bcc83cc64d58808a8048ff51b597",
       "version_major": 2,
       "version_minor": 0
      },
      "text/plain": [
       "WebGuiWidget(layout=Layout(height='50vh', width='100%'), value={'gui_settings': {}, 'ngsolve_version': '6.2.23…"
      ]
     },
     "metadata": {},
     "output_type": "display_data"
    },
    {
     "data": {
      "text/plain": [
       "BaseWebGuiScene"
      ]
     },
     "execution_count": 2,
     "metadata": {},
     "output_type": "execute_result"
    }
   ],
   "source": [
    "from ngsolve import *\n",
    "from ngsolve.webgui import Draw\n",
    "from netgen.occ import *\n",
    "from pyeigfeast import NGvecs, SpectralProjNG\n",
    "import time\n",
    "start1 = time.time()\n",
    "a = 25\n",
    "A = CF((-a*y, a*x))\n",
    "\n",
    "alpha = 90\n",
    "side = 1\n",
    "domain = WorkPlane().MoveTo(0, 0).Line(side*3).Rotate(alpha).Line(side).Rotate(180-alpha).Line(side*2). \\\n",
    "    Rotate(-(180-alpha)).Line(side*2).Rotate(180-alpha).Line(side).Rotate(alpha).Line(side*3).Face()\n",
    "geo = OCCGeometry(domain, dim = 2)\n",
    "mesh = Mesh(geo.GenerateMesh(maxh=0.05))\n",
    "X = H1(mesh, order=3, complex=True)\n",
    "psi, phi = X.TnT()\n",
    "a3 = BilinearForm(X)\n",
    "a3 += grad(psi) * grad(phi) * dx +  1j * InnerProduct(A,grad(phi)) * psi * dx - 1j * InnerProduct(A , grad(psi)) * phi * dx \\\n",
    "       + InnerProduct(A,A)* psi * phi *dx\n",
    "b3 = BilinearForm(X)\n",
    "b3 += psi * phi * dx\n",
    "a3.Assemble()\n",
    "b3.Assemble()\n",
    "\n",
    "seed =1\n",
    "npts=10\n",
    "nspan=8\n",
    "within=None\n",
    "rhoinv=0.0\n",
    "quadrule='circ_trapez_shift'\n",
    "verbose=True\n",
    "# Make the spectral projector object, change radius and center values for the searching range of eigenvalues.\n",
    "# When h=0.01, radius = 3, center = 28; When h=0.03, radius = 3, center = 28; When h=0.05, radius = 5, center = 30\n",
    "P = SpectralProjNG(X,\n",
    "                   a3.mat,\n",
    "                   b3.mat,\n",
    "                   radius=5,\n",
    "                   center=30,\n",
    "                   npts=npts,\n",
    "                   within=within,\n",
    "                   rhoinv=rhoinv,\n",
    "                   quadrule=quadrule,\n",
    "                   inverse=None)\n",
    "Y = NGvecs(X, nspan, M=b3.mat)\n",
    "Y.setrandom(seed=seed)\n",
    "start2 = time.time()\n",
    "lam, Y, history, _ = P.feast(Y)\n",
    "end = time.time()\n",
    "print(\"Total Time\", end - start1, \"FEAST Time\", end - start2)\n",
    "y = Y.gridfun()\n",
    "Draw(y)"
   ]
  },
  {
   "cell_type": "markdown",
   "id": "dd13f3e1-81f8-4826-91b9-46dfad7875cd",
   "metadata": {},
   "source": [
    "Calculate the degree of freedom "
   ]
  },
  {
   "cell_type": "code",
   "execution_count": 3,
   "id": "c947841e-838c-4ada-9710-ac1d4ec934d3",
   "metadata": {},
   "outputs": [
    {
     "data": {
      "text/plain": [
       "20845"
      ]
     },
     "execution_count": 3,
     "metadata": {},
     "output_type": "execute_result"
    }
   ],
   "source": [
    "X.ndof "
   ]
  },
  {
   "cell_type": "markdown",
   "id": "377607f0-b572-4e7a-9724-fe3d44efc9cd",
   "metadata": {},
   "source": [
    "Calculate the $L^2$ norm of $\\nabla \\psi$ and $A\\psi$"
   ]
  },
  {
   "cell_type": "code",
   "execution_count": 4,
   "id": "65201e13",
   "metadata": {},
   "outputs": [
    {
     "name": "stdout",
     "output_type": "stream",
     "text": [
      "(9.211090563578034+0j) (9.211219673862727+0j)\n",
      "(31.889400706161656+0j) (31.901384754019507+0j)\n",
      "(35.491759990989294+0j) (35.50873196104633+0j)\n",
      "(43.47183704823636+0j) (43.528400183392336+0j)\n",
      "(47.236939082260314+0j) (47.320432405471614+0j)\n",
      "(36.99550992101083+0j) (37.03132757295606+0j)\n"
     ]
    }
   ],
   "source": [
    "for i in range(0,6):\n",
    "    psi = GridFunction(X)\n",
    "    psi.Set(y.MDComponent(i))\n",
    "    print(sqrt(Integrate(grad(psi)*Conj(grad(psi)), mesh)), sqrt(Integrate(A*psi*Conj(A*psi), mesh)))"
   ]
  },
  {
   "cell_type": "markdown",
   "id": "3520b35f-430f-4186-a59c-4ba6e5646412",
   "metadata": {},
   "source": [
    "# This section is to calculate the eigenpairs for H(F)"
   ]
  },
  {
   "cell_type": "code",
   "execution_count": 1,
   "id": "7ef28402-2aea-4705-aee0-944cf781b1a0",
   "metadata": {},
   "outputs": [
    {
     "name": "stdout",
     "output_type": "stream",
     "text": [
      "\n",
      "SpectralProj: Setting shifted trapezoidal rule quadrature on circular contour\n",
      "SpectralProj: Radius=4, Center=28+0j\n",
      "\n",
      "SpectralProjNG: Computing resolvents using umfpack\n",
      "SpectralProjNG:   Factorizing at z = +31.804 +1.236j\n",
      "SpectralProjNG:   Factorizing at z = +30.351 +3.236j\n",
      "SpectralProjNG:   Factorizing at z = +28.000 +4.000j\n",
      "SpectralProjNG:   Factorizing at z = +25.649 +3.236j\n",
      "SpectralProjNG:   Factorizing at z = +24.196 +1.236j\n",
      "SpectralProjNG:   Factorizing at z = +24.196 -1.236j\n",
      "SpectralProjNG:   Factorizing at z = +25.649 -3.236j\n",
      "SpectralProjNG:   Factorizing at z = +28.000 -4.000j\n",
      "SpectralProjNG:   Factorizing at z = +30.351 -3.236j\n",
      "SpectralProjNG:   Factorizing at z = +31.804 -1.236j\n",
      "\n",
      "=========== Starting FEAST iterations ===========\n",
      "Trying with 10 vectors:\n",
      "\n",
      " ITERATION 1 with 10 vectors\n",
      "   Real part of computed eigenvalues:\n",
      "   [24.62756093 24.6643055  25.50322809 26.8331355  26.84884798 30.37423483\n",
      " 30.66220534 30.8999435  31.43572596 32.73039521]\n",
      "   Relative Hausdorff distance from prior iterate: 3.571e+98\n",
      "\n",
      " ITERATION 2 with 10 vectors\n",
      "   Real part of computed eigenvalues:\n",
      "   [24.62457304 24.62465079 25.49592899 26.83205502 26.83279938 30.36931356\n",
      " 30.65772441 30.89408818 31.43254657 32.72462077]\n",
      "   Relative Hausdorff distance from prior iterate: 1.416e-03\n",
      "\n",
      " ITERATION 3 with 10 vectors\n",
      "   Real part of computed eigenvalues:\n",
      "   [24.62455481 24.6246423  25.49592297 26.8320481  26.83279833 30.36930999\n",
      " 30.65772224 30.89408457 31.43254419 32.72436551]\n",
      "   Relative Hausdorff distance from prior iterate: 9.116e-06\n",
      "\n",
      "   Removing ew#[9] not enclosed by contour\n",
      " ITERATION 4 with 9 vectors\n",
      "   Real part of computed eigenvalues:\n",
      "   [24.62455478 24.62464229 25.49592297 26.83204809 26.83279833 30.36930998\n",
      " 30.65772223 30.89408456 31.43254419]\n",
      "   Relative Hausdorff distance from prior iterate: 1.271e-09\n",
      "\n",
      " ITERATION 5 with 9 vectors\n",
      "   Real part of computed eigenvalues:\n",
      "   [24.62455478 24.62464229 25.49592297 26.83204809 26.83279833 30.36930998\n",
      " 30.65772223 30.89408456 31.43254419]\n",
      "   Relative Hausdorff distance from prior iterate: 2.438e-12\n",
      "\n",
      "\n",
      "***FEAST converged with:\n",
      "\tRelative Hausdorff distance = 2.438e-12\n",
      "\n",
      "============= FEAST iterations done =============\n",
      "Total Time 7.088198184967041 FEAST Time 6.040459871292114\n"
     ]
    },
    {
     "data": {
      "application/vnd.jupyter.widget-view+json": {
       "model_id": "e91ad45bbba943d7989bdb7f3a0c7bdd",
       "version_major": 2,
       "version_minor": 0
      },
      "text/plain": [
       "WebGuiWidget(layout=Layout(height='50vh', width='100%'), value={'gui_settings': {}, 'ngsolve_version': '6.2.23…"
      ]
     },
     "metadata": {},
     "output_type": "display_data"
    },
    {
     "data": {
      "text/plain": [
       "BaseWebGuiScene"
      ]
     },
     "execution_count": 1,
     "metadata": {},
     "output_type": "execute_result"
    }
   ],
   "source": [
    "from ngsolve import *\n",
    "from ngsolve.webgui import Draw\n",
    "from netgen.occ import *\n",
    "from pyeigfeast import NGvecs, SpectralProjNG\n",
    "import time\n",
    "start1 = time.time()\n",
    "alpha = 90\n",
    "side = 1 \n",
    "\n",
    "domain = WorkPlane().MoveTo(0, 0).Line(side*3).Rotate(alpha).Line(side).Rotate(180-alpha).Line(side*2). \\\n",
    "    Rotate(-(180-alpha)).Line(side*2).Rotate(180-alpha).Line(side).Rotate(alpha).Line(side*3).Face()\n",
    "geo = OCCGeometry(domain, dim = 2)\n",
    "mesh = Mesh(geo.GenerateMesh(maxh=0.05))\n",
    "a = 25\n",
    "A = CF((-a*y, a*x))\n",
    "\n",
    "X = H1(mesh, order=3)\n",
    "N = NumberSpace(mesh)\n",
    "fesm = X*N\n",
    "\n",
    "u, lam = fesm.TrialFunction()\n",
    "v, c = fesm.TestFunction()\n",
    "gfm = GridFunction(fesm)  # solution\n",
    "gfu, gflam = gfm.components\n",
    "\n",
    "a = BilinearForm(fesm)\n",
    "a += lam*v*dx + grad(u)*grad(v)*dx + u*c*dx\n",
    "a.Assemble()\n",
    "f = LinearForm(A*grad(v)*dx).Assemble()\n",
    "\n",
    "gfm.vec.data = a.mat.Inverse() * f.vec\n",
    "F = A - grad(gfu)\n",
    "\n",
    "Xeig = H1(mesh, order=3, complex = True)\n",
    "psi, phi = Xeig.TnT()\n",
    "a2 = BilinearForm(Xeig)\n",
    "a2 += grad(psi) * grad(phi) * dx + 1j *  InnerProduct(F,grad(phi)) * psi * dx - 1j * InnerProduct(F , grad(psi)) * phi * dx\\\n",
    "    +  InnerProduct(F, F)* psi * phi *dx\n",
    "b2 = BilinearForm(Xeig)\n",
    "\n",
    "b2 += psi * phi * dx\n",
    "a2.Assemble()\n",
    "b2.Assemble()\n",
    "\n",
    "seed =1\n",
    "npts=10\n",
    "nspan= 10\n",
    "within=None\n",
    "rhoinv=0.0\n",
    "quadrule='circ_trapez_shift'\n",
    "verbose=True\n",
    "# Make the spectral projector object, radius = 4, center = 28 for all h\n",
    "P = SpectralProjNG(Xeig,\n",
    "                   a2.mat,\n",
    "                   b2.mat,\n",
    "                   radius=4,\n",
    "                   center=28,\n",
    "                   npts=npts,\n",
    "                   within=within,\n",
    "                   rhoinv=rhoinv,\n",
    "                   quadrule=quadrule,\n",
    "                   inverse=None)\n",
    "Y = NGvecs(Xeig, nspan, M=b2.mat)\n",
    "Y.setrandom(seed=seed)\n",
    "start2 = time.time()\n",
    "lam, Y, history, _ = P.feast(Y)\n",
    "end = time.time()\n",
    "print(\"Total Time\", end - start1, \"FEAST Time\", end - start2)\n",
    "y1 = Y.gridfun()\n",
    "Draw(y1)"
   ]
  },
  {
   "cell_type": "markdown",
   "id": "cf2e55f7-05fe-454a-b7b0-4465e110bb88",
   "metadata": {},
   "source": [
    "Calculate the $L^2$ norm of $\\nabla \\phi$ and $F\\phi$"
   ]
  },
  {
   "cell_type": "code",
   "execution_count": 2,
   "id": "92149214",
   "metadata": {},
   "outputs": [
    {
     "name": "stdout",
     "output_type": "stream",
     "text": [
      "(11.837157579794106+0j) (11.882442276809583+0j)\n",
      "(11.836179985523676+0j) (11.88148466789254+0j)\n",
      "(14.413314531706877+0j) (14.413425116253624+0j)\n",
      "(12.302921348210711+0j) (12.221508369812287+0j)\n",
      "(12.296587758953548+0j) (12.212956816252+0j)\n",
      "(20.025638099013364+0j) (20.008943538248513+0j)\n"
     ]
    }
   ],
   "source": [
    "for i in range(0,6):\n",
    "    phi = GridFunction(Xeig)\n",
    "    phi.Set(y1.MDComponent(i))\n",
    "    print(sqrt(Integrate(grad(phi)*Conj(grad(phi)), mesh)), sqrt(Integrate(F*phi*Conj(F*phi), mesh)))"
   ]
  }
 ],
 "metadata": {
  "kernelspec": {
   "display_name": "Python 3 (ipykernel)",
   "language": "python",
   "name": "python3"
  },
  "language_info": {
   "codemirror_mode": {
    "name": "ipython",
    "version": 3
   },
   "file_extension": ".py",
   "mimetype": "text/x-python",
   "name": "python",
   "nbconvert_exporter": "python",
   "pygments_lexer": "ipython3",
   "version": "3.8.0"
  }
 },
 "nbformat": 4,
 "nbformat_minor": 5
}

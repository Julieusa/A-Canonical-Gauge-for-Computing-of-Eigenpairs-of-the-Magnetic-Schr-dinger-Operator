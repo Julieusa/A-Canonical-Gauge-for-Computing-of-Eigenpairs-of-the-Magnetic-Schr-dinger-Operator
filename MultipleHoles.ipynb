{
 "cells": [
  {
   "cell_type": "code",
   "execution_count": 13,
   "id": "13a256ab-7676-4b70-8864-3660a0657f73",
   "metadata": {},
   "outputs": [
    {
     "data": {
      "application/vnd.jupyter.widget-view+json": {
       "model_id": "12af8b0649a44dd2bd64f220997b2754",
       "version_major": 2,
       "version_minor": 0
      },
      "text/plain": [
       "WebGuiWidget(layout=Layout(height='50vh', width='100%'), value={'gui_settings': {}, 'ngsolve_version': '6.2.23…"
      ]
     },
     "metadata": {},
     "output_type": "display_data"
    },
    {
     "data": {
      "text/plain": [
       "BaseWebGuiScene"
      ]
     },
     "execution_count": 13,
     "metadata": {},
     "output_type": "execute_result"
    }
   ],
   "source": [
    "import time\n",
    "from ngsolve import *\n",
    "from ngsolve.webgui import Draw\n",
    "from netgen.occ import *\n",
    "\n",
    "# Generate computation domain \\Omega_1\n",
    "domain = WorkPlane().MoveTo(-1,-1).Rectangle(2,2).Circle(0.0,0.5,0.1).Reverse().Face() # with a hole with r=0.1 in the center \n",
    "geo = OCCGeometry(domain, dim = 2)\n",
    "# Generate a triangular mesh of mesh-size 0.01, modify maxh value for resutls with h=0.03 and h=0.05\n",
    "mesh = Mesh(geo.GenerateMesh(maxh=0.05))\n",
    "\n",
    "X = H1(mesh, order=1, dirichlet = '.*')\n",
    "\n",
    "# Define trial-function, test-function, and the variation form \n",
    "u,v = X.TnT()\n",
    "gfu = GridFunction(X)  # solution\n",
    "\n",
    "A = BilinearForm(grad(u)*grad(v)*dx).Assemble()\n",
    "rhs = LinearForm(v*dx).Assemble()\n",
    "\n",
    "# print(rhs.vec)\n",
    "#print(A.mat)\n",
    "\n",
    "# the solution field\n",
    "gfu.vec.data = A.mat.Inverse(freedofs=X.FreeDofs()) * rhs.vec\n",
    "Draw(gfu, mesh)"
   ]
  },
  {
   "cell_type": "code",
   "execution_count": 17,
   "id": "fc2423e2-999f-4686-bd89-51b2d5b664d5",
   "metadata": {},
   "outputs": [
    {
     "data": {
      "application/vnd.jupyter.widget-view+json": {
       "model_id": "2ac8d29b29a348e3bde4a47343a9731a",
       "version_major": 2,
       "version_minor": 0
      },
      "text/plain": [
       "WebGuiWidget(layout=Layout(height='50vh', width='100%'), value={'gui_settings': {}, 'ngsolve_version': '6.2.23…"
      ]
     },
     "metadata": {},
     "output_type": "display_data"
    },
    {
     "data": {
      "text/plain": [
       "BaseWebGuiScene"
      ]
     },
     "execution_count": 17,
     "metadata": {},
     "output_type": "execute_result"
    }
   ],
   "source": [
    "import time\n",
    "from ngsolve import *\n",
    "from ngsolve.webgui import Draw\n",
    "from netgen.occ import *\n",
    "\n",
    "# Generate computation domain \\Omega\n",
    "domain = WorkPlane().MoveTo(-1,-1).Rectangle(2,2).Circle(0.0,0.5,0.1).Reverse().Face() # with a hole with r=0.1 in the center \n",
    "domain.edges.Max(Y).name = 'T'\n",
    "domain.edges.Max(X).name = 'R'\n",
    "domain.edges.Min(Y).name = 'B'\n",
    "domain.edges.Min(X).name = 'L'\n",
    "geo = OCCGeometry(domain, dim = 2)\n",
    "# Generate a triangular mesh \n",
    "mesh = Mesh(geo.GenerateMesh(maxh=0.05))\n",
    "# Generate finite element space\n",
    "X = H1(mesh, order=1, dirichlet = 'T|R|B|L')\n",
    "\n",
    "# Define trial-function, test-function, variation forms and solution \n",
    "u,v = X.TnT()\n",
    "A = BilinearForm(grad(u)*grad(v)*dx).Assemble()\n",
    "rhs = LinearForm(v*dx).Assemble()\n",
    "gfu = GridFunction(X)  # solution\n",
    "\n",
    "# the solution field\n",
    "gfu.vec.data = A.mat.Inverse(freedofs=X.FreeDofs()) * rhs.vec\n",
    "Draw(gfu, mesh)"
   ]
  },
  {
   "cell_type": "code",
   "execution_count": 19,
   "id": "7108db29-e6cc-4c69-b4bd-bc626ade9a73",
   "metadata": {},
   "outputs": [
    {
     "data": {
      "application/vnd.jupyter.widget-view+json": {
       "model_id": "8eedff6ccb564602a881d72e1b63e4ac",
       "version_major": 2,
       "version_minor": 0
      },
      "text/plain": [
       "WebGuiWidget(layout=Layout(height='50vh', width='100%'), value={'gui_settings': {}, 'ngsolve_version': '6.2.23…"
      ]
     },
     "metadata": {},
     "output_type": "display_data"
    },
    {
     "data": {
      "text/plain": [
       "BaseWebGuiScene"
      ]
     },
     "execution_count": 19,
     "metadata": {},
     "output_type": "execute_result"
    }
   ],
   "source": [
    "import time\n",
    "from ngsolve import *\n",
    "from ngsolve.webgui import Draw\n",
    "from netgen.occ import *\n",
    "\n",
    "# Generate computation domain \\Omega\n",
    "domain = WorkPlane().MoveTo(-1,-1).Rectangle(2,2).MoveTo(-0.05,0.40).Rectangle(0.2,0.2).Reverse().Circle(-0.8,-0.5,0.1).Reverse().Circle(0.8,-0.5,0.1).Reverse().Face()\n",
    "domain.edges.Max(Y).name = 'T'\n",
    "domain.edges.Max(X).name = 'R'\n",
    "domain.edges.Min(Y).name = 'B'\n",
    "domain.edges.Min(X).name = 'L'\n",
    "geo = OCCGeometry(domain, dim = 2)\n",
    "# Generate a triangular mesh \n",
    "mesh = Mesh(geo.GenerateMesh(maxh=0.05))\n",
    "# Generate finite element space\n",
    "X = H1(mesh, order=1, dirichlet = 'T|R|B|L')\n",
    "\n",
    "# Define trial-function, test-function, variation forms and solution \n",
    "u,v = X.TnT()\n",
    "A = BilinearForm(grad(u)*grad(v)*dx).Assemble()\n",
    "rhs = LinearForm(v*dx).Assemble()\n",
    "gfu = GridFunction(X)  # solution\n",
    "\n",
    "# the solution field\n",
    "gfu.vec.data = A.mat.Inverse(freedofs=X.FreeDofs()) * rhs.vec\n",
    "Draw(gfu, mesh)"
   ]
  },
  {
   "cell_type": "code",
   "execution_count": 22,
   "id": "216d21eb-57a9-4e3e-b6b7-85c4c4bfefbe",
   "metadata": {},
   "outputs": [
    {
     "data": {
      "application/vnd.jupyter.widget-view+json": {
       "model_id": "048290a529da4808b4b4c50e187412b7",
       "version_major": 2,
       "version_minor": 0
      },
      "text/plain": [
       "WebGuiWidget(layout=Layout(height='50vh', width='100%'), value={'gui_settings': {}, 'ngsolve_version': '6.2.23…"
      ]
     },
     "metadata": {},
     "output_type": "display_data"
    },
    {
     "data": {
      "text/plain": [
       "BaseWebGuiScene"
      ]
     },
     "execution_count": 22,
     "metadata": {},
     "output_type": "execute_result"
    }
   ],
   "source": [
    "import time\n",
    "from ngsolve import *\n",
    "from ngsolve.webgui import Draw\n",
    "from netgen.occ import *\n",
    "\n",
    "# Generate computation domain \\Omega\n",
    "domain = WorkPlane().MoveTo(-1,-1).Rectangle(2,2)\n",
    "domain = domain.MoveTo(-0.05,0.40).Rectangle(0.2,0.2).Reverse()\n",
    "domain = domain.Circle(-0.8,-0.5,0.1).Reverse()\n",
    "domain = domain.Circle(0.8,-0.5,0.1).Reverse()\n",
    "domain = domain.Face()\n",
    "domain.edges.Max(Y).name = 'T'\n",
    "domain.edges.Max(X).name = 'R'\n",
    "domain.edges.Min(Y).name = 'B'\n",
    "domain.edges.Min(X).name = 'L'\n",
    "geo = OCCGeometry(domain, dim = 2)\n",
    "# Generate a triangular mesh \n",
    "mesh = Mesh(geo.GenerateMesh(maxh=0.05))\n",
    "# Generate finite element space\n",
    "X = H1(mesh, order=1, dirichlet = 'T|R|B|L')\n",
    "\n",
    "# Define trial-function, test-function, variation forms and solution \n",
    "u,v = X.TnT()\n",
    "A = BilinearForm(grad(u)*grad(v)*dx).Assemble()\n",
    "rhs = LinearForm(v*dx).Assemble()\n",
    "gfu = GridFunction(X)  # solution\n",
    "\n",
    "# the solution field\n",
    "gfu.vec.data = A.mat.Inverse(freedofs=X.FreeDofs()) * rhs.vec\n",
    "Draw(gfu, mesh)"
   ]
  },
  {
   "cell_type": "code",
   "execution_count": 27,
   "id": "45c23419-cdd6-4403-8243-232257cb5fa0",
   "metadata": {},
   "outputs": [
    {
     "data": {
      "application/vnd.jupyter.widget-view+json": {
       "model_id": "aa2ca13c98574c019dfd7d21109135a2",
       "version_major": 2,
       "version_minor": 0
      },
      "text/plain": [
       "WebGuiWidget(layout=Layout(height='50vh', width='100%'), value={'gui_settings': {}, 'ngsolve_version': '6.2.23…"
      ]
     },
     "metadata": {},
     "output_type": "display_data"
    },
    {
     "data": {
      "text/plain": [
       "BaseWebGuiScene"
      ]
     },
     "execution_count": 27,
     "metadata": {},
     "output_type": "execute_result"
    }
   ],
   "source": [
    "import time\n",
    "from ngsolve import *\n",
    "from ngsolve.webgui import Draw\n",
    "from netgen.occ import *\n",
    "\n",
    "# Generate computation domain \\Omega\n",
    "domain = WorkPlane().MoveTo(-1,-1).Rectangle(2,2)\n",
    "m=8\n",
    "d,r= 2.0/m, 2.0/(4*m)\n",
    "for i in range(m):\n",
    "    for j in range(m):\n",
    "        domain = domain.Circle(-1+(i+0.5)*d,-1+(j+0.5)*d,r).Reverse()\n",
    "domain = domain.Face()\n",
    "domain.edges.Max(Y).name = 'T'\n",
    "domain.edges.Max(X).name = 'R'\n",
    "domain.edges.Min(Y).name = 'B'\n",
    "domain.edges.Min(X).name = 'L'\n",
    "geo = OCCGeometry(domain, dim = 2)\n",
    "# Generate a triangular mesh \n",
    "mesh = Mesh(geo.GenerateMesh(maxh=0.05))\n",
    "# Generate finite element space\n",
    "X = H1(mesh, order=1, dirichlet = 'T|R|B|L')\n",
    "\n",
    "# Define trial-function, test-function, variation forms and solution \n",
    "u,v = X.TnT()\n",
    "A = BilinearForm(grad(u)*grad(v)*dx).Assemble()\n",
    "rhs = LinearForm(v*dx).Assemble()\n",
    "gfu = GridFunction(X)  # solution\n",
    "\n",
    "# the solution field\n",
    "gfu.vec.data = A.mat.Inverse(freedofs=X.FreeDofs()) * rhs.vec\n",
    "Draw(gfu, mesh)"
   ]
  },
  {
   "cell_type": "code",
   "execution_count": 28,
   "id": "5629a332-58a2-4a17-8698-ca455f7154c1",
   "metadata": {},
   "outputs": [
    {
     "data": {
      "application/vnd.jupyter.widget-view+json": {
       "model_id": "936364ea78e04fd6a5918329e9d34584",
       "version_major": 2,
       "version_minor": 0
      },
      "text/plain": [
       "WebGuiWidget(layout=Layout(height='50vh', width='100%'), value={'gui_settings': {}, 'ngsolve_version': '6.2.23…"
      ]
     },
     "metadata": {},
     "output_type": "display_data"
    },
    {
     "data": {
      "text/plain": [
       "BaseWebGuiScene"
      ]
     },
     "execution_count": 28,
     "metadata": {},
     "output_type": "execute_result"
    }
   ],
   "source": [
    "import time\n",
    "from ngsolve import *\n",
    "from ngsolve.webgui import Draw\n",
    "from netgen.occ import *\n",
    "\n",
    "# Generate computation domain \\Omega\n",
    "domain = WorkPlane().MoveTo(-1,-1).Rectangle(2,2)\n",
    "m=8\n",
    "d,r= 2.0/m, 2.0/(4*m)\n",
    "for i in range(m):\n",
    "    for j in range(m):\n",
    "        domain = domain.Circle(-1+(i+0.5)*d,-1+(j+0.5)*d,r).Reverse()\n",
    "domain = domain.Face()\n",
    "geo = OCCGeometry(domain, dim = 2)\n",
    "# Generate a triangular mesh \n",
    "mesh = Mesh(geo.GenerateMesh(maxh=0.05))\n",
    "# Generate finite element space\n",
    "X = H1(mesh, order=1, dirichlet = '.*')\n",
    "\n",
    "# Define trial-function, test-function, variation forms and solution \n",
    "u,v = X.TnT()\n",
    "A = BilinearForm(grad(u)*grad(v)*dx).Assemble()\n",
    "rhs = LinearForm(v*dx).Assemble()\n",
    "gfu = GridFunction(X)  # solution\n",
    "\n",
    "# the solution field\n",
    "gfu.vec.data = A.mat.Inverse(freedofs=X.FreeDofs()) * rhs.vec\n",
    "Draw(gfu, mesh)"
   ]
  },
  {
   "cell_type": "code",
   "execution_count": null,
   "id": "c9e90793-e279-4426-85d3-a450965be45e",
   "metadata": {},
   "outputs": [],
   "source": []
  }
 ],
 "metadata": {
  "kernelspec": {
   "display_name": "Python 3 (ipykernel)",
   "language": "python",
   "name": "python3"
  },
  "language_info": {
   "codemirror_mode": {
    "name": "ipython",
    "version": 3
   },
   "file_extension": ".py",
   "mimetype": "text/x-python",
   "name": "python",
   "nbconvert_exporter": "python",
   "pygments_lexer": "ipython3",
   "version": "3.8.0"
  }
 },
 "nbformat": 4,
 "nbformat_minor": 5
}
